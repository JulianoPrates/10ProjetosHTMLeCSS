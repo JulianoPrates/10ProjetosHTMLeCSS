{
  "nbformat": 4,
  "nbformat_minor": 0,
  "metadata": {
    "colab": {
      "provenance": [],
      "collapsed_sections": [
        "5cogif6K_7S9",
        "TsgsqI012bfI",
        "HDCY_N-10xrW",
        "k4Pjnod93X--",
        "Yw3EgH1Y3Nrf",
        "wYSCv1r42EOV",
        "stE1tb9A1vbj",
        "um1RGtVR12VL",
        "h7XcJec41pNT",
        "g3wFhCp205I5",
        "Oe7bT7ySI_4y",
        "SSpvIC4YJULS",
        "bcOdX0O7hiFA",
        "NDUjxnKQhc_a",
        "fsbzfIP_wCOH",
        "FQNtVPRTmQqw",
        "ZEti-t5alu11",
        "GO3H55WF7i3_"
      ],
      "toc_visible": true,
      "authorship_tag": "ABX9TyNe75On0MvoJcv7OTXwcTOx",
      "include_colab_link": true
    },
    "kernelspec": {
      "name": "python3",
      "display_name": "Python 3"
    },
    "language_info": {
      "name": "python"
    }
  },
  "cells": [
    {
      "cell_type": "markdown",
      "metadata": {
        "id": "view-in-github",
        "colab_type": "text"
      },
      "source": [
        "<a href=\"https://colab.research.google.com/github/JulianoPrates/10ProjetosHTMLeCSS/blob/main/Missoes%201%C2%BA%20Semestre/Google_ColabResearch/Trabalhos_Est%C3%A1cio_no_Beecrowd.ipynb\" target=\"_parent\"><img src=\"https://colab.research.google.com/assets/colab-badge.svg\" alt=\"Open In Colab\"/></a>"
      ]
    },
    {
      "cell_type": "markdown",
      "source": [
        "# TESTES"
      ],
      "metadata": {
        "id": "svMhYc6hJld-"
      }
    },
    {
      "cell_type": "code",
      "source": [],
      "metadata": {
        "id": "cfWaXOQKtCnk"
      },
      "execution_count": null,
      "outputs": []
    },
    {
      "cell_type": "code",
      "source": [],
      "metadata": {
        "id": "tc2GcgmdtCTF"
      },
      "execution_count": null,
      "outputs": []
    },
    {
      "cell_type": "code",
      "source": [
        "p = int(82)\n",
        "a = int(176)\n",
        "imc = (((p/(a**2))*100)*100)\n",
        "print(f'o seu IMC é: {imc:.2f}')"
      ],
      "metadata": {
        "colab": {
          "base_uri": "https://localhost:8080/"
        },
        "id": "w2E1lELA7w2o",
        "outputId": "346e7aaf-1f30-42de-c01a-66a5bf3c5e29"
      },
      "execution_count": null,
      "outputs": [
        {
          "output_type": "stream",
          "name": "stdout",
          "text": [
            "o seu IMC é: 26.47\n"
          ]
        }
      ]
    },
    {
      "cell_type": "code",
      "source": [
        "lista = [10, 20, 30, 40]\n",
        "lista.append([1, 2, 3, 4])\n",
        "print(len(lista))"
      ],
      "metadata": {
        "colab": {
          "base_uri": "https://localhost:8080/"
        },
        "id": "O0egP_PECP85",
        "outputId": "b78e323a-e1a0-4d90-da23-586b296b8e90"
      },
      "execution_count": null,
      "outputs": [
        {
          "output_type": "stream",
          "name": "stdout",
          "text": [
            "5\n"
          ]
        }
      ]
    },
    {
      "cell_type": "code",
      "source": [
        "def menorzinho():\n",
        "    while True:\n",
        "        menor = 0\n",
        "        novoArray = []\n",
        "        n = int(input())\n",
        "\n",
        "        for i in range(n):\n",
        "            novoArray.append(i)\n",
        "\n",
        "        menor = sum(novoArray) / 1.5\n",
        "        print(f\"{menor:.0f}\")\n",
        "        break\n",
        "\n",
        "menorzinho()"
      ],
      "metadata": {
        "id": "KDsdCym4bziU",
        "colab": {
          "base_uri": "https://localhost:8080/"
        },
        "outputId": "75656fe0-ebc2-4da1-a6e9-8f480614e052"
      },
      "execution_count": null,
      "outputs": [
        {
          "output_type": "stream",
          "name": "stdout",
          "text": [
            "1\n",
            "0\n"
          ]
        }
      ]
    },
    {
      "cell_type": "code",
      "source": [
        "while True:\n",
        "    soma = 0\n",
        "    n = int(input())\n",
        "    for i in range(0, n):\n",
        "        novoArray = []\n",
        "        novoArray.append(i)\n",
        "        for el in novoArray:\n",
        "            soma = 0\n",
        "            soma += el\n",
        "        menor = soma / 2\n",
        "        print(menor)"
      ],
      "metadata": {
        "id": "id-wX3FQk_ip"
      },
      "execution_count": null,
      "outputs": []
    },
    {
      "cell_type": "code",
      "source": [
        "def findSumSubsets(n):\n",
        "    soma = (n * (n + 1) / 2) * pow(2, n-1)\n",
        "    return (n * (n + 1) / 2) * (1 << (n - 1))\n",
        "\n",
        "n = 4\n",
        "print(findSumSubsets(n))\n"
      ],
      "metadata": {
        "colab": {
          "base_uri": "https://localhost:8080/"
        },
        "id": "fNACMngvZqEJ",
        "outputId": "297e67d6-f500-43f8-dc46-563297d7e715"
      },
      "execution_count": null,
      "outputs": [
        {
          "output_type": "stream",
          "name": "stdout",
          "text": [
            "80.0\n"
          ]
        }
      ]
    },
    {
      "cell_type": "code",
      "source": [
        "arr = [int(x) for x in input().split()]\n",
        "\n",
        "\n",
        "soma = sum(arr)\n",
        "metadeArr = soma / 2\n",
        "\n",
        "print(soma)\n",
        "print(metadeArr)"
      ],
      "metadata": {
        "colab": {
          "base_uri": "https://localhost:8080/"
        },
        "id": "f0Tf6x_YqMx-",
        "outputId": "8b5fc4ee-c0ef-4f44-e8da-56cad8ddf5f1"
      },
      "execution_count": null,
      "outputs": [
        {
          "output_type": "stream",
          "name": "stdout",
          "text": [
            "5\n",
            "5\n",
            "2.5\n"
          ]
        }
      ]
    },
    {
      "cell_type": "code",
      "source": [
        "a = int(3)\n",
        "b = int(2)\n",
        "v = [6, 7, 8, 9]\n",
        "\n",
        "a =(v[2] - v[0]) + a\n",
        "d = a * v[b]\n",
        "\n",
        "print(\"A saida é:\", d,\"\", int('{}{}'.format(v[1], a+2)))\n"
      ],
      "metadata": {
        "id": "35RGr4_jnzFy",
        "colab": {
          "base_uri": "https://localhost:8080/"
        },
        "outputId": "8de7de13-2ad3-4c20-d184-aa7736564a1f"
      },
      "execution_count": null,
      "outputs": [
        {
          "output_type": "stream",
          "name": "stdout",
          "text": [
            "A saida é: 40  77\n"
          ]
        }
      ]
    },
    {
      "cell_type": "code",
      "source": [
        "distancia = int(input())\n",
        "d = 1\n",
        "t = 2\n",
        "tempo = (distancia * d) * t\n",
        "\n",
        "print(f'{tempo} minutos')\n"
      ],
      "metadata": {
        "colab": {
          "base_uri": "https://localhost:8080/"
        },
        "id": "h8NzkbfuJr2C",
        "outputId": "ae27e332-eb19-4132-f934-ff0a2cac4e05"
      },
      "execution_count": null,
      "outputs": [
        {
          "output_type": "stream",
          "name": "stdout",
          "text": [
            "7\n",
            "14 minutos\n"
          ]
        }
      ]
    },
    {
      "cell_type": "code",
      "source": [
        "meuArray = [2, 1, 5]\n",
        "somaTotal = sum(meuArray)\n",
        "\n",
        "while True:\n",
        "  Teste = int(input())\n",
        "  execTeste = Teste - 1\n",
        "  if Teste == 1:\n",
        "    print(1)\n",
        "  print(execTeste)\n",
        "  "
      ],
      "metadata": {
        "id": "P6dfNGVPaU6X"
      },
      "execution_count": null,
      "outputs": []
    },
    {
      "cell_type": "code",
      "source": [
        "# Testes\n",
        "\n",
        "# Retorna verdadeiro se existir uma subsequência de `A[0…n]` com a soma dada\n",
        "def subsetSum(A, n, k):\n",
        " \n",
        "    # retorna true se a soma se tornar 0 (subconjunto encontrado)\n",
        "    if k == 0:\n",
        "        return True\n",
        " \n",
        "    # Caso base: não há itens restantes ou a soma se torna negativa\n",
        "    if n < 0 or k < 0:\n",
        "        return False\n",
        " \n",
        "    # Caso 1. Incluir o item atual `A[n]` no subconjunto e repetir\n",
        "    # para os itens restantes `n-1` com o total restante `k-A[n]`\n",
        "    include = subsetSum(A, n - 1, k - A[n])\n",
        " \n",
        "    # Caso 2. Exclua o item atual `A[n]` do subconjunto e repita para\n",
        "    # os itens restantes `n-1`\n",
        "    exclude = subsetSum(A, n - 1, k)\n",
        " \n",
        "    # retornará true se pudermos obter o subconjunto incluindo ou excluindo o\n",
        "    # item atual\n",
        "    return include or exclude\n",
        " \n",
        " \n",
        "# Problema de soma de subconjunto\n",
        "if __name__ == '__main__':\n",
        " \n",
        "    # Entrada #: um conjunto de itens e uma soma\n",
        "    A = [7, 3, 2, 5, 8]\n",
        "    k = 14\n",
        " \n",
        "    if subsetSum(A, len(A) - 1, k):\n",
        "        print('Subsequence with the given sum exists')\n",
        "    else:\n",
        "        print('Subsequence with the given sum does not exist')"
      ],
      "metadata": {
        "id": "QWeoLdEB9QmZ",
        "colab": {
          "base_uri": "https://localhost:8080/"
        },
        "outputId": "a1587a09-d6e8-48a3-c47f-1fdff65125f3"
      },
      "execution_count": null,
      "outputs": [
        {
          "output_type": "stream",
          "name": "stdout",
          "text": [
            "Subsequence with the given sum exists\n"
          ]
        }
      ]
    },
    {
      "cell_type": "code",
      "source": [
        "# Testes\n",
        "\n",
        "while True:\n",
        "  n = int(input())\n",
        "  if n == 0:\n",
        "    break\n",
        "  l = []\n",
        "  for g in range(n):\n",
        "    l.append(input())\n",
        "  c = True\n",
        "  for i in range(n-1):\n",
        "    for j in range(i+1, n):\n",
        "      if l[i] in l[j]:\n",
        "        c = False\n",
        "  print('Conjunto Bom' if c else 'Conjunto Ruim')"
      ],
      "metadata": {
        "id": "H57QV1X_Xtq6"
      },
      "execution_count": null,
      "outputs": []
    },
    {
      "cell_type": "code",
      "source": [
        "# Teste \n",
        "\n",
        "while True:\n",
        "    n = int(input())\n",
        "    if n == 0:\n",
        "      break\n",
        "    l = []\n",
        "    for g in range(n):\n",
        "      l.append(input())\n",
        "    c = True\n",
        "    for i in range(n-1):\n",
        "      for j in range(i+1, n):\n",
        "        if l[i] in l[j]:\n",
        "          c = False\n",
        "    print('Conjunto Bom' if c else 'Conjunto Ruim')"
      ],
      "metadata": {
        "id": "tpcGxpqSfcnB",
        "colab": {
          "base_uri": "https://localhost:8080/"
        },
        "outputId": "995b0600-cde8-4f93-f091-51436cd0bca6"
      },
      "execution_count": null,
      "outputs": [
        {
          "name": "stdout",
          "output_type": "stream",
          "text": [
            "0\n"
          ]
        }
      ]
    },
    {
      "cell_type": "code",
      "source": [
        "# Teste\n",
        "\n",
        "while True:\n",
        "    n = int(input())\n",
        "    if n == 0: break\n",
        "    l = []\n",
        "    for g in range(n): \n",
        "      l.append(input())\n",
        "    c = True\n",
        "    for i in range(n-1):\n",
        "      for j in range(i+1, n):\n",
        "        if l[i] in l[j]:\n",
        "          c = False\n",
        "    print('Conjunto Bom' if c else 'Conjunto Ruim')"
      ],
      "metadata": {
        "id": "PBnROZpk--yo"
      },
      "execution_count": null,
      "outputs": []
    },
    {
      "cell_type": "code",
      "source": [
        "# Teste\n",
        "\n",
        "def somar(A, B):\n",
        "  valor = A + B\n",
        "  return valor\n",
        "  \n",
        "soma = somar(int(input()), int(input()))\n",
        "print(\"SOMA =\", soma)"
      ],
      "metadata": {
        "id": "pvFR6F38M_XH",
        "colab": {
          "base_uri": "https://localhost:8080/"
        },
        "outputId": "5a9c9ea8-72b2-406b-f018-b8fde65c4649"
      },
      "execution_count": null,
      "outputs": [
        {
          "output_type": "stream",
          "name": "stdout",
          "text": [
            "30\n",
            "10\n",
            "SOMA = 40\n"
          ]
        }
      ]
    },
    {
      "cell_type": "markdown",
      "source": [
        "# Beecrowd exercícios por fora das aulas"
      ],
      "metadata": {
        "id": "9DxaiaOHLvKX"
      }
    },
    {
      "cell_type": "markdown",
      "source": [
        "## Iniciante - Beecrowd"
      ],
      "metadata": {
        "id": "Ogjd5D45w5oq"
      }
    },
    {
      "cell_type": "code",
      "source": [
        "# Problema 1180 - Menor e Posição\n",
        "\n",
        "\"\"\"\n",
        "Faça um programa que leia um valor N. Este N será o tamanho de um vetor X[N]. \n",
        "A seguir, leia cada um dos valores de X, encontre o menor elemento deste \n",
        "vetor e a sua posição dentro do vetor, mostrando esta informação.\n",
        "\n",
        "Entrada\n",
        "A primeira linha de entrada contem um único inteiro N (1 < N < 1000), \n",
        "indicando o número de elementos que deverão ser lidos em seguida para o \n",
        "vetor X[N] de inteiros. A segunda linha contém cada um dos N valores, \n",
        "separados por um espaço. Vale lembrar que nenhuma entrada \n",
        "haverá números repetidos.\n",
        "\n",
        "Saída\n",
        "A primeira linha apresenta a mensagem “Menor valor:” seguida de um espaço e \n",
        "do menor valor lido na entrada. A segunda linha apresenta a \n",
        "mensagem “Posicao:” seguido de um espaço e da posição do vetor \n",
        "na qual se encontra o menor valor lido, lembrando que o vetor \n",
        "inicia na posição zero.\n",
        "2,10,3,1,4,5\n",
        "Exemplo de Entrada          \tExemplo de Saída\n",
        "10                            Menor valor: -5\n",
        "1 2 3 4 -5 6 7 8 9 10         Posicao: 4\n",
        "\"\"\"\n",
        "# ainda não funciona 100%, tem que colocar o vetor\n",
        "def encontrar_minimo(lista):\n",
        "  minimo = lista[0]\n",
        "  for elem in lista:\n",
        "    if(elem < minimo):\n",
        "      minimo = elem\n",
        "  return minimo\n",
        "\n",
        "lista_teste = input(\"\")\n",
        "menor = encontrar_minimo(lista_teste)\n",
        "print(\"Menor valor: {}\".format(menor))\n",
        "posicao = lista_teste.index(menor)\n",
        "print(f\"Posição: {posicao}\")\n"
      ],
      "metadata": {
        "id": "waD5gdyGWJUB"
      },
      "execution_count": null,
      "outputs": []
    },
    {
      "cell_type": "code",
      "source": [
        "# Problema 1104 - Troca de Cartas\n",
        "\n",
        "while True:\n",
        "    a, b = input().split()\n",
        "    if a == b == '0':\n",
        "        break\n",
        "    fa = [int(x) for x in input().split()]\n",
        "    fb = [int(x) for x in input().split()]\n",
        "    a = set(fa)\n",
        "    b = set(fb)\n",
        "    c = b\n",
        "    f = 0\n",
        "    if len(a) < len(b):\n",
        "        c = a\n",
        "        a = b\n",
        "    c = [x for x in c if x not in a]\n",
        "    print(len(c))"
      ],
      "metadata": {
        "id": "0IP7CpXkGvlF"
      },
      "execution_count": null,
      "outputs": []
    },
    {
      "cell_type": "code",
      "source": [
        "# Problema 1078 - Tabuada\n",
        "\n",
        "\"\"\"\n",
        "valor = int(input())\n",
        "\n",
        "for i in range(1, 11):\n",
        "    print(f'{i} x {valor} = {i*valor}')\n",
        "\"\"\"\n",
        "# ou o código abaixo\n",
        "\n",
        "valor = int(input())\n",
        "\n",
        "i = 1\n",
        "while i<=10:\n",
        "   print(f'{i} x {valor} = {i*valor}')\n",
        "   i = i+1"
      ],
      "metadata": {
        "id": "iea6eWw4jxWx"
      },
      "execution_count": null,
      "outputs": []
    },
    {
      "cell_type": "code",
      "source": [
        "# Problema 1075 - Resto 2\n",
        "\n",
        "n = int(input())\n",
        "for i in range(1, 10001):\n",
        "    if i % n == 2:\n",
        "        print(i)\n",
        "\n",
        "  ## ENTRADA\n",
        "# 13"
      ],
      "metadata": {
        "id": "CSy16YBgYW6T"
      },
      "execution_count": null,
      "outputs": []
    },
    {
      "cell_type": "code",
      "source": [
        "# Problema 1074 - Par ou Ímpar\n",
        "\n",
        "n = int(input())\n",
        "for n in range(0, n):\n",
        "    n = int(input())\n",
        "    if n % 2 == 0 and n > 0:\n",
        "        print(\"EVEN POSITIVE\")\n",
        "    elif n % 2 != 0 and n > 0:\n",
        "        print(\"ODD POSITIVE\")\n",
        "    elif n == 0:\n",
        "        print(\"NULL\")\n",
        "    elif n % 2 == 0 and n < 0:\n",
        "        print(\"EVEN NEGATIVE\")\n",
        "    elif n % 2 != 0 and n < 0:\n",
        "        print(\"ODD NEGATIVE\")\n",
        "\n",
        "    ## Entrada\n",
        "# 4\n",
        "# -5\n",
        "# 0\n",
        "# 3\n",
        "# -4\n",
        "\n",
        "    ## Saída\n",
        "# ODD NEGATIVE\n",
        "# NULL\n",
        "# ODD POSITIVE\n",
        "# EVEN NEGATIVE\n"
      ],
      "metadata": {
        "colab": {
          "base_uri": "https://localhost:8080/"
        },
        "id": "LZGHgHzD_oVv",
        "outputId": "34e797d0-936d-4424-e2cb-d4d5704c4671"
      },
      "execution_count": null,
      "outputs": [
        {
          "output_type": "stream",
          "name": "stdout",
          "text": [
            "4\n",
            "-5\n",
            "ODD NEGATIVE\n",
            "0\n",
            "NULL\n",
            "3\n",
            "ODD POSITIVE\n",
            "-4\n",
            "EVEN NEGATIVE\n"
          ]
        }
      ]
    },
    {
      "cell_type": "code",
      "source": [
        "# Problema 1067 - Números ímpares\n",
        "\n",
        "n = int(input())\n",
        "for i in range(1, n + 1):\n",
        "    if i % 2 == 0:\n",
        "        pass\n",
        "    else:\n",
        "        print(i)"
      ],
      "metadata": {
        "id": "6xAEftpeFuhr"
      },
      "execution_count": null,
      "outputs": []
    },
    {
      "cell_type": "code",
      "source": [
        "# Problema 1066 - Pares, Ímpares, Positivos e Negativos\n",
        "\n",
        "contador = 0\n",
        "pares = 0\n",
        "impares = 0\n",
        "positivos = 0\n",
        "negativos = 0\n",
        "\n",
        "while (contador < 5):\n",
        "    x = int(input())\n",
        "    if x%2 == 0:\n",
        "        pares += 1\n",
        "    if x%2 != 0:\n",
        "        impares += 1\n",
        "    if x > 0:\n",
        "        positivos += 1\n",
        "    if x < 0:\n",
        "        negativos += 1\n",
        "    contador += 1\n",
        "\n",
        "print(pares, 'valor(es) par(es)')\n",
        "print(impares, 'valor(es) impar(es)')\n",
        "print(positivos, 'valor(es) positivo(s)')\n",
        "print(negativos, 'valor(es) negativo(s)')\n",
        "\n",
        "# ENTRADAS\n",
        "# -5\n",
        "# 0\n",
        "# -3\n",
        "# -4\n",
        "# 12\n",
        "\n",
        "'''====================================================='''\n",
        "\n",
        "# Outra forma de fazer\n",
        "\n",
        "a = []\n",
        "for i in range(5):\n",
        "    n = int(input())\n",
        "    a.append(int(n))\n",
        "\n",
        "l = 0\n",
        "m = 0\n",
        "o = 0\n",
        "p = 0\n",
        "for j in range(5):\n",
        "    if a[j] % 2 == 0:\n",
        "        l += 1\n",
        "    if a[j] % 2 == 1:\n",
        "        m += 1\n",
        "    if a[j] > 0:\n",
        "        o += 1\n",
        "    if a[j] < 0:\n",
        "        p += 1\n",
        "print(l, \"valor(es) par(es)\")\n",
        "print(m, \"valor(es) impar(es)\")\n",
        "print(o, \"valor(es) positivo(s)\")\n",
        "print(p, \"valor(es) negativo(s)\")"
      ],
      "metadata": {
        "id": "AnNasUFlEk6g"
      },
      "execution_count": null,
      "outputs": []
    },
    {
      "cell_type": "code",
      "source": [
        "# Problema 1064- Positivos e Média\n",
        "\n",
        "pos = 0\n",
        "soma = 0\n",
        "\n",
        "for i in range(6):\n",
        "    x = float(input())\n",
        "    if x > 0:\n",
        "        pos += 1\n",
        "        soma += x\n",
        "media = soma/pos\n",
        "print(pos, 'valores positivos')\n",
        "print('%.1f'%media)\n",
        "\n",
        "  ## ENTRADAS\n",
        "# 7\n",
        "# -5\n",
        "# 6\n",
        "# -3.4\n",
        "# 4.6\n",
        "# 12"
      ],
      "metadata": {
        "id": "Q_ejMY3ZaKoX"
      },
      "execution_count": null,
      "outputs": []
    },
    {
      "cell_type": "code",
      "source": [
        "# Problema 1061 - Tempo de um evento\n",
        "\n",
        "d1 = int(input().split()[1])\n",
        "h1, m1, s1 = map(int, input().split(\":\"))\n",
        "t1 = s1 + m1*60 + h1*60*60 + d1*24*60*60\n",
        "\n",
        "d2 = int(input().split()[1])\n",
        "h2, m2, s2 = map(int, input().split(\":\"))\n",
        "t2 = s2 + m2*60 + h2*60*60 + d2*24*60*60\n",
        "\n",
        "dif = t2 - t1\n",
        "d = dif//(24*60*60)\n",
        "dif = dif%(24*60*60)\n",
        "\n",
        "h = dif//(60*60)\n",
        "dif = dif%(60*60)\n",
        "\n",
        "m = dif//(60)\n",
        "dif = dif%(60)\n",
        "\n",
        "s = dif\n",
        "\n",
        "print(f\"{d} dia(s)\")\n",
        "print(f\"{h} hora(s)\")\n",
        "print(f\"{m} minuto(s)\")\n",
        "print(f\"{s} segundo(s)\")\n",
        "\n",
        "   # ENTRADAS\n",
        "# Dia 5\n",
        "# 08 : 12 : 23\n",
        "# Dia 9\n",
        "# 06 : 13 : 23"
      ],
      "metadata": {
        "colab": {
          "base_uri": "https://localhost:8080/"
        },
        "id": "DeUcSTOVk_ls",
        "outputId": "e95eeb37-457a-4798-db96-f33dc7a686f7"
      },
      "execution_count": null,
      "outputs": [
        {
          "output_type": "stream",
          "name": "stdout",
          "text": [
            "Dia 5\n",
            "08 : 12 : 23\n",
            "Dia 9\n",
            "06 : 13 : 23\n",
            "3 dias(s)\n",
            "22 dias(s)\n",
            "1 dias(s)\n",
            "0 dias(s)\n"
          ]
        }
      ]
    },
    {
      "cell_type": "code",
      "source": [
        "# Problema 1060 - Números Positivos\n",
        "\n",
        "    ## Forma boa e curta de se fazer\n",
        "\n",
        "quantidade = 0\n",
        "\n",
        "for i in range(6):\n",
        "    if float(input()) > 0.0:\n",
        "        quantidade += 1\n",
        "\n",
        "print(quantidade, \"valores positivos\")\n",
        "\n",
        "    ## Forma ruim de fazer mas funciona no Beecrowd\n",
        "\n",
        "quantidade = 0\n",
        "\n",
        "if float(input()) > 0.0:\n",
        "    quantidade = quantidade + 1\n",
        "if float(input()) > 0.0:\n",
        "    quantidade += 1\n",
        "if float(input()) > 0.0:\n",
        "    quantidade += 1\n",
        "if float(input()) > 0.0:\n",
        "    quantidade += 1\n",
        "if float(input()) > 0.0:\n",
        "    quantidade += 1\n",
        "if float(input()) > 0.0:\n",
        "    quantidade += 1\n",
        "\n",
        "print(quantidade, \"valores positivos\")\n",
        "\n"
      ],
      "metadata": {
        "id": "AqJwfsXJBs5a"
      },
      "execution_count": null,
      "outputs": []
    },
    {
      "cell_type": "code",
      "source": [
        "# Problema 1059 - Números Pares\n",
        "\n",
        "for i in range(1, 101):\n",
        "    if i % 2 == 0:\n",
        "        print(i)"
      ],
      "metadata": {
        "id": "vV79Tf_LGB6-"
      },
      "execution_count": null,
      "outputs": []
    },
    {
      "cell_type": "code",
      "source": [
        "# Problema 1038 - Lanche\n",
        "\n",
        "id, quantidade = map(int, input().split())\n",
        "valor = 0\n",
        "\n",
        "if id == 1:\n",
        "    valor = 4.0\n",
        "elif id == 2:\n",
        "    valor = 4.5\n",
        "elif id == 3:\n",
        "    valor = 5.0\n",
        "elif id == 4:\n",
        "    valor = 2.0\n",
        "elif id == 5:\n",
        "    valor = 1.5\n",
        "\n",
        "print(f\"Total: R$ {valor*quantidade:.2f}\")\n"
      ],
      "metadata": {
        "colab": {
          "base_uri": "https://localhost:8080/"
        },
        "id": "czKNahyd9Ad-",
        "outputId": "f4c909ef-a844-4775-b078-7140473e705c"
      },
      "execution_count": null,
      "outputs": [
        {
          "output_type": "stream",
          "name": "stdout",
          "text": [
            "3 2\n",
            "Total: R$ 10.00\n"
          ]
        }
      ]
    },
    {
      "cell_type": "code",
      "source": [
        "# Problema 1016 - Distância\n",
        "\n",
        "distancia = int(input())\n",
        "d = 1\n",
        "t = 2\n",
        "tempo = (distancia * d) * t\n",
        "\n",
        "print(f'{tempo} minutos')"
      ],
      "metadata": {
        "id": "0kZnZ6utin2g"
      },
      "execution_count": null,
      "outputs": []
    },
    {
      "cell_type": "code",
      "source": [
        "# Problema 1015 - Distância Entre Dois Pontos\n",
        "\n",
        "\"\"\"\n",
        "EXEMPLOS ENTRADAS:       EXEMPLO SAIDA:\n",
        "1.0 7.0                   4.4721\n",
        "5.0 9.0\n",
        "\"\"\"\n",
        "\n",
        "linha1 = input().split()\n",
        "x1 = float(linha1[0])\n",
        "y1 = float(linha1[1])\n",
        "linha2 = input().split()\n",
        "x2 = float(linha2[0])\n",
        "y2 = float(linha2[1])\n",
        "\n",
        "distancia = ((x2 - x1)**2 + (y2 - y1)**2)**0.5\n",
        "\n",
        "print(f'{distancia:.4f}')"
      ],
      "metadata": {
        "colab": {
          "base_uri": "https://localhost:8080/"
        },
        "id": "6PB89th9dp2h",
        "outputId": "d0632c72-5054-42c7-a4c8-0f757e79608f"
      },
      "execution_count": null,
      "outputs": [
        {
          "output_type": "stream",
          "name": "stdout",
          "text": [
            "-2.5 0.4\n",
            "12.1 7.3\n",
            "16.1484\n"
          ]
        }
      ]
    },
    {
      "cell_type": "code",
      "source": [
        "# Problema 1014 - Consumo\n",
        "\n",
        "\"\"\"\n",
        "EXEMPLOS ENTRADAS: \n",
        "500\n",
        "35.0\n",
        "\n",
        "2254\n",
        "124.4\n",
        "\"\"\"\n",
        "\n",
        "X = int(input())\n",
        "Y = float(input())\n",
        "\n",
        "consumo = X / Y\n",
        "\n",
        "print(f'{consumo:.3f} km/l')"
      ],
      "metadata": {
        "colab": {
          "base_uri": "https://localhost:8080/"
        },
        "id": "qyYthXLibxi2",
        "outputId": "23f78d38-5300-48a4-8ce6-47eaff293ff5"
      },
      "execution_count": null,
      "outputs": [
        {
          "output_type": "stream",
          "name": "stdout",
          "text": [
            "4554\n",
            "464.6\n",
            "9.802 km/l\n"
          ]
        }
      ]
    },
    {
      "cell_type": "code",
      "source": [
        "# Problema 1013 - O Maior \n",
        "\n",
        "## EXEMPLOS ENTRADAS: 7 14 106  e  217 14 6\n",
        "\n",
        "linha = input().split()\n",
        "a = int(linha[0])\n",
        "b = int(linha[1])\n",
        "c = int(linha[2])\n",
        "maior = a\n",
        "if(b > maior):\n",
        "  maior = b\n",
        "if(c > maior):\n",
        "  maior = c\n",
        "\n",
        "print(f'{maior} eh o maior')"
      ],
      "metadata": {
        "id": "zE0O15jGTedq"
      },
      "execution_count": null,
      "outputs": []
    },
    {
      "cell_type": "code",
      "source": [
        "# Problema 1012 - Área\n",
        "\n",
        "\"\"\" \n",
        "Escreva um programa que leia três valores com ponto flutuante \n",
        "de dupla precisão: A, B e C. Em seguida, calcule e mostre:\n",
        "\n",
        "a) a área do triângulo retângulo que tem A por base e C por altura. ( área=(base*altura)/2 )\n",
        "b) a área do círculo de raio C. (pi = 3.14159) (área = pi*r²)\n",
        "c) a área do trapézio que tem A e B por bases e C por altura. ( área=(base maior + base menor) x altura/2 )\n",
        "d) a área do quadrado que tem lado B.\n",
        "e) a área do retângulo que tem lados A e B.\n",
        "\"\"\"\n",
        "\"\"\"\n",
        "ENTRADA\n",
        "3.0 4.0 5.2\n",
        "\n",
        "SAIDA\n",
        "TRIANGULO: 7.800\n",
        "CIRCULO: 84.949\n",
        "TRAPEZIO: 18.200\n",
        "QUADRADO: 16.000\n",
        "RETANGULO: 12.000\n",
        "\"\"\"\n",
        "\n",
        "linha = input().split()\n",
        "A = float(linha[0])\n",
        "B = float(linha[1])\n",
        "C = float(linha[2])\n",
        "pi = 3.14159\n",
        "\n",
        "triangulo = (A * C) / 2\n",
        "circulo = pi*(C**2)\n",
        "trapezio =(A + B) * C / 2\n",
        "quadrado = B * B\n",
        "retangulo = A * B\n",
        "\n",
        "print(f'TRIANGULO: {triangulo:.3f}')\n",
        "print(f'CIRCULO: {circulo:.3f}')\n",
        "print(f'TRAPEZIO: {trapezio:.3f}')\n",
        "print(f'QUADRADO: {quadrado:.3f}')\n",
        "print(f'RETANGULO: {retangulo:.3f}')"
      ],
      "metadata": {
        "id": "urZJIb-7Nowv"
      },
      "execution_count": null,
      "outputs": []
    },
    {
      "cell_type": "code",
      "source": [
        "# Problema 1011 - Esfera\n",
        "\n",
        "  ## fórmula para calular volume: (4/3)*pi*R³\n",
        "\n",
        "R = float(input())\n",
        "pi = 3.14159\n",
        "\n",
        "volume = float(4/3) * pi * (R**3)\n",
        "\n",
        "# pode usar os dois métodos de print abaixo (escolher um)\n",
        "print(\"VOLUME = %.3f\"%volume)\n",
        "print(f\"VOLUME = {volume:.3f}\")"
      ],
      "metadata": {
        "id": "fxT8X12I8niC"
      },
      "execution_count": null,
      "outputs": []
    },
    {
      "cell_type": "code",
      "source": [
        "# Problema 1010 - Cálculo Simples\n",
        "\n",
        "linha1 = input().split()\n",
        "c1 = int(linha1[0])\n",
        "n1 = int(linha1[1])\n",
        "v1 = float(linha1[2])\n",
        "linha2 = input().split()\n",
        "c2 = int(linha2[0])\n",
        "n2 = int(linha2[1])\n",
        "v2 = float(linha2[2])\n",
        "\n",
        "valor_total = n1 * v1 + n2 * v2\n",
        "\n",
        "# pode usar os dois métodos de print abaixo (escolher um)\n",
        "print(\"VALOR A PAGAR: R$ %.2f\"%valor_total)\n",
        "print(f\"VALOR A PAGAR: R$ {valor_total:.2f}\")\n"
      ],
      "metadata": {
        "id": "Hs9Nx3rQ0TfE"
      },
      "execution_count": null,
      "outputs": []
    },
    {
      "cell_type": "code",
      "source": [
        "# Problema 1009 - Salário com Bônus\n",
        "\n",
        "nome = input()\n",
        "sal = float(input())\n",
        "vendas = float(input())\n",
        "BONUS15 = 0.15\n",
        "\n",
        "comissao = vendas * BONUS15\n",
        "sal_total = sal + comissao\n",
        "\n",
        "print(f'TOTAL = R$ {sal_total:.2f}')"
      ],
      "metadata": {
        "id": "yqZ82eEkxHxd"
      },
      "execution_count": null,
      "outputs": []
    },
    {
      "cell_type": "code",
      "source": [
        "# Problema 1008 - Salário\n",
        "\n",
        "num = int(input())\n",
        "horas = int(input())\n",
        "valor_hora = float(input())\n",
        "\n",
        "sal = (horas * valor_hora)\n",
        "\n",
        "print(f'NUMBER = {num}')\n",
        "print(f'SALARY = U$ {sal:.2f}')"
      ],
      "metadata": {
        "id": "dhutrccYvS7B"
      },
      "execution_count": null,
      "outputs": []
    },
    {
      "cell_type": "code",
      "source": [
        "# Problema 1007 - Diferença\n",
        "\n",
        "A = int(input())\n",
        "B = int(input())\n",
        "C = int(input())\n",
        "D = int(input())\n",
        "\n",
        "DIFERENCA = (A * B - C * D)\n",
        "print(f'DIFERENCA = {DIFERENCA}')"
      ],
      "metadata": {
        "id": "ZuEt8C28t0Ip"
      },
      "execution_count": null,
      "outputs": []
    },
    {
      "cell_type": "code",
      "source": [
        "# Problema 1006 - Média 2\n",
        "\n",
        "A = float(input())\n",
        "B = float(input())\n",
        "C = float(input())\n",
        "media = (A*2 + B*3 + C*5) / 10.0\n",
        "print(\"MEDIA = %.1f\" % media)"
      ],
      "metadata": {
        "id": "ar4tpMehs-en"
      },
      "execution_count": null,
      "outputs": []
    },
    {
      "cell_type": "code",
      "source": [
        "# Problema 1005 - Média 1\n",
        "\n",
        "A = float(input())\n",
        "B = float(input())\n",
        "media = (A*3.5 + B*7.5) / 11.0\n",
        "print(\"MEDIA = %.5f\" % media)"
      ],
      "metadata": {
        "id": "Rx4Lzkk8T6I5"
      },
      "execution_count": null,
      "outputs": []
    },
    {
      "cell_type": "code",
      "source": [
        "# Problema 1004 - Produto Simples\n",
        "\n",
        "a = int(input())\n",
        "b = int(input())\n",
        "PROD = a * b\n",
        "print(f'PROD = {PROD}')"
      ],
      "metadata": {
        "id": "TVz2PSN7RC_h"
      },
      "execution_count": null,
      "outputs": []
    },
    {
      "cell_type": "code",
      "source": [
        "# Problema 1002 - Área do Círculo\n",
        "\n",
        "r = float(input())\n",
        "pi = 3.14159\n",
        "A = (pi * (r ** 2))\n",
        "\n",
        "print(f\"A={A:.4f}\".format(A))"
      ],
      "metadata": {
        "id": "lYfKTrNJM9zC"
      },
      "execution_count": null,
      "outputs": []
    },
    {
      "cell_type": "code",
      "source": [
        "\n",
        "# Problema 1001 - Extremamente Básico\n",
        "\n",
        "A = int(input())\n",
        "B = int(input())\n",
        "\n",
        "X = A + B\n",
        "print(f\"X = {X}\")"
      ],
      "metadata": {
        "id": "wKaSxPWwL4mW"
      },
      "execution_count": null,
      "outputs": []
    },
    {
      "cell_type": "markdown",
      "source": [
        "# Diversos Exercícios"
      ],
      "metadata": {
        "id": "TcPZoVI08g0B"
      }
    },
    {
      "cell_type": "markdown",
      "source": [
        "## Exercícios feitos FORA de aula"
      ],
      "metadata": {
        "id": "5cogif6K_7S9"
      }
    },
    {
      "cell_type": "code",
      "source": [
        "# Somando ímpares\n",
        "\n",
        "def soma_impares(numeros):\n",
        "    total = 0\n",
        "    for num in numeros:\n",
        "        if num % 2 != 0:\n",
        "            total = total + num\n",
        "    return total\n",
        "\n",
        "lista = [1, 2, 3, 4, 5, 6, 7] # lista é mutável\n",
        "print(soma_impares(lista))\n",
        "\n",
        "tupla = (1, 2, 3, 4, 5, 6, 7) # tupla é imutável\n",
        "print(soma_impares(tupla))"
      ],
      "metadata": {
        "id": "TshQdJtz1EUz"
      },
      "execution_count": null,
      "outputs": []
    },
    {
      "cell_type": "code",
      "source": [
        "# Fazer gráficos (linha curva)\n",
        "import matplotlib.pyplot as plt\n",
        "import numpy as np\n",
        "\n",
        "x = np.linspace(0, 2 * np.pi, 200)\n",
        "y = np.sin(x)\n",
        "\n",
        "fig, ax = plt.subplots()\n",
        "ax.plot(x, y)\n",
        "plt.show()"
      ],
      "metadata": {
        "id": "McL1ftzcqxvx"
      },
      "execution_count": null,
      "outputs": []
    },
    {
      "cell_type": "code",
      "source": [
        "# Encerrar o programa\n",
        "sair = False\n",
        "while not sair:\n",
        "    op = input('SAIR para fechar: ')\n",
        "    if op == 'SAIR' or 'sair' or 'Sair':\n",
        "        sair = True\n",
        "        print('Saindo...')"
      ],
      "metadata": {
        "id": "HY6q3nogqLqo"
      },
      "execution_count": null,
      "outputs": []
    },
    {
      "cell_type": "code",
      "source": [
        "# Soma simples de int de uma lista\n",
        "myList = [1, 2, 3, 4, 5, 6, 7, 8, 9, 10]\n",
        "listSum = sum(myList)\n",
        "print(f\"Sum of list -> {listSum}\")"
      ],
      "metadata": {
        "id": "EGCkm6IR1-kE"
      },
      "execution_count": null,
      "outputs": []
    },
    {
      "cell_type": "code",
      "source": [
        "# Converter str em int e somar os valores\n",
        "myList = [\"1\", \"3\", \"5\", \"7\", \"9\"]\n",
        "myNewList = [int(string) for string in myList]\n",
        "sum1 = sum(myNewList)\n",
        "sum2 = sum(number for number in myNewList)\n",
        "print(f\"Sum of list -> {sum1}\")\n",
        "print(f\"Sum of list -> {sum2}\")"
      ],
      "metadata": {
        "id": "bFTS5xzI1vKv"
      },
      "execution_count": null,
      "outputs": []
    },
    {
      "cell_type": "code",
      "source": [
        "# Forma 2 de obter soma de uma lista por iteração sobre a lista\n",
        "myList = [1, 2, 3, 4, 5, 6, 7, 8, 9, 10]\n",
        "length = len(myList)\n",
        "listSum = 0\n",
        "\n",
        "for i in range(length):\n",
        "    listSum += myList[i]\n",
        "\n",
        "print(f\"Sum of list -> {listSum}\")"
      ],
      "metadata": {
        "id": "hrfuPR7S1Rau"
      },
      "execution_count": null,
      "outputs": []
    },
    {
      "cell_type": "code",
      "source": [
        "# Forma 1 de obter soma de uma lista por iteração sobre a lista\n",
        "myList = [1, 2, 3, 4, 5, 6, 7, 8, 9, 10]\n",
        "listSum = 0\n",
        "\n",
        "for number in myList:\n",
        "    listSum += number\n",
        "\n",
        "print(f\"Sum of list -> {listSum}\")"
      ],
      "metadata": {
        "colab": {
          "base_uri": "https://localhost:8080/"
        },
        "id": "f-F0xrMP0jeB",
        "outputId": "a5b08d68-18f1-4cfa-8d9f-1f9e4598ded0"
      },
      "execution_count": null,
      "outputs": [
        {
          "output_type": "stream",
          "name": "stdout",
          "text": [
            "Sum of list -> 55\n"
          ]
        }
      ]
    },
    {
      "cell_type": "code",
      "source": [
        "# Mostra qual elemento aparece nos dois conjuntos\n",
        "A = {0, 1, 3, 5, 7, 9}\n",
        "B = {0, 2, 3, 4, 6, 8}\n",
        "C = A & B \n",
        "print(C)"
      ],
      "metadata": {
        "id": "4BB2D028xnG2"
      },
      "execution_count": null,
      "outputs": []
    },
    {
      "cell_type": "code",
      "source": [
        "# Fomar 2 de unir dois conjuntos\n",
        "A = {0, 1, 3, 5, 7, 9}\n",
        "B = {0, 2, 4, 6, 8}\n",
        "C = A | B \n",
        "print(C)"
      ],
      "metadata": {
        "id": "VoJrSZWexTX8"
      },
      "execution_count": null,
      "outputs": []
    },
    {
      "cell_type": "code",
      "source": [
        "# Fomar 1 de unir dois conjuntos\n",
        "A = {0, 1, 3, 5, 7, 9} \n",
        "B = {0, 2, 4, 6, 8}\n",
        "C = A.union(B)\n",
        "print(C)"
      ],
      "metadata": {
        "id": "mONRNq7sw88q"
      },
      "execution_count": null,
      "outputs": []
    },
    {
      "cell_type": "code",
      "source": [
        "# Limpar toda lista existente\n",
        "nums = set([1, 2, 2, 3, 3, 3])\n",
        "print(\"Números: \", nums)\n",
        "nums.clear()\n",
        "print(\"Números: \", nums)"
      ],
      "metadata": {
        "id": "rFqP6HDxwtVv"
      },
      "execution_count": null,
      "outputs": []
    },
    {
      "cell_type": "code",
      "source": [
        "# Exemplo discard que não causa erro caso o elemento não esteja na lista\n",
        "nums = set([1, 2, 2, 3, 3, 3])\n",
        "nums.discard(4) \n",
        "nums.discard(2)\n",
        "print(nums)"
      ],
      "metadata": {
        "id": "bwk27fDlwa0t"
      },
      "execution_count": null,
      "outputs": []
    },
    {
      "cell_type": "code",
      "source": [
        "# Exemplo deremover elementos da lista, mas causa erro caso elemento não estiver na lista\n",
        "nums = set([1, 2, 2, 3, 3, 3])\n",
        "nums.remove(2)\n",
        "print(\"Números: \", nums)"
      ],
      "metadata": {
        "id": "6QwwTZVawLhF"
      },
      "execution_count": null,
      "outputs": []
    },
    {
      "cell_type": "code",
      "source": [
        "# Retorna a quantidade de elementos duplicados na lista\n",
        "def num_elementos_duplicados(elementos):\n",
        "    return len(elementos) - len(set(elementos))\n",
        "\n",
        "num_elementos_duplicados([1, 2, 2, 3, 3, 3, 4, 4, 4, 4,])"
      ],
      "metadata": {
        "id": "AR6xqO9FyTSi"
      },
      "execution_count": null,
      "outputs": []
    },
    {
      "cell_type": "code",
      "source": [
        "# Retorna a quantidade de elementos únicos (distintos) na lista\n",
        "def num_elementos_distintos(elementos):\n",
        "    return len(set(elementos))\n",
        "\n",
        "num_elementos_distintos([1, 2, 2, 3, 3, 3, 4, 4, 4, 4,])"
      ],
      "metadata": {
        "id": "yRBnQaBjyCJG"
      },
      "execution_count": null,
      "outputs": []
    },
    {
      "cell_type": "code",
      "source": [
        "# Exemplo de criação de sets.\n",
        "numeros = [1, 2, 2, 3, 3, 3]\n",
        "numeros_distintos = set() \n",
        "for num in numeros:\n",
        "    numeros_distintos.add(num) \n",
        "print(\"Números: \", numeros)\n",
        "print(\"Números distintos: \", numeros_distintos)"
      ],
      "metadata": {
        "colab": {
          "base_uri": "https://localhost:8080/"
        },
        "id": "4nGtInbDv2rZ",
        "outputId": "2bf6a523-237d-4009-af21-073666094e39"
      },
      "execution_count": null,
      "outputs": [
        {
          "output_type": "stream",
          "name": "stdout",
          "text": [
            "Números:  [1, 2, 2, 3, 3, 3]\n",
            "Números distintos:  {1, 2, 3}\n"
          ]
        }
      ]
    },
    {
      "cell_type": "code",
      "source": [
        "# Exemplo de criação de sets.\n",
        "numeros = [1, 2, 2, 3, 3, 3]\n",
        "numeros_distintos = set(numeros)\n",
        "print(\"Números: \", numeros)\n",
        "print(\"Números distintos: \", numeros_distintos)"
      ],
      "metadata": {
        "id": "TcwIL9d5vnzA"
      },
      "execution_count": null,
      "outputs": []
    },
    {
      "cell_type": "code",
      "source": [
        "menu = ''' \n",
        " [ 1 ] DEPOSITO \n",
        " [ 2 ] SAQUES \n",
        " [ 3 ] EXTRATO \n",
        " [ 0 ] SAIR \n",
        " =>>> ''' \n",
        "balance = 0 \n",
        "limit = 500 \n",
        "extract = '' \n",
        "number_withdrawals = 0 \n",
        "LIMET_WITHDRAWALS = 3 \n",
        "  \n",
        "while True: \n",
        "    option = input(menu)\n",
        "    if option == '0':\n",
        "      break\n",
        "    if option == '1': \n",
        "        try: \n",
        "            value = float(input('Informe o valor do deposito:')) \n",
        "        except ValueError: \n",
        "            print('Valor \\033[1;31mINCORRETO.\\033[m Tente novamente! ') \n",
        "            continue \n",
        "        if value > 0: \n",
        "            balance += value \n",
        "            extract += f'DEPOSITO:{value:.2f}\\n' \n",
        "            print(f'Valor depositado \\033[1;32m{value:.2f} R$\\033[m') \n",
        "        else: \n",
        "            print('Operação \\033[1;31mFALHOU!\\033[m O valor informado é invalido tente novamente.') \n",
        " \n",
        "    elif option == '2': \n",
        "        value = float(input('Informe o valor de saque: ')) \n",
        "        exceeded_balance = value > balance \n",
        "        exceeded_limit = value > limit \n",
        "        exceeded_withdraw = number_withdrawals >= LIMET_WITHDRAWALS \n",
        "        if exceeded_balance: \n",
        "            print('A operação \\033[1;31mFALHOU!\\033[m Você não tem saldo suficiênte.') \n",
        "        elif exceeded_limit: \n",
        "            print('A operação \\033[1;31mFALHOU!\\033[m O valor do saques excedeu o limite.') \n",
        "        elif exceeded_withdraw: \n",
        "            print('Operação \\033[1;31mFALHOU!\\033[m Numero maximo de saques excedido.') \n",
        "        elif value > 0: \n",
        "            balance -= value \n",
        "            extract += f'SAQUE: R${value:.2f}\\n' \n",
        "            number_withdrawals += 1 \n",
        "            print(f'Saque de \\033[1;32m{value:.2f} R$\\033[m realizado com sucesso.') \n",
        "        else: \n",
        "            print('A operação \\033[1;31mFALHOU!\\033[m O valor informado é invalido.') \n",
        " \n",
        "    elif option == '3': \n",
        "        print('\\n==========EXTRATO==========') \n",
        "        print('\\n\\033[1;31mNÂO\\033[m foram realizadas movimentações.'if not extract else extract) \n",
        "        print(f'\\nSALDO: \\033[4;32mR$ {balance:.2f}\\033[m') \n",
        "        print('====================')\n",
        "    else: \n",
        "        print('Operação \\033[1;31mINVALIDA\\033[m, por favor selecione novamente a operação desejada:')"
      ],
      "metadata": {
        "id": "cZGf0iCxNNtm"
      },
      "execution_count": null,
      "outputs": []
    },
    {
      "cell_type": "code",
      "source": [
        "menu = '''\n",
        "[ 1 ] DEPOSITO\n",
        "[ 2 ] SAQUES\n",
        "[ 3 ] EXTRATO\n",
        "[ 0 ] SAIR\n",
        "=>>> '''\n",
        "balance = 0\n",
        "limit = 500\n",
        "extract = ''\n",
        "number_withdrawals = 0\n",
        "LIMIT_WITHDRAWALS = 3\n",
        "while True:\n",
        "  option = input(menu)\n",
        "  if option == '0':\n",
        "    break\n",
        "  if option == '1':\n",
        "    try:\n",
        "      value = float(input('Informe o valor do deposito: '))\n",
        "    except ValueError:\n",
        "      print('Tente novamente')\n",
        "      continue\n",
        "    if value > 0:\n",
        "      balance += value\n",
        "      extract += f'DEPOSITO: {value:.2f}\\n'\n",
        "      print(f'Valor depositado R$ {value:.2f}')\n",
        "    else:\n",
        "      print('Operação FALHOU! O valor informado é inválido.\\n Tente novamente')"
      ],
      "metadata": {
        "id": "kcqjOaUPacfD"
      },
      "execution_count": null,
      "outputs": []
    },
    {
      "cell_type": "code",
      "source": [
        "# Abacaxi é bom\n",
        "\n",
        "palavra = str(input('Digite uma palavra: '))\n",
        "\n",
        "if palavra == 'ABACAXI':\n",
        "    print('Abacaxi é bom')\n",
        "else:\n",
        "    print('Abacaxi não é bom')"
      ],
      "metadata": {
        "id": "lW4hknAx__p_"
      },
      "execution_count": null,
      "outputs": []
    },
    {
      "cell_type": "code",
      "source": [
        "# TWEET até 140 caracteres e MUTE acima de 140 caracteres\n",
        " \n",
        "T = input()\n",
        "limite = 140\n",
        "contador = len(T)\n",
        "if contador <= limite:\n",
        "    print(\"TWEET\")\n",
        "else:\n",
        "    print(\"MUTE\")"
      ],
      "metadata": {
        "id": "MnAxqC2PAAXL"
      },
      "execution_count": null,
      "outputs": []
    },
    {
      "cell_type": "markdown",
      "source": [
        "### IMC"
      ],
      "metadata": {
        "id": "TsgsqI012bfI"
      }
    },
    {
      "cell_type": "code",
      "source": [
        "# Atividad discursiva IMC = peso/altura**2\n",
        "\n",
        "p = int(82)\n",
        "a = float(1.76)\n",
        "imc = p/a**2 # imc = (((p/(a**2))*100)*100) sem usar float na altura(altura em cm)\n",
        "print(f'o seu IMC é: {imc:.2f}')\n",
        "\n",
        "# ou  ============================================================\n",
        "print('-----------------------------------------')\n",
        "\n",
        "peso = int(input('Digite seu peso: '))\n",
        "altura = float(input('Digite sua altura: '))\n",
        "imc = peso / altura ** 2\n",
        "if imc == (18.5 and 25):\n",
        "    print(f'{imc:.2f} Você está no peso ideal')\n",
        "if imc > 25.1:\n",
        "    print(f'{imc:.2f} Você está acima do peso')\n",
        "\n",
        "# ou  ============================================================\n",
        "print('-----------------------------------------')\n",
        "\n",
        "nome = input(\"Digite seu nome: \")\n",
        "altura = float(input(\"Digite sua altura: \"))\n",
        "peso = int(input(\"Digite seu peso: \"))\n",
        "imc = peso / altura ** 2\n",
        "\n",
        "print('{} tem {} de altura,'.format(nome, altura))\n",
        "print('pesa {} quilos e seu IMC é: '.format(peso))\n",
        "print('{:.0f}'.format(imc))\n",
        "\n",
        "# ou  ============================================================\n",
        "print('-----------------------------------------')\n",
        "\n",
        "peso, altura = int(input(\"Informe seu peso: \")), float(input(\"Informe sua altura com ponto: \"))\n",
        "imc = peso/altura**2\n",
        "\n",
        "print(f'Seu IMC é: {imc:.2f}')\n",
        "\n",
        "if imc < 18.5:\n",
        "    print(\"Baixo peso\")\n",
        "elif imc < 25:\n",
        "    print(\"Peso adequado\")\n",
        "elif imc < 30:\n",
        "    print(\"Sobrepeso\")\n",
        "else:\n",
        "    print(\"Obeso\")\n",
        "\n",
        "# ou  ============================================================\n",
        "print('-----------------------------------------')\n",
        "\n",
        "def calcula_imc(peso, altura):\n",
        "    print(\"Parâmetro peso:\", peso)\n",
        "    print(\"Parâmetro altura:\", altura)\n",
        "    imc = peso/altura**2\n",
        "    print(f\"IMC: {imc:.2f}\")\n",
        "\n",
        "calcula_imc(int(input(\"Insira seu peso: \")), float(input(\"insira sua altura:\")))\n",
        "\n",
        "# ou  ============================================================\n",
        "print('-----------------------------------------')\n",
        "\n",
        "def calcula_imc(peso, altura):\n",
        "    print(\"Parâmetro peso:\", peso)\n",
        "    print(\"Parâmetro altura:\", altura)\n",
        "    imc = peso/altura**2\n",
        "    return imc\n",
        "\n",
        "indice = calcula_imc(altura=1.80, peso=70)\n",
        "print(\"IMC:\", indice)\n",
        "\n",
        "if indice < 18.5:\n",
        "    print(\"Baixo peso\")\n",
        "elif indice < 25:\n",
        "    print(\"Peso adequado\")\n",
        "elif indice < 30:\n",
        "    print(\"Sobrepeso\")\n",
        "else:\n",
        "    print(\"Obeso\")"
      ],
      "metadata": {
        "id": "fduPFZc0AASQ"
      },
      "execution_count": null,
      "outputs": []
    },
    {
      "cell_type": "markdown",
      "source": [
        "## Exercícios feitos em AULA nos módulos\n",
        "\n"
      ],
      "metadata": {
        "id": "MXU1l2gB_lsJ"
      }
    },
    {
      "cell_type": "code",
      "source": [],
      "metadata": {
        "id": "G00JyX11U-SI"
      },
      "execution_count": null,
      "outputs": []
    },
    {
      "cell_type": "code",
      "source": [],
      "metadata": {
        "id": "uInBFdVNU-Uv"
      },
      "execution_count": null,
      "outputs": []
    },
    {
      "cell_type": "code",
      "source": [],
      "metadata": {
        "id": "aymAODhxU-XD"
      },
      "execution_count": null,
      "outputs": []
    },
    {
      "cell_type": "markdown",
      "source": [
        "### Interface Gráfica com botões (import tkinter)"
      ],
      "metadata": {
        "id": "8D0zVfbKUi9U"
      }
    },
    {
      "cell_type": "code",
      "source": [],
      "metadata": {
        "id": "04KfgzUXUx8I"
      },
      "execution_count": null,
      "outputs": []
    },
    {
      "cell_type": "code",
      "source": [],
      "metadata": {
        "id": "eeOUMxrlUx_G"
      },
      "execution_count": null,
      "outputs": []
    },
    {
      "cell_type": "code",
      "source": [
        "# Funciona no PyCharm, aqui não\n",
        "\n",
        "import tkinter\n",
        "from tkinter import Button\n",
        "from tkinter import Entry\n",
        "from tkinter import Label\n",
        "\n",
        "def acao():\n",
        "    print(\"Botão pressionado!\")\n",
        "\n",
        "principal = tkinter.Tk()\n",
        "\n",
        "botao = Button(principal, text=\"Olá\", command=acao)\n",
        "botao.grid(row=0, column=2)\n",
        "\n",
        "texto = Entry(principal)\n",
        "texto.grid(row=0, column=1)\n",
        "\n",
        "etiqueta = Label(principal, text=\"Label\")\n",
        "etiqueta.grid(row=0, column=0)\n",
        "\n",
        "principal.mainloop()"
      ],
      "metadata": {
        "id": "hiQEkrRoDf8L"
      },
      "execution_count": null,
      "outputs": []
    },
    {
      "cell_type": "code",
      "source": [
        "# Funciona no PyCharm, aqui não\n",
        "\n",
        "import tkinter\n",
        "from tkinter import Button\n",
        "\n",
        "def acao():\n",
        "    print(\"Botão pressionado!\")\n",
        "\n",
        "principal = tkinter.Tk()\n",
        "\n",
        "botao = Button(principal, text=\"Olá\")\n",
        "botao.place(x=90, y=25)\n",
        "\n",
        "principal.mainloop()"
      ],
      "metadata": {
        "id": "El2aj5WJUXUA"
      },
      "execution_count": null,
      "outputs": []
    },
    {
      "cell_type": "code",
      "source": [
        "# Funciona no PyCharm, aqui não\n",
        "\n",
        "import tkinter\n",
        "from tkinter import *\n",
        "\n",
        "def funcClique():\n",
        "    print(\"Botão foi pressionado\")\n",
        "\n",
        "principal = tkinter.Tk()\n",
        "\n",
        "frase = Label(master = principal, text = \"Para observar o clique do botão, clique novamente\") # Escreve a frase na janela\n",
        "frase.pack() # vai deixar a frase centralizada perto do topo\n",
        "\n",
        "botao = Button(master = principal, text = \"Clique no botão\", command = funcClique)\n",
        "botao.pack()\n",
        "\n",
        "principal.mainloop()"
      ],
      "metadata": {
        "id": "nfZ_7T0mUx5d"
      },
      "execution_count": null,
      "outputs": []
    },
    {
      "cell_type": "markdown",
      "source": [
        "### Funções def"
      ],
      "metadata": {
        "id": "HDCY_N-10xrW"
      }
    },
    {
      "cell_type": "code",
      "source": [
        "# def com variável local e global\n",
        "\n",
        "def escopo():\n",
        "    global variavel_a  # (Ganha prioridade)\n",
        "    variavel_a = 1  # Variável global (Ganha prioridade)\n",
        "    variavel_b = 2  # Variável local\n",
        "    print(\"Variável A dentro da função:\", variavel_a)\n",
        "    print(\"Variável B dentro da função:\", variavel_b)\n",
        "    print(\"Variável C dentro da função:\", variavel_c)\n",
        "\n",
        "variavel_a = 10  # Variável global (Perde prioridade)\n",
        "variavel_b = 20  # Variável global\n",
        "variavel_c = 30  # Variável global\n",
        "\n",
        "escopo()\n",
        "\n",
        "print(\"Variável A global:\", variavel_a)\n",
        "print(\"Variável B global:\", variavel_b)\n",
        "print(\"Variável C global:\", variavel_c)"
      ],
      "metadata": {
        "colab": {
          "base_uri": "https://localhost:8080/"
        },
        "id": "hd_yiG-NdiS7",
        "outputId": "d7867252-d8c5-4dbd-da99-8e3599b16664"
      },
      "execution_count": null,
      "outputs": [
        {
          "output_type": "stream",
          "name": "stdout",
          "text": [
            "Variável A dentro da função: 1\n",
            "Variável B dentro da função: 2\n",
            "Variável C dentro da função: 30\n",
            "Variável A global: 1\n",
            "Variável B global: 20\n",
            "Variável C global: 30\n"
          ]
        }
      ]
    },
    {
      "cell_type": "code",
      "source": [
        "# def multiplicar\n",
        "\n",
        "def multiplicar():\n",
        "    multiplicador = 3 # Variável local da função multiplicar\n",
        "    print(\"Resultado da multiplicação:\", valor * multiplicador)\n",
        "\n",
        "valor = 10 # Variável global. Todo script tem acesso!\n",
        "multiplicar()\n",
        "print(\"Variável [valor]:\", valor)\n",
        "while True:\n",
        "    if valor < 1000:\n",
        "        print(\"Variável menor que 1000:\", valor)\n",
        "        break"
      ],
      "metadata": {
        "colab": {
          "base_uri": "https://localhost:8080/"
        },
        "id": "mgX4Vb-iDgCh",
        "outputId": "c8848817-1ab6-47be-8c0b-b0569e845887"
      },
      "execution_count": null,
      "outputs": [
        {
          "output_type": "stream",
          "name": "stdout",
          "text": [
            "Resultado da multiplicação: 30\n",
            "Variável [valor]: 10\n",
            "Variável menor que 1000: 10\n"
          ]
        }
      ]
    },
    {
      "cell_type": "code",
      "source": [
        "# Exemplo funções com global de Delta da eq 2º grau (b^2 - 4.a.c)\n",
        "\n",
        "def calculaDelta(a, b, c):\n",
        "    global delta # global atribui diretamente o cálculo a variável delta\n",
        "    # delta da eq 2º grau = b^2 - 4.a.c\n",
        "    delta = b*b - 4*a*c\n",
        "\n",
        "delta = 0\n",
        "\n",
        "a = eval(input(\"Entre com o coeficiente a da equação: \"))\n",
        "b = eval(input(\"Entre com o coeficiente b da equação: \"))\n",
        "c = eval(input(\"Entre com o coeficiente c da equação: \"))\n",
        "\n",
        "calculaDelta(a, b, c)\n",
        "\n",
        "print(f'O valor do delta foi {delta}')\n",
        "\n",
        "# delta > 0: equação tem 2 raízes reais\n",
        "# delta = 0: equação tem 1 raíz real\n",
        "# delta < 0: equação não tem raíz real\n",
        "\n",
        "if delta > 0:\n",
        "    print(\"A equação tem 2 raízes reais.\")\n",
        "elif delta == 0:\n",
        "    print(\"A equação tem 1 raíz real.\")\n",
        "else:\n",
        "    print(\"A equação não tem raíz real.\")"
      ],
      "metadata": {
        "id": "IWwK7V1kDgFb"
      },
      "execution_count": null,
      "outputs": []
    },
    {
      "cell_type": "code",
      "source": [
        "# Exemplo funções de Delta da eq 2º grau (b^2 - 4.a.c)\n",
        "\n",
        "def calculaDelta(a, b, c):\n",
        "    # delta da eq 2º grau = b^2 - 4.a.c\n",
        "    delta = b*b - 4*a*c\n",
        "    return delta\n",
        "\n",
        "delta = 0\n",
        "\n",
        "a = eval(input(\"Entre com o coeficiente a da equação: \"))\n",
        "b = eval(input(\"Entre com o coeficiente b da equação: \"))\n",
        "c = eval(input(\"Entre com o coeficiente c da equação: \"))\n",
        "\n",
        "delta = calculaDelta(a, b, c)\n",
        "\n",
        "print(f'O valor do delta foi {delta}')\n",
        "\n",
        "# delta > 0: equação tem 2 raízes reais\n",
        "# delta = 0: equação tem 1 raíz real\n",
        "# delta < 0: equação não tem raíz real\n",
        "\n",
        "if delta > 0:\n",
        "    print(\"A equação tem 2 raízes reais.\")\n",
        "elif delta == 0:\n",
        "    print(\"A equação tem 1 raíz real.\")\n",
        "else:\n",
        "    print(\"A equação não tem raíz real.\")"
      ],
      "metadata": {
        "colab": {
          "base_uri": "https://localhost:8080/"
        },
        "id": "qLIn1sOEDgH5",
        "outputId": "262e7fa8-921f-4f26-9368-2c8b3db80bae"
      },
      "execution_count": null,
      "outputs": [
        {
          "output_type": "stream",
          "name": "stdout",
          "text": [
            "Entre com o coeficiente a da equação: 1\n",
            "Entre com o coeficiente b da equação: -5\n",
            "Entre com o coeficiente c da equação: 6\n",
            "O valor do delta foi 1\n",
            "A equação tem 2 raízes reais.\n"
          ]
        }
      ]
    },
    {
      "cell_type": "code",
      "source": [
        "# Potenciação (digitar os dois números separados por espaço)\n",
        "\n",
        "def calcula_potencia(expoente):\n",
        "    def potencia(base):\n",
        "        return base**expoente\n",
        "    return potencia\n",
        "    \n",
        "#parte principal do programa\n",
        "def main():\n",
        "    base_expoente = input()\n",
        "    # separa base e expoente, convertendo-os para inteiros\n",
        "    base, expoente = (int(i) for i in base_expoente.split())\n",
        "\n",
        "    # utilizando a função calcula_potencia\n",
        "    potencia_de = calcula_potencia(expoente)\n",
        "    res_potencia = potencia_de(base)\n",
        "    print(f\"{base} elevado a {expoente} = {res_potencia}\")\n",
        "        \n",
        "if __name__ == \"__main__\":\n",
        "        main()"
      ],
      "metadata": {
        "colab": {
          "base_uri": "https://localhost:8080/"
        },
        "id": "dgFxVC7M-RB2",
        "outputId": "e77c77dc-097b-4a1a-eecc-81143690b2e8"
      },
      "execution_count": null,
      "outputs": [
        {
          "output_type": "stream",
          "name": "stdout",
          "text": [
            "2 10\n",
            "2 elevado a 10 = 1024\n"
          ]
        }
      ]
    },
    {
      "cell_type": "code",
      "source": [
        "# script selecao.py\n",
        "\n",
        "def selecionador(seq, teste):\n",
        "   \tselecionados = []\n",
        "   \tfor elemento in seq:\n",
        "        if (teste(elemento)):\n",
        "            selecionados.append(elemento)\n",
        " \treturn selecionados\n",
        "\n",
        "def verifica_par(num):\n",
        "    if num % 2 == 0:\n",
        "        return True\n",
        "    else:\n",
        "        return False\n",
        "\n",
        "#parte principal do programa\n",
        "def main():\n",
        "    lista = [0, 1, 2, 3, 10]\n",
        "    numeros_pares = selecionador(lista, verifica_par)\n",
        "    for num in numeros_pares:\n",
        "        print(f\" {num} -> par\")\n",
        "\n",
        "if __name__ == \"__main__\":\n",
        "    main()"
      ],
      "metadata": {
        "id": "ipiR8ZR0-REY"
      },
      "execution_count": null,
      "outputs": []
    },
    {
      "cell_type": "code",
      "source": [
        "# Iterando a Matriz\n",
        "'''\n",
        "Que tal colocar a mão na massa e praticar a alteração de elemento em uma matriz?\n",
        "Desfaça o o comentário da linha 15 (deletando o caracter #) e informe os \n",
        "parâmetros na chamada da função altera_matriz: substitua o primeiro None \n",
        "pelo valor que você deseja inserir na matriz; o segundo None, pelo índice \n",
        "referente à linha a ser modificada; e o terceiro None, pelo índice referente \n",
        "à coluna. Não se esqueça de clicar em Executar.\n",
        "'''\n",
        "from numpy import array\n",
        "\n",
        "def itera_matriz(matriz):\n",
        "    for linha in matriz:\n",
        "        print('Início de uma nova linha')\n",
        "        for elemento in linha:\n",
        "            print(elemento)\n",
        "\n",
        "def altera_matriz(matriz, elemento, i, j):\n",
        "    matriz[i][j] = elemento\n",
        "    return matriz\n",
        "\n",
        "def main():\n",
        "    matriz = array([[\"Português\", \"Matemática\", \"Química\"], [\"História\", \"Geografia\", \"Física\"]], dtype=str)   \n",
        "    # matriz = altera_matriz(matriz, None, None, None)\n",
        "    itera_matriz(matriz)\n",
        "    \n",
        "if __name__ == \"__main__\":\n",
        "    main()"
      ],
      "metadata": {
        "colab": {
          "base_uri": "https://localhost:8080/"
        },
        "id": "yCUhCNaB5eVZ",
        "outputId": "0e3e656d-662b-4283-d3e5-ffb3b16b2dab"
      },
      "execution_count": null,
      "outputs": [
        {
          "output_type": "stream",
          "name": "stdout",
          "text": [
            "Início de uma nova linha\n",
            "Português\n",
            "Matemática\n",
            "Química\n",
            "Início de uma nova linha\n",
            "História\n",
            "Geografia\n",
            "Física\n"
          ]
        }
      ]
    },
    {
      "cell_type": "code",
      "source": [
        "# Multiplicação de Matrizes (A = 3x3, B = 3x3, M = AxB)\n",
        "\n",
        "def mult_matrizes(A, B):\n",
        "    nLinhasA = len(A)\n",
        "    nColunasA = len(A[0])\n",
        "    nColunasB = len(B[0])\n",
        "\n",
        "    M = []\n",
        "    for linha in range(nLinhasA):\n",
        "        # começando a linha nova em M\n",
        "        M.append([])\n",
        "        for coluna in range(nColunasB):\n",
        "            M[linha].append(0)\n",
        "            for k in range(nColunasA):\n",
        "                M[linha][coluna] += A[linha][k] * B[k][coluna]\n",
        "    return M\n",
        "\n",
        "A = [[1,1,1], [2,2,2], [3,3,3]]\n",
        "B = [[1,1,1], [1,1,1], [1,1,1]]\n",
        "print(mult_matrizes(A, B))\n"
      ],
      "metadata": {
        "colab": {
          "base_uri": "https://localhost:8080/"
        },
        "id": "oHpGQDx35eSi",
        "outputId": "6cac3d2f-310c-4861-ac8b-f385eb4d9c1c"
      },
      "execution_count": null,
      "outputs": [
        {
          "output_type": "stream",
          "name": "stdout",
          "text": [
            "[[3, 3, 3], [6, 6, 6], [9, 9, 9]]\n"
          ]
        }
      ]
    },
    {
      "cell_type": "code",
      "source": [
        "def dividir(x, y):\n",
        "    try:\n",
        "        resultado = x / y\n",
        "        print(\"A resposta é :\", resultado)\n",
        "    except ZeroDivisionError:\n",
        "        print(\"Divisão por zero \")\n",
        "\n",
        "dividir(3, 0)\n",
        "dividir(3, 2)"
      ],
      "metadata": {
        "id": "pwLpxqFLCWSo"
      },
      "execution_count": null,
      "outputs": []
    },
    {
      "cell_type": "code",
      "source": [
        "def func1(x):\n",
        "     x = 10\n",
        "     print(x)\n",
        "\n",
        "x = 0\n",
        "print(x)\n",
        "func1(x)\n",
        "print(x)"
      ],
      "metadata": {
        "id": "EbYKK2XHBgae"
      },
      "execution_count": null,
      "outputs": []
    },
    {
      "cell_type": "code",
      "source": [
        "def rec(n):\n",
        "  if n < 2:\n",
        "    return rec(n - 1)\n",
        "\n",
        "print(rec(1))"
      ],
      "metadata": {
        "id": "X3sRU7z3Bgcj"
      },
      "execution_count": null,
      "outputs": []
    },
    {
      "cell_type": "code",
      "source": [
        "def fibo(n):\n",
        "    if n == 1 or n == 2:\n",
        "        return 1\n",
        "    else:\n",
        "        return fibo(n - 1) + fibo(n - 2)"
      ],
      "metadata": {
        "id": "fReYk3UjA7NV"
      },
      "execution_count": null,
      "outputs": []
    },
    {
      "cell_type": "code",
      "source": [
        "def fatorial(n):\n",
        "  fat = 1\n",
        "  if n == 0 or n == 1:\n",
        "    return fat\n",
        "  else:\n",
        "    for x in range(2, n + 1):\n",
        "      fat = fat*x\n",
        "  return fat"
      ],
      "metadata": {
        "id": "2jf9chggA7UR"
      },
      "execution_count": null,
      "outputs": []
    },
    {
      "cell_type": "code",
      "source": [
        "def fatorial(n):\n",
        "  if n == 0 or n == 1:\n",
        "    return 1\n",
        "  else:\n",
        "    return n*fatorial(n-1)"
      ],
      "metadata": {
        "id": "8h6pxoVBA7Wu"
      },
      "execution_count": null,
      "outputs": []
    },
    {
      "cell_type": "code",
      "source": [
        "def regressiva(x):\n",
        "  if x <= 0:\n",
        "    print(\"Acabou\")\n",
        "  else:\n",
        "    print(x)\n",
        "    regressiva(x-1)"
      ],
      "metadata": {
        "id": "KrX_Z5o9A7Y2"
      },
      "execution_count": null,
      "outputs": []
    },
    {
      "cell_type": "code",
      "source": [
        "def taximetro(distancia):\n",
        "    def calculaMult():\n",
        "        if distancia < 5:\n",
        "            return 1.2\n",
        "        else:\n",
        "            return 1\n",
        "\n",
        "    multiplicador = calculaMult()\n",
        "    largada = 3\n",
        "    km_rodado = 2\n",
        "    valor = (largada + distancia * km_rodado) * multiplicador\n",
        "    return valor\n",
        "\n",
        "\n",
        "dist = eval(input(\"Entre com a distancia a ser percorrida em km: \\n\"))\n",
        "pagamento = taximetro(dist)\n",
        "print(f'O valor a pagar é R$ {pagamento}')"
      ],
      "metadata": {
        "id": "KcamrxmKA7a0"
      },
      "execution_count": null,
      "outputs": []
    },
    {
      "cell_type": "code",
      "source": [
        "def taximetro(distancia, multiplicador=1):\n",
        "  largada = 3\n",
        "  km_rodado = 2\n",
        "  valor = (largada + distancia * \n",
        "  km_rodado) * multiplicador\n",
        "  return valor\n",
        "\n",
        "pagamento = taximetro(3)\n",
        "print(pagamento)"
      ],
      "metadata": {
        "id": "P0jXoZ5_AjFm"
      },
      "execution_count": null,
      "outputs": []
    },
    {
      "cell_type": "code",
      "source": [
        "escolha = 1   # input(\"Escolha uma opção de função: 1 ou 2\\n\")\n",
        "if escolha == \"1\":\n",
        "    def func1(x):\n",
        "        return x + 1\n",
        "    s = func1(10)\n",
        "\n",
        "else:\n",
        "    def func2(x):\n",
        "        return x + 2\n",
        "    s = func2(10)"
      ],
      "metadata": {
        "id": "-rFDdI42AjTA"
      },
      "execution_count": null,
      "outputs": []
    },
    {
      "cell_type": "code",
      "source": [
        "def eh_primo(n):\n",
        "  if(n < 2):\n",
        "    return False\n",
        "  i = n // 2\n",
        "  while(i > 1):\n",
        "    if(n % i == 0):\n",
        "      return False\n",
        "    i = i - 1\n",
        "  return True\n",
        "\n",
        "def imprimir_resultado(numero, resultado):\n",
        "  mensagem = f'O número {numero3} NÃO é primo'\n",
        "  if(resultado):\n",
        "    mensagem = f'O número {numero3} é primo'\n",
        "  return mensagem\n",
        "\n",
        "numero3 = 7\n",
        "resultado = eh_primo(numero3)\n",
        "msg = imprimir_resultado(numero3, resultado)\n",
        "print(msg)"
      ],
      "metadata": {
        "colab": {
          "base_uri": "https://localhost:8080/"
        },
        "id": "ZeTj5QvGAjXA",
        "outputId": "e23d8aa3-ee6f-46ec-cfa9-8e7338f9fc96"
      },
      "execution_count": null,
      "outputs": [
        {
          "output_type": "stream",
          "name": "stdout",
          "text": [
            "O número 7 é primo\n"
          ]
        }
      ]
    },
    {
      "cell_type": "code",
      "source": [
        "def fatorial_recursivo(n):\n",
        "  if((n == 0) or (n == 1)):\n",
        "    return 1\n",
        "  return n*fatorial_recursivo(n-1)\n",
        "\n",
        "numero2 = 5\n",
        "print(f'O fatorial de {numero2} é: {fatorial_recursivo(numero2)}')"
      ],
      "metadata": {
        "id": "qoYEcL74AjfC"
      },
      "execution_count": null,
      "outputs": []
    },
    {
      "cell_type": "code",
      "source": [
        "def fatorial_iterativo(n):\n",
        "  f = 1\n",
        "  for i in range(1, n+1):\n",
        "    f = f*i\n",
        "  return f\n",
        "\n",
        "numero1 = 4\n",
        "print(f'O fatorial de {numero1} é: {fatorial_iterativo(numero1)}')"
      ],
      "metadata": {
        "id": "ghaDzkGJAisl"
      },
      "execution_count": null,
      "outputs": []
    },
    {
      "cell_type": "code",
      "source": [
        "def ehPar(n):\n",
        "  r = (n % 2 == 0)\n",
        "  return r\n",
        "\n",
        "def somar_par(lst):\n",
        "  soma = 0\n",
        "  for num in lst:\n",
        "    if(ehPar(num)):\n",
        "      soma = soma + num\n",
        "  return soma\n",
        "\n",
        "lista = [10, 2, 5, 7, 6, 3]\n",
        "soma = somar_par(lista)\n",
        "print(f'O somatório dos elementos pares da lista é: {soma}')"
      ],
      "metadata": {
        "id": "7_TYjxRVAfmT"
      },
      "execution_count": null,
      "outputs": []
    },
    {
      "cell_type": "code",
      "source": [
        "def encontrar_minimo(lista):\n",
        "  minimo = lista[0]\n",
        "  for elem in lista:\n",
        "    if(elem < minimo):\n",
        "      minimo = elem\n",
        "  return minimo\n",
        "\n",
        "lista_teste = [2,10,3,1,4,5]\n",
        "menor = encontrar_minimo(lista_teste)\n",
        "print(\"O menor elemento da lista é: [{}]\".format(menor))"
      ],
      "metadata": {
        "id": "6Kyu3FRb_ijn"
      },
      "execution_count": null,
      "outputs": []
    },
    {
      "cell_type": "code",
      "source": [
        "def func():\n",
        "    x = 1\n",
        "    print(x)\n",
        "x = 10\n",
        "func()\n",
        "print(x)"
      ],
      "metadata": {
        "id": "x55rntyc8wVA"
      },
      "execution_count": null,
      "outputs": []
    },
    {
      "cell_type": "code",
      "source": [
        "# def\n",
        "\n",
        "def hello():\n",
        "    print('Olá')\n",
        "    print('Mundo')\n",
        "\n",
        "hello() # Funciona como se fosse um print nesse caso"
      ],
      "metadata": {
        "colab": {
          "base_uri": "https://localhost:8080/"
        },
        "id": "uzz7qvOn1SaP",
        "outputId": "5e414bf0-e51f-45da-ce14-dcc9def891ee"
      },
      "execution_count": null,
      "outputs": [
        {
          "output_type": "stream",
          "name": "stdout",
          "text": [
            "Olá\n",
            "Mundo\n"
          ]
        }
      ]
    },
    {
      "cell_type": "markdown",
      "source": [
        "### IMC"
      ],
      "metadata": {
        "id": "k4Pjnod93X--"
      }
    },
    {
      "cell_type": "code",
      "source": [
        "# Argumento fora de ordem, mas definidos pelo nome com return no def\n",
        "\n",
        "def calcula_imc(peso, altura):\n",
        "    print(\"Parâmetro peso:\", peso)\n",
        "    print(\"Parâmetro altura:\", altura)\n",
        "    imc = peso/altura**2\n",
        "    return imc\n",
        "\n",
        "indice = calcula_imc(altura=1.80, peso=70)\n",
        "print(\"IMC:\", indice)\n",
        "\n",
        "if indice < 18.5:\n",
        "    print(\"Baixo peso\")\n",
        "elif indice < 25:\n",
        "    print(\"Peso adequado\")\n",
        "elif indice < 30:\n",
        "    print(\"Sobrepeso\")\n",
        "else:\n",
        "    print(\"Obeso\")"
      ],
      "metadata": {
        "colab": {
          "base_uri": "https://localhost:8080/"
        },
        "id": "CsGlYEnS-RJg",
        "outputId": "35acc871-34b9-49b6-c248-477ea188589f"
      },
      "execution_count": null,
      "outputs": [
        {
          "output_type": "stream",
          "name": "stdout",
          "text": [
            "Parâmetro peso: 70\n",
            "Parâmetro altura: 1.8\n",
            "IMC: 21.604938271604937\n",
            "Peso adequado\n"
          ]
        }
      ]
    },
    {
      "cell_type": "code",
      "source": [
        "# Argumento fora de ordem, mas definidos pelo nome\n",
        "\n",
        "def calcula_imc(peso, altura):\n",
        "    print(\"Parâmetro peso:\", peso)\n",
        "    print(\"Parâmetro altura:\", altura)\n",
        "    imc = peso/altura**2\n",
        "    print(\"IMC:\", imc)\n",
        "\n",
        "calcula_imc(altura=1.80, peso=70)"
      ],
      "metadata": {
        "colab": {
          "base_uri": "https://localhost:8080/"
        },
        "id": "mUKazDQ5-RP-",
        "outputId": "a339f32d-3b9c-46fe-9158-0487d3e0930d"
      },
      "execution_count": null,
      "outputs": [
        {
          "output_type": "stream",
          "name": "stdout",
          "text": [
            "Parâmetro peso: 70\n",
            "Parâmetro altura: 1.8\n",
            "IMC: 21.604938271604937\n"
          ]
        }
      ]
    },
    {
      "cell_type": "code",
      "source": [
        "# def de IMC mais rebuscado\n",
        "\n",
        "def calcula_imc(peso, altura):\n",
        "    print(\"Parâmetro peso:\", peso)\n",
        "    print(\"Parâmetro altura:\", altura)\n",
        "    imc = peso/altura**2\n",
        "    print(f\"IMC: {imc:.2f}\")\n",
        "\n",
        "calcula_imc(int(input(\"Insira seu peso: \")), float(input(\"insira sua altura:\")))"
      ],
      "metadata": {
        "colab": {
          "base_uri": "https://localhost:8080/"
        },
        "id": "v_kA2pWJs9N2",
        "outputId": "1022a3ad-f5f0-4598-d03a-de3bbc47c03f"
      },
      "execution_count": null,
      "outputs": [
        {
          "output_type": "stream",
          "name": "stdout",
          "text": [
            "Insira seu peso: 85\n",
            "insira sua altura:1.75\n",
            "Parâmetro peso: 85\n",
            "Parâmetro altura: 1.75\n",
            "IMC: 27.76\n"
          ]
        }
      ]
    },
    {
      "cell_type": "code",
      "source": [
        "# def de IMC\n",
        "\n",
        "def calcula_imc(peso, altura):\n",
        "    print(\"Parâmetro peso:\", peso)\n",
        "    print(\"Parâmetro altura:\", altura)\n",
        "    imc = peso/altura**2\n",
        "    print(\"IMC:\", imc)\n",
        "\n",
        "calcula_imc(70, 1.80)"
      ],
      "metadata": {
        "colab": {
          "base_uri": "https://localhost:8080/"
        },
        "id": "QWI-3jQy1SVQ",
        "outputId": "3f45cae1-5d51-4c3d-df63-b3202272753c"
      },
      "execution_count": null,
      "outputs": [
        {
          "output_type": "stream",
          "name": "stdout",
          "text": [
            "Parâmetro peso: 70\n",
            "Parâmetro altura: 1.8\n",
            "IMC: 21.604938271604937\n"
          ]
        }
      ]
    },
    {
      "cell_type": "code",
      "source": [
        "# agora funcionou IMC da aula haha\n",
        "\n",
        "peso, altura = int(input(\"Informe seu peso: \")), float(input(\"Informe sua altura com ponto: \"))\n",
        "imc = peso/altura**2\n",
        "\n",
        "print(f'Seu IMC é: {imc:.2f}')\n",
        "\n",
        "if imc < 18.5:\n",
        "    print(\"Baixo peso\")\n",
        "elif imc < 25:\n",
        "    print(\"Peso adequado\")\n",
        "elif imc < 30:\n",
        "    print(\"Sobrepeso\")\n",
        "else:\n",
        "    print(\"Obeso\")"
      ],
      "metadata": {
        "colab": {
          "base_uri": "https://localhost:8080/"
        },
        "id": "-K2PkMpUs9Zg",
        "outputId": "e0227488-6e34-4d01-8792-ef622869581a"
      },
      "execution_count": null,
      "outputs": [
        {
          "output_type": "stream",
          "name": "stdout",
          "text": [
            "Informe seu peso: 85\n",
            "Informe sua altura com ponto: 1.75\n",
            "Seu IMC é: 27.76\n",
            "Sobrepeso\n"
          ]
        }
      ]
    },
    {
      "cell_type": "markdown",
      "source": [
        "### Python orientado a objeto (Encapsulamento)"
      ],
      "metadata": {
        "id": "Yw3EgH1Y3Nrf"
      }
    },
    {
      "cell_type": "code",
      "source": [
        "# Self para definir objeto (nome do arquivo 'pessoa.py')\n",
        "\n",
        "class Pessoa:\n",
        "    def __init__(self, nome, idade): # Atributos da classe Pessoa (nome e idade)\n",
        "        self.nome - nome\n",
        "        self.idade = idade\n",
        "    \n",
        "    def setNome(self, nome): # Atrubir nome\n",
        "        self.nome = nome\n",
        "    \n",
        "    def setIdade(self, idade): # Atrubir idade\n",
        "        self.idade = idade\n",
        "    \n",
        "    def getNome(self): # Informar nome quando solicitado\n",
        "        return self.nome\n",
        "    \n",
        "    def getIdade(self): # Informar idade quando solicitado\n",
        "        return self.idade\n",
        "\n",
        "'''=========================================================================='''\n",
        "\n",
        "from pessoa import Pessoa # Dar nome ao arquivo, do código anterior, de pessoa.py\n",
        "\n",
        "pessoa_1 = Pessoa(\"Fulano da Silva\", 25)\n",
        "\n",
        "print(f'O nome da pessoa_1 é {pessoa_1.getNome()} e a idade é {pessoa_1.getIdade()}.')\n",
        "\n",
        "'''=========================================================================='''\n",
        "\n",
        "from pessoa import Pessoa # Novo arquivo chamado PessoaFisica.py\n",
        "\n",
        "class PessoaFisica(Pessoa) # PessoaFisica herda tudo o que a classe Pessoa já tem\n",
        "    def __init__(self, cpf, nome, idade): # adicionamos o cpf\n",
        "        super().__init__(nome, idade) # definimos o CPF ao objeto\n",
        "        self.CPF = cpf\n",
        "\n",
        "    def setCPF(self, cpf):\n",
        "        self.CPF = cpf\n",
        "\n",
        "    def getCPF(self):\n",
        "        return self.CPF"
      ],
      "metadata": {
        "id": "7p6Fxhpqs9fL"
      },
      "execution_count": null,
      "outputs": []
    },
    {
      "cell_type": "markdown",
      "source": [
        "### Conjuntos, pilhas e tuplas"
      ],
      "metadata": {
        "id": "-qC-lVpI2Nk9"
      }
    },
    {
      "cell_type": "code",
      "source": [
        "# Itens que estão em 1, mas não estão em 2, para obter o conjunto {100, 300}\n",
        "\n",
        "conjunto1 = {100, 200, 300}\n",
        "conjunto2 = {200, 400, 500}\n",
        "conjunto1.difference(conjunto2)"
      ],
      "metadata": {
        "id": "RLLA5h1vtgt_",
        "colab": {
          "base_uri": "https://localhost:8080/"
        },
        "outputId": "9f863881-ffa5-4732-dee6-00545f0b31ee"
      },
      "execution_count": null,
      "outputs": [
        {
          "output_type": "execute_result",
          "data": {
            "text/plain": [
              "{100, 300}"
            ]
          },
          "metadata": {},
          "execution_count": 40
        }
      ]
    },
    {
      "cell_type": "code",
      "source": [
        "# Outras funções internas do conjunto\n",
        "  ## operador |: união;\n",
        "  ## operador &: interseção;\n",
        "  ## operador -: diferença.\n",
        "\n",
        "conjunto_a = {1, 2, 3}\n",
        "conjunto_b = {4, 5, 6}\n",
        "conjunto_b = {3, 4, 5}\n",
        "uniao = conjunto_a | conjunto_b\n",
        "print(uniao)\n",
        "intersecao = conjunto_a & conjunto_b\n",
        "print(intersecao)\n",
        "diferenca = conjunto_a - conjunto_b\n",
        "print(diferenca)\n"
      ],
      "metadata": {
        "colab": {
          "base_uri": "https://localhost:8080/"
        },
        "id": "l7xLuxKv-sb8",
        "outputId": "50f43a9b-8612-4806-d525-dc62b6c0b66c"
      },
      "execution_count": null,
      "outputs": [
        {
          "output_type": "stream",
          "name": "stdout",
          "text": [
            "{1, 2, 3, 4, 5}\n",
            "{3}\n",
            "{1, 2}\n"
          ]
        }
      ]
    },
    {
      "cell_type": "code",
      "source": [
        "# Outras funções internas do conjunto\n",
        "\n",
        "conjunto_a = {1, 2, 3}\n",
        "conjunto_b = {4, 5, 6}\n",
        "conjunto_b = {3, 4, 5}\n",
        "uniao = conjunto_a.union(conjunto_b)\n",
        "print(uniao)\n",
        "intersecao = conjunto_a.intersection(conjunto_b)\n",
        "print(intersecao)\n",
        "diferenca = conjunto_a.difference(conjunto_b)\n",
        "print(diferenca)"
      ],
      "metadata": {
        "colab": {
          "base_uri": "https://localhost:8080/"
        },
        "id": "ATR02J8Y-sfT",
        "outputId": "5cb35fbf-b7fe-4230-962d-866eed5c9487"
      },
      "execution_count": null,
      "outputs": [
        {
          "output_type": "stream",
          "name": "stdout",
          "text": [
            "{1, 2, 3, 4, 5}\n",
            "{3}\n",
            "{1, 2}\n"
          ]
        }
      ]
    },
    {
      "cell_type": "code",
      "source": [
        "# Removendo aleatóriamente do Conjunto\n",
        "\n",
        "conjunto = {'a', 1, 2, 3}\n",
        "print(conjunto)\n",
        "conjunto.pop()\n",
        "print(conjunto)\n",
        "conjunto.pop()\n",
        "print(conjunto)"
      ],
      "metadata": {
        "colab": {
          "base_uri": "https://localhost:8080/"
        },
        "id": "aavHwXFZ5jxs",
        "outputId": "0133bd3b-1e69-41e3-edda-714e167e7125"
      },
      "execution_count": null,
      "outputs": [
        {
          "output_type": "stream",
          "name": "stdout",
          "text": [
            "{1, 2, 3, 'a'}\n",
            "{2, 3, 'a'}\n",
            "{3, 'a'}\n"
          ]
        }
      ]
    },
    {
      "cell_type": "code",
      "source": [
        "# Removendo do Conjunto\n",
        "\n",
        "conjunto = {1, 2, 3, 4, 5}\n",
        "conjunto.discard(1)\n",
        "conjunto.remove(2)\n",
        "print(conjunto)\n",
        "conjunto.discard(5)\n",
        "conjunto.remove(4)\n",
        "print(conjunto)\n",
        "conjunto.clear()\n",
        "print(conjunto)"
      ],
      "metadata": {
        "colab": {
          "base_uri": "https://localhost:8080/"
        },
        "id": "gv1ewKTc80-8",
        "outputId": "b34a3e2d-43f8-4d22-dc82-167b8f289561"
      },
      "execution_count": null,
      "outputs": [
        {
          "output_type": "stream",
          "name": "stdout",
          "text": [
            "{3, 4, 5}\n",
            "{3}\n",
            "set()\n"
          ]
        }
      ]
    },
    {
      "cell_type": "code",
      "source": [
        "# Adicionando ao Conjunto\n",
        "\n",
        "conjunto = set()\n",
        "conjunto.add(1)\n",
        "conjunto.add(2)\n",
        "print(conjunto)\n",
        "conjunto.add(2) # ← por não poder conter itens duplicados, a inserção é ignorada\n",
        "print(conjunto)\n",
        "conjunto.add(5)\n",
        "print(conjunto)"
      ],
      "metadata": {
        "colab": {
          "base_uri": "https://localhost:8080/"
        },
        "id": "bsYH2tdI81Br",
        "outputId": "beb54117-985c-4e6e-b9c3-e5d85431f4ee"
      },
      "execution_count": null,
      "outputs": [
        {
          "output_type": "stream",
          "name": "stdout",
          "text": [
            "{1, 2}\n",
            "{1, 2}\n",
            "{1, 2, 5}\n"
          ]
        }
      ]
    },
    {
      "cell_type": "code",
      "source": [
        "# Iterando o Conjunto\n",
        "\n",
        "conjunto = {'a', 1, 2020, (28, 12), 'a'} # ← itens duplicados são automaticamente removidos\n",
        "for elemento in conjunto:\n",
        "    print(elemento)"
      ],
      "metadata": {
        "colab": {
          "base_uri": "https://localhost:8080/"
        },
        "id": "vHIOz_Kb5j14",
        "outputId": "673ac060-4448-48d7-b18d-05a571e43199"
      },
      "execution_count": null,
      "outputs": [
        {
          "output_type": "stream",
          "name": "stdout",
          "text": [
            "1\n",
            "(28, 12)\n",
            "2020\n",
            "a\n"
          ]
        }
      ]
    },
    {
      "cell_type": "code",
      "source": [
        "# Definindo um conjunto 2\n",
        "conjunto = {1,2,3}\n",
        "conjunto1 = set()\n",
        "conjunto2 = set()\n",
        "conjunto1 = set((1,2,3))\n",
        "conjunto2 = set([1,2,3])\n",
        "\n",
        "print(conjunto)\n",
        "print(conjunto1)\n",
        "print(conjunto2)"
      ],
      "metadata": {
        "colab": {
          "base_uri": "https://localhost:8080/"
        },
        "id": "GDj1D1aw57y6",
        "outputId": "0aee4d89-7414-4fc6-f257-26a8be911a29"
      },
      "execution_count": null,
      "outputs": [
        {
          "output_type": "stream",
          "name": "stdout",
          "text": [
            "{1, 2, 3}\n",
            "{1, 2, 3}\n",
            "{1, 2, 3}\n"
          ]
        }
      ]
    },
    {
      "cell_type": "code",
      "source": [
        "import collections\n",
        "\n",
        "Pessoa = collections.namedtuple('Pessoa', 'nome idade')\n",
        "\n",
        "joao = Pessoa(nome = 'João', idade = 20)\n",
        "print(joao.nome)\n",
        "print(joao.idade)"
      ],
      "metadata": {
        "colab": {
          "base_uri": "https://localhost:8080/"
        },
        "id": "crkRK5aw5j7f",
        "outputId": "5958cc5c-50d1-4511-83f9-762c4366e5e1"
      },
      "execution_count": null,
      "outputs": [
        {
          "output_type": "stream",
          "name": "stdout",
          "text": [
            "João\n",
            "20\n"
          ]
        }
      ]
    },
    {
      "cell_type": "code",
      "source": [
        "# Iterando a tupla (for)\n",
        "\n",
        "tupla = ('a', 'b', [1, 2, 3], (1, 2, 3))\n",
        "for elemento in tupla:\n",
        "    print(elemento)"
      ],
      "metadata": {
        "colab": {
          "base_uri": "https://localhost:8080/"
        },
        "id": "LX87l8Uu29A1",
        "outputId": "c5d20ef6-7a17-445b-8dc2-f673b0f2f8a3"
      },
      "execution_count": null,
      "outputs": [
        {
          "output_type": "stream",
          "name": "stdout",
          "text": [
            "a\n",
            "b\n",
            "[1, 2, 3]\n",
            "(1, 2, 3)\n"
          ]
        }
      ]
    },
    {
      "cell_type": "code",
      "source": [
        "# Encontrando o índice do elemento (index)\n",
        "\n",
        "tupla = ('a', 'b', 'c')\n",
        "indice_a = tupla.index('a')\n",
        "print(indice_a)"
      ],
      "metadata": {
        "colab": {
          "base_uri": "https://localhost:8080/"
        },
        "id": "yv6WMk8Y29Dr",
        "outputId": "4bc37614-e8ae-4e66-8e05-5414952d2881"
      },
      "execution_count": null,
      "outputs": [
        {
          "output_type": "stream",
          "name": "stdout",
          "text": [
            "0\n"
          ]
        }
      ]
    },
    {
      "cell_type": "code",
      "source": [
        "# Acessando dados da Tupla (tuple)\n",
        "\n",
        "tupla = ('a', 'b', 'c')\n",
        "item = tupla[2]\n",
        "print(item)"
      ],
      "metadata": {
        "colab": {
          "base_uri": "https://localhost:8080/"
        },
        "id": "4TO91-2J29GM",
        "outputId": "a1c595a5-ee69-457f-bdc4-11f69283aee4"
      },
      "execution_count": null,
      "outputs": [
        {
          "output_type": "stream",
          "name": "stdout",
          "text": [
            "c\n"
          ]
        }
      ]
    },
    {
      "cell_type": "code",
      "source": [
        "# Definindo uma Tupla\n",
        "\n",
        "tupla = (1, 'Hello', [1, 2], (3,4))\n",
        "print(tupla)"
      ],
      "metadata": {
        "id": "dUJwg3Ev40oR",
        "colab": {
          "base_uri": "https://localhost:8080/"
        },
        "outputId": "363ed421-7613-4615-e152-2b00f2850cfe"
      },
      "execution_count": null,
      "outputs": [
        {
          "output_type": "stream",
          "name": "stdout",
          "text": [
            "(1, 'Hello', [1, 2], (3, 4))\n"
          ]
        }
      ]
    },
    {
      "cell_type": "code",
      "source": [
        "# Manipulando os dados da fila\n",
        "\n",
        "fila = []\n",
        "fila.append(1)\n",
        "fila.append(2)\n",
        "fila.append(3)\n",
        "print(fila)\n",
        "fila.append(4)  # ← último elemento inserido\n",
        "print(fila)\n",
        "fila.pop(0)  # ← retorna e remove o primeiro elemento\n",
        "print(fila) # ← o 2 passa a ser o primeiro elemento\n",
        "fila.pop() # ← retorna e remove o primeiro elemento\n",
        "print(fila) # ← o 3 passa a ser o primeiro elemento"
      ],
      "metadata": {
        "colab": {
          "base_uri": "https://localhost:8080/"
        },
        "id": "kj8hFUAtyPUy",
        "outputId": "49d60d38-092c-444a-d6f2-72cc36122ad4"
      },
      "execution_count": null,
      "outputs": [
        {
          "output_type": "stream",
          "name": "stdout",
          "text": [
            "[1, 2, 3]\n",
            "[1, 2, 3, 4]\n",
            "[2, 3, 4]\n",
            "[2, 3]\n"
          ]
        }
      ]
    },
    {
      "cell_type": "code",
      "source": [
        "# Manipulando os dados da pilha/lista\n",
        "\n",
        "pilha = []\n",
        "pilha.append(1)\n",
        "pilha.append(2)\n",
        "pilha.append(3)\n",
        "print(pilha)\n",
        "pilha.append(4) # ← último elemento inserido\n",
        "print(pilha)\n",
        "pilha.pop()  # ← retorna e remove o último elemento\n",
        "print(pilha)  # ← o 3 passa a ser o último elemento\n",
        "pilha.pop() # ← retorna e remove o último elemento\n",
        "print(pilha)  # ← o 2 passa a ser o último elemento    "
      ],
      "metadata": {
        "colab": {
          "base_uri": "https://localhost:8080/"
        },
        "id": "ECQE46JSyPXR",
        "outputId": "ea6ecc91-0696-4172-d0c1-b10e353a48c8"
      },
      "execution_count": null,
      "outputs": [
        {
          "output_type": "stream",
          "name": "stdout",
          "text": [
            "[1, 2, 3]\n",
            "[1, 2, 3, 4]\n",
            "[1, 2, 3]\n",
            "[1, 2]\n"
          ]
        }
      ]
    },
    {
      "cell_type": "markdown",
      "source": [
        "### Listas e Vetores"
      ],
      "metadata": {
        "id": "wYSCv1r42EOV"
      }
    },
    {
      "cell_type": "code",
      "source": [
        "# somente exemplo de assert com retorno de erro\n",
        "\n",
        "lista = [5, 10, 20]\n",
        "soma = sum(lista)\n",
        "assert soma == 35, \"Aguardando sucesso!\"\n",
        "assert soma !=35, \"Aguardando erro!\"\n",
        "Traceback (most recent call last):\n",
        "File \"<stdin>\", line 1, in <module>\n",
        "AssertionError: Aguardando erro!"
      ],
      "metadata": {
        "id": "DKsCPnNns9cS"
      },
      "execution_count": null,
      "outputs": []
    },
    {
      "cell_type": "code",
      "source": [
        "# Condicionando para filtrar apenas os pares da lista\n",
        "  ## [item for item in lista if item cond]\n",
        "\n",
        "lista = [0, 1, 2, 3, 4, 5, 6]\n",
        "nova_lista = [item for item in lista if item%2 == 0]\n",
        "print(nova_lista)"
      ],
      "metadata": {
        "colab": {
          "base_uri": "https://localhost:8080/"
        },
        "id": "IHykeNLs40rU",
        "outputId": "6b97ab8b-6851-446a-c744-c0492567c28d"
      },
      "execution_count": null,
      "outputs": [
        {
          "output_type": "stream",
          "name": "stdout",
          "text": [
            "[0, 2, 4, 6]\n"
          ]
        }
      ]
    },
    {
      "cell_type": "code",
      "source": [
        "# Compreensão de lista para criar outras listas a partir da primeira\n",
        "  ## [item for item in lista]\n",
        "  \n",
        "lista = [1, 2, 3]\n",
        "nova_lista = [item*2 for item in lista]\n",
        "print(nova_lista)"
      ],
      "metadata": {
        "colab": {
          "base_uri": "https://localhost:8080/"
        },
        "id": "PLNfSUa-2YkM",
        "outputId": "7ed229d8-9c70-4385-c0ce-825ac488923f"
      },
      "execution_count": null,
      "outputs": [
        {
          "output_type": "stream",
          "name": "stdout",
          "text": [
            "[2, 4, 6]\n"
          ]
        }
      ]
    },
    {
      "cell_type": "code",
      "source": [
        "# Operadores numa lista (==, +, *) e condicionantes (if)\n",
        "\n",
        "lista1 = [1, 2, 3]\n",
        "lista2 = [1, 2, 3]\n",
        "lista3 = [4, 5, 6]\n",
        "print(lista1 == lista2)\n",
        "print(lista1 == lista3)\n",
        "if 3 in lista1:\n",
        "  print('Achei o 3!!!')\n",
        "nova_lista = lista1 + lista3\n",
        "print(nova_lista)\n",
        "lista_repetida = lista1 * 4\n",
        "print(lista_repetida)"
      ],
      "metadata": {
        "colab": {
          "base_uri": "https://localhost:8080/"
        },
        "id": "w2lA2q9K2Yng",
        "outputId": "f8454add-d4e1-4072-d0b2-9334d0280765"
      },
      "execution_count": null,
      "outputs": [
        {
          "output_type": "stream",
          "name": "stdout",
          "text": [
            "True\n",
            "False\n",
            "Achei o 3!!!\n",
            "[1, 2, 3, 4, 5, 6]\n",
            "[1, 2, 3, 1, 2, 3, 1, 2, 3, 1, 2, 3]\n"
          ]
        }
      ]
    },
    {
      "cell_type": "code",
      "source": [
        "# Média da soma dos números de uma lista (sum e len)\n",
        "\n",
        "lista = [1, 3, 5, 7, 9]\n",
        "media = sum(lista)/len(lista)\n",
        "print(media)"
      ],
      "metadata": {
        "colab": {
          "base_uri": "https://localhost:8080/"
        },
        "id": "7xW0O1u62YvB",
        "outputId": "75911ac0-6545-4166-c60c-18563b667a8a"
      },
      "execution_count": null,
      "outputs": [
        {
          "output_type": "stream",
          "name": "stdout",
          "text": [
            "5.0\n"
          ]
        }
      ]
    },
    {
      "cell_type": "code",
      "source": [
        "# Tamanho da lista, mínimo, máximo e soma uma lista (len, min, max e sum)\n",
        "\n",
        "lista = [3, 7, 2, 6]\n",
        "print(len(lista))\n",
        "print(min(lista))\n",
        "print(max(lista))\n",
        "print(sum(lista))"
      ],
      "metadata": {
        "colab": {
          "base_uri": "https://localhost:8080/"
        },
        "id": "i9wXmYDe0VbF",
        "outputId": "25533fd7-29e3-4093-b7fe-cef28943f27d"
      },
      "execution_count": null,
      "outputs": [
        {
          "output_type": "stream",
          "name": "stdout",
          "text": [
            "4\n",
            "2\n",
            "7\n",
            "18\n"
          ]
        }
      ]
    },
    {
      "cell_type": "code",
      "source": [
        "# Ordenar e inverter uma lista (sort e reverse)\n",
        "\n",
        "lista = [3, 2, 1, 6, 9]\n",
        "lista.sort()\n",
        "print(lista)\n",
        "lista.reverse()\n",
        "print(lista)"
      ],
      "metadata": {
        "colab": {
          "base_uri": "https://localhost:8080/"
        },
        "id": "TPQ9u0U00Vd4",
        "outputId": "b4d6e679-e63e-4174-d7a1-4c53d9608d40"
      },
      "execution_count": null,
      "outputs": [
        {
          "output_type": "stream",
          "name": "stdout",
          "text": [
            "[1, 2, 3, 6, 9]\n",
            "[9, 6, 3, 2, 1]\n"
          ]
        }
      ]
    },
    {
      "cell_type": "code",
      "source": [
        "# Removendo elementos e limpando uma lista (remove  e clear)\n",
        "\n",
        "lista = ['carro', 'bicicleta', 'moto', 'avião']\n",
        "lista.remove('bicicleta')\n",
        "print(lista)\n",
        "lista.clear()\n",
        "print(lista)"
      ],
      "metadata": {
        "id": "JAeiVjtS0Vna"
      },
      "execution_count": null,
      "outputs": []
    },
    {
      "cell_type": "code",
      "source": [
        "# Juntando, concatenando duas listas (extend)\n",
        "\n",
        "lista_a = [1, 2, 3]\n",
        "lista_b = [4, 5, 6]\n",
        "lista_a.append(lista_b)   # ← lista_b foi adicionada dentro da lista_a como um elemento único\n",
        "print(lista_a) \n",
        "lista_a = [1, 2, 3]\n",
        "lista_a.extend(lista_b)   # ← lista_a e lista_b foram concatenadas\n",
        "print(lista_a)"
      ],
      "metadata": {
        "colab": {
          "base_uri": "https://localhost:8080/"
        },
        "id": "DwjRcJbztgwg",
        "outputId": "c3bd952a-b1ce-470e-d3d8-ef8f31062b22"
      },
      "execution_count": null,
      "outputs": [
        {
          "output_type": "stream",
          "name": "stdout",
          "text": [
            "[1, 2, 3, [4, 5, 6]]\n",
            "[1, 2, 3, 4, 5, 6]\n"
          ]
        }
      ]
    },
    {
      "cell_type": "code",
      "source": [
        "# Alterando a lista (append e insert)\n",
        "\n",
        "lista = list()\n",
        "lista.append('carro')   # ← Inserimos o elemento carro na lista\n",
        "print(lista)\n",
        "lista.append('moto')\n",
        "lista.append('avião')\n",
        "print(lista)\n",
        "lista.insert(1, 'bicicleta')  # ← Inserimos o elemento bicicleta na posição de índice 1\n",
        "print(lista)"
      ],
      "metadata": {
        "colab": {
          "base_uri": "https://localhost:8080/"
        },
        "id": "urG-Et7Ptgy9",
        "outputId": "86782f7e-f245-4844-ffc9-439cb8355fa8"
      },
      "execution_count": null,
      "outputs": [
        {
          "output_type": "stream",
          "name": "stdout",
          "text": [
            "['carro']\n",
            "['carro', 'moto', 'avião']\n",
            "['carro', 'bicicleta', 'moto', 'avião']\n"
          ]
        }
      ]
    },
    {
      "cell_type": "code",
      "source": [
        "# Iterando uma lista com for\n",
        "\n",
        "minha_lista = [1, 'moto', [1, 2, 3]]\n",
        "for elemento in minha_lista:\n",
        "    print(elemento)"
      ],
      "metadata": {
        "colab": {
          "base_uri": "https://localhost:8080/"
        },
        "id": "gF3OkdZktg1R",
        "outputId": "93343d30-fabe-4ffe-8929-c337e7b50fae"
      },
      "execution_count": null,
      "outputs": [
        {
          "output_type": "stream",
          "name": "stdout",
          "text": [
            "1\n",
            "moto\n",
            "[1, 2, 3]\n"
          ]
        }
      ]
    },
    {
      "cell_type": "code",
      "source": [
        "# Exibir ídices e alterar elementos de uma lista\n",
        "\n",
        "lista = ['avião', 'helicóptero', 'carro', 'navio']\n",
        "print(lista)\n",
        "indice_carro = lista.index('carro')  # ← Mostrar índice do carro na lista\n",
        "print(indice_carro)\n",
        "lista[indice_carro] = 'moto'   # ← Alteração do elemento na posição de índice 2 da lista\n",
        "print(lista)"
      ],
      "metadata": {
        "colab": {
          "base_uri": "https://localhost:8080/"
        },
        "id": "sm1PvUQutg3o",
        "outputId": "3e05cdbc-0909-44ae-b196-5ff31dd3cd96"
      },
      "execution_count": null,
      "outputs": [
        {
          "output_type": "stream",
          "name": "stdout",
          "text": [
            "['avião', 'helicóptero', 'carro', 'navio']\n",
            "2\n",
            "['avião', 'helicóptero', 'moto', 'navio']\n"
          ]
        }
      ]
    },
    {
      "cell_type": "code",
      "source": [
        "lista = ['a', 'b', 'c', 'b']\n",
        "indice_c = lista.index('c')\n",
        "print(indice_c)\n",
        "indice_b = lista.index('b')\n",
        "print(indice_b)"
      ],
      "metadata": {
        "id": "cEnz2nJ2tg6L"
      },
      "execution_count": null,
      "outputs": []
    },
    {
      "cell_type": "code",
      "source": [
        "lista = ['a', 'b', 'c', 'b']\n",
        "item = lista[1]\n",
        "print(item)"
      ],
      "metadata": {
        "id": "W1C8hJJQGpsO",
        "colab": {
          "base_uri": "https://localhost:8080/"
        },
        "outputId": "9425fee5-d927-4dc6-b955-b5b43f7712fc"
      },
      "execution_count": null,
      "outputs": [
        {
          "output_type": "stream",
          "name": "stdout",
          "text": [
            "b\n"
          ]
        }
      ]
    },
    {
      "cell_type": "code",
      "source": [
        "from numpy import array\n",
        "vetor1 = array([1, 2, 3, 4], dtype=int)\n",
        "vetor2 = array([0, 0, 0, 0], dtype=int)\n",
        "aux = 0\n",
        "for elemento in vetor1:\n",
        "    vetor2[aux] = elemento*10\n",
        "    aux+=1\n",
        "\n",
        "print(vetor2)"
      ],
      "metadata": {
        "id": "xkXDRSIY5eP8"
      },
      "execution_count": null,
      "outputs": []
    },
    {
      "cell_type": "code",
      "source": [
        "# Altera os dados armazenados nos índices [1][2]\n",
        "from numpy import array\n",
        "cadeiras = array([[\"Português\", \"Matemática\", \"Química\"], [\"História\", \"Geografia\", \"Física\"]], dtype=str)\n",
        "cadeiras[1][2] = 'Cálculo'\n",
        "print(cadeiras[1][2])\n",
        "\n",
        "for elemento in cadeiras:\n",
        "    print(elemento)"
      ],
      "metadata": {
        "colab": {
          "base_uri": "https://localhost:8080/"
        },
        "id": "gfbwlmmn3kT2",
        "outputId": "ad6b372d-818f-4039-f92a-69007e92e12a"
      },
      "execution_count": null,
      "outputs": [
        {
          "output_type": "stream",
          "name": "stdout",
          "text": [
            "Cálculo\n",
            "['Português' 'Matemática' 'Química']\n",
            "['História' 'Geografia' 'Cálculo']\n"
          ]
        }
      ]
    },
    {
      "cell_type": "code",
      "source": [
        "# imprime os dados armazenados nos índices [0][0] e [1][2]\n",
        "from numpy import array\n",
        "cadeiras = array([[\"Português\", \"Matemática\" , \"Química\" ], [\"História\", \"Geografia\" , \"Física\"]], dtype=str)\n",
        "print(cadeiras[0][0])\n",
        "print(cadeiras[1][2])"
      ],
      "metadata": {
        "id": "sUFcyNFkDd0k",
        "colab": {
          "base_uri": "https://localhost:8080/"
        },
        "outputId": "ff11c488-631b-43c5-d372-8a7960f449b5"
      },
      "execution_count": null,
      "outputs": [
        {
          "output_type": "stream",
          "name": "stdout",
          "text": [
            "Português\n",
            "Física\n"
          ]
        }
      ]
    },
    {
      "cell_type": "code",
      "source": [
        "from numpy import array\n",
        "notas_real = array([2, 5, 10, 20, 50, 100], dtype=int)\n",
        "print(notas_real[0])\n",
        "print(notas_real[5])\n",
        "\n",
        "for elemento in notas_real:\n",
        "    print(elemento, end=' - ')"
      ],
      "metadata": {
        "id": "iqsBaBxNDd3r",
        "colab": {
          "base_uri": "https://localhost:8080/"
        },
        "outputId": "0816ba88-3a13-4c46-8243-d6314b6202fe"
      },
      "execution_count": null,
      "outputs": [
        {
          "output_type": "stream",
          "name": "stdout",
          "text": [
            "2\n",
            "100\n",
            "2 - 5 - 10 - 20 - 50 - 100 - "
          ]
        }
      ]
    },
    {
      "cell_type": "code",
      "source": [
        "# Alterando um elemento do vetor(lista)\n",
        "\n",
        "from numpy import array\n",
        "\n",
        "def main():\n",
        "    idades = array([10, 30, 45, 62, 74], dtype=int)\n",
        "    print(f\"vetor antes da insercao: {idades}\")\n",
        "    indice = eval(input()) # recebe o índice\n",
        "    elemento = eval(input()) # recebe o novo elemento\n",
        "    # inserindo o novo elemento escolhido\n",
        "    idades[indice] = elemento\n",
        "    print(f\"vetor depois da insercao: {idades}\")\n",
        "\n",
        "if __name__ == \"__main__\":\n",
        "    main()"
      ],
      "metadata": {
        "id": "Dt2NXp2ODd9K",
        "colab": {
          "base_uri": "https://localhost:8080/"
        },
        "outputId": "fb563f0d-8487-438a-8b70-0002c3b0f5aa"
      },
      "execution_count": null,
      "outputs": [
        {
          "output_type": "stream",
          "name": "stdout",
          "text": [
            "vetor antes da insercao: [10 30 45 62 74]\n",
            "1\n",
            "-25\n",
            "vetor depois da insercao: [ 10 -25  45  62  74]\n"
          ]
        }
      ]
    },
    {
      "cell_type": "code",
      "source": [
        "from numpy import array\n",
        "notas_real = array([2, 5, 10, 20, 50, 100], dtype=int)\n",
        "print(notas_real[0])\n",
        "print(notas_real[5])"
      ],
      "metadata": {
        "colab": {
          "base_uri": "https://localhost:8080/"
        },
        "id": "fME6Oy68yoVr",
        "outputId": "b043bb51-e289-43bf-eaaa-c1a1a5a9aaff"
      },
      "execution_count": null,
      "outputs": [
        {
          "output_type": "stream",
          "name": "stdout",
          "text": [
            "2\n",
            "100\n"
          ]
        }
      ]
    },
    {
      "cell_type": "markdown",
      "source": [
        "### Try e Except"
      ],
      "metadata": {
        "id": "stE1tb9A1vbj"
      }
    },
    {
      "cell_type": "code",
      "source": [
        "try:\n",
        "    num = eval(input(\"Entre com um número inteiro: \"))\n",
        "    print(num)\n",
        "except ValueError:\n",
        "    print(\"Mensagem 1\")\n",
        "except IndexError:\n",
        "    print(\"Mensagem 2\")\n",
        "except:\n",
        "    print(\"Mensagem 3\")"
      ],
      "metadata": {
        "id": "i6ewJFc4Dd_k"
      },
      "execution_count": null,
      "outputs": []
    },
    {
      "cell_type": "code",
      "source": [
        "while True:\n",
        "    try:\n",
        "        x = int(input(\"Digite um número: \"))\n",
        "        break\n",
        "    except ValueError:\n",
        "        print(\"Entre com um número válido:\")"
      ],
      "metadata": {
        "id": "7QPW-TLwCWct"
      },
      "execution_count": null,
      "outputs": []
    },
    {
      "cell_type": "code",
      "source": [
        "try:\n",
        "    x = int(input(\"Digite um número: \"))\n",
        "except ValueError:\n",
        "    print(\"Entre com um número válido:\")"
      ],
      "metadata": {
        "colab": {
          "base_uri": "https://localhost:8080/"
        },
        "id": "VRehNopTCWff",
        "outputId": "e86e8472-e42b-40cd-9c47-3c64ed014492"
      },
      "execution_count": null,
      "outputs": [
        {
          "name": "stdout",
          "output_type": "stream",
          "text": [
            "Digite um número: 1\n"
          ]
        }
      ]
    },
    {
      "cell_type": "markdown",
      "source": [
        "### import exemplos"
      ],
      "metadata": {
        "id": "um1RGtVR12VL"
      }
    },
    {
      "cell_type": "code",
      "source": [
        "import time\n",
        "\n",
        "x = time.time()\n",
        "print(f'Local time: {time.ctime(x)}')"
      ],
      "metadata": {
        "id": "aPZbQhvvCWh2"
      },
      "execution_count": null,
      "outputs": []
    },
    {
      "cell_type": "code",
      "source": [
        "import math\n",
        "\n",
        "x = math.sqrt(5)\n",
        "print(x)\n",
        "\n",
        "y = 5 ** 0.5\n",
        "print(y)"
      ],
      "metadata": {
        "id": "2gFwQj4pCWkX"
      },
      "execution_count": null,
      "outputs": []
    },
    {
      "cell_type": "markdown",
      "source": [
        "### Gráficos"
      ],
      "metadata": {
        "id": "h7XcJec41pNT"
      }
    },
    {
      "cell_type": "code",
      "source": [
        "## Exibir um histograma\n",
        "\n",
        "\"\"\"\n",
        "Gerar 1000 pontos seguindo a distribuição Normal com média 20 e desvio-padrão 2.\n",
        "Além disso, exiba os dados em um histograma.\n",
        "\"\"\"\n",
        "import matplotlib.pyplot as plt\n",
        "import numpy as np\n",
        "np.random.seed(1)\n",
        "dados = np.random.normal(loc=20, scale=2, size=1000)\n",
        "plt.hist(dados, color = \"lightblue\", ec = \"red\")"
      ],
      "metadata": {
        "id": "0EfpXHrBBgOV"
      },
      "execution_count": null,
      "outputs": []
    },
    {
      "cell_type": "code",
      "source": [
        " ## Dados de vendas em gráfico de barras\n",
        "\n",
        "\"\"\"\n",
        "Visualizar dados de vendas de produtos em um gráfico de barras.\n",
        "Ex: x = [\"A\",\"B\",\"C\",\"D\"]\n",
        "    y = [3,8,1,10]\n",
        "\"\"\"\n",
        "import matplotlib.pyplot as plt\n",
        "import numpy as np\n",
        "\n",
        "x = np.array([\"A\", \"B\", \"C\", \"D\"])\n",
        "y = np.array([3, 8, 1, 10])\n",
        "\n",
        "plt.bar(x,y)\n",
        "plt.show()"
      ],
      "metadata": {
        "id": "XwtkLA_mBgVv"
      },
      "execution_count": null,
      "outputs": []
    },
    {
      "cell_type": "markdown",
      "source": [
        "### Equações do segundo grau"
      ],
      "metadata": {
        "id": "kp3zU74h0pzm"
      }
    },
    {
      "cell_type": "code",
      "source": [
        "## Equações do segundo grau\n",
        "\n",
        "\"\"\"\n",
        "Calcular raízes de uma equação do segundo grau.\n",
        "Ex: 1x² + 5x + 6 = 0, as raízes são{-3,-2}.\n",
        "Δ = b² - 4ac\n",
        "x = (-b +- √ Δ)/2a\n",
        "\"\"\"\n",
        "def entrada_dados():\n",
        "    coeficiente = quantidade = eval(input(\"Digite o valor do coeficiente: \"))\n",
        "    return coeficiente\n",
        "\n",
        "def calc_delta(a,b,c):\n",
        "    delta = b*b-4*a*c\n",
        "    return delta\n",
        "\n",
        "import numpy as np\n",
        "def calcular_raizes(a,b,c,delta):\n",
        "    if(delta<0):\n",
        "        resultado='a equação não possui raízes nos números reais'\n",
        "    elif(delta==0):\n",
        "        x=-b/(2*a)\n",
        "        resultado=f'a equação possui apenas a raíz: {x}'\n",
        "    else:\n",
        "        x1=(-b-np.sqrt(delta))/(2*a)\n",
        "        x2=(-b+np.sqrt(delta))/(2*a)\n",
        "        resultado=f'a equação possui as raizes: {x1}, {x2}'\n",
        "    return resultado\n",
        "\n",
        "# f(x)=ax²+bx+c\n",
        "a = entrada_dados()\n",
        "b = entrada_dados()\n",
        "c = entrada_dados()\n",
        "\n",
        "delta = calc_delta(a,b,c)\n",
        "\n",
        "resultado = calcular_raizes(a,b,c,delta)\n",
        "print(resultado)"
      ],
      "metadata": {
        "colab": {
          "base_uri": "https://localhost:8080/"
        },
        "id": "jtCIXOgoBgYM",
        "outputId": "a60357a6-ae37-425f-f2b4-7a67dcdd2a27"
      },
      "execution_count": null,
      "outputs": [
        {
          "output_type": "stream",
          "name": "stdout",
          "text": [
            "Digite o valor do coeficiente: 1\n",
            "Digite o valor do coeficiente: 5\n",
            "Digite o valor do coeficiente: 6\n",
            "a equação possui as raizes: -3.0, -2.0\n"
          ]
        }
      ]
    },
    {
      "cell_type": "code",
      "source": [
        "# Equaçãod od segundo grau com import math\n",
        "\n",
        "import math\n",
        "\n",
        "def calculaDelta(a, b, c):\n",
        "    # delta da eq 2º grau = b^2 - 4.a.c\n",
        "    delta = b*b - 4*a*c\n",
        "    return delta\n",
        "\n",
        "delta = 0\n",
        "\n",
        "a = eval(input(\"Entre com o coeficiente a da equação: \"))\n",
        "b = eval(input(\"Entre com o coeficiente b da equação: \"))\n",
        "c = eval(input(\"Entre com o coeficiente c da equação: \"))\n",
        "\n",
        "delta = calculaDelta(a, b, c)\n",
        "\n",
        "print(f'O valor do delta foi {delta}')\n",
        "\n",
        "# delta > 0: equação tem 2 raízes reais\n",
        "# delta = 0: equação tem 1 raíz real\n",
        "# delta < 0: equação não tem raíz real\n",
        "# f(x) = (-b +- raiz²(delta))/2a\n",
        "\n",
        "if delta > 0:\n",
        "    print(\"A equação tem 2 raízes reais.\")\n",
        "    raiz1 = (-b + math.sqrt(delta))/2*a\n",
        "    raiz2 = (-b - math.sqrt(delta))/2*a\n",
        "    print(f'As raízes são {raiz1} e {raiz2}')\n",
        "elif delta == 0:\n",
        "    print(\"A equação tem 1 raíz real.\")\n",
        "    raiz = (-b + math.sqrt(delta))/2*a\n",
        "    print(f'A raíz é {raiz}')\n",
        "else:\n",
        "    print(\"A equação não tem raíz real.\")\n"
      ],
      "metadata": {
        "colab": {
          "base_uri": "https://localhost:8080/"
        },
        "id": "cGdRVfXM4FLB",
        "outputId": "1a7cd1d9-0c2d-4d2b-a6a9-5ad04947d962"
      },
      "execution_count": 4,
      "outputs": [
        {
          "output_type": "stream",
          "name": "stdout",
          "text": [
            "Entre com o coeficiente a da equação: 1\n",
            "Entre com o coeficiente b da equação: -5\n",
            "Entre com o coeficiente c da equação: 6\n",
            "O valor do delta foi 1\n",
            "A equação tem 2 raízes reais.\n",
            "As raízes são 3.0 e 2.0\n"
          ]
        }
      ]
    },
    {
      "cell_type": "code",
      "source": [
        "def calculaDelta(a, b, c):\n",
        "    global delta # global atribui diretamente o cálculo a variável delta\n",
        "    # delta da eq 2º grau = b^2 - 4.a.c\n",
        "    delta = b*b - 4*a*c\n",
        "\n",
        "delta = 0\n",
        "\n",
        "a = eval(input(\"Entre com o coeficiente a da equação: \"))\n",
        "b = eval(input(\"Entre com o coeficiente b da equação: \"))\n",
        "c = eval(input(\"Entre com o coeficiente c da equação: \"))\n",
        "\n",
        "calculaDelta(a, b, c)\n",
        "\n",
        "print(f'O valor do delta foi {delta}')\n",
        "\n",
        "# delta > 0: equação tem 2 raízes reais\n",
        "# delta = 0: equação tem 1 raíz real\n",
        "# delta < 0: equação não tem raíz real\n",
        "\n",
        "if delta > 0:\n",
        "    print(\"A equação tem 2 raízes reais.\")\n",
        "elif delta == 0:\n",
        "    print(\"A equação tem 1 raíz real.\")\n",
        "else:\n",
        "    print(\"A equação não tem raíz real.\")"
      ],
      "metadata": {
        "id": "t_Ap6E1PHfMu"
      },
      "execution_count": null,
      "outputs": []
    },
    {
      "cell_type": "code",
      "source": [
        "def calculaDelta(a, b, c):\n",
        "    # delta da eq 2º grau = b^2 - 4.a.c\n",
        "    delta = b*b - 4*a*c\n",
        "    return delta\n",
        "\n",
        "delta = 0\n",
        "\n",
        "a = eval(input(\"Entre com o coeficiente a da equação: \"))\n",
        "b = eval(input(\"Entre com o coeficiente b da equação: \"))\n",
        "c = eval(input(\"Entre com o coeficiente c da equação: \"))\n",
        "\n",
        "delta = calculaDelta(a, b, c)\n",
        "\n",
        "print(f'O valor do delta foi {delta}')\n",
        "\n",
        "# delta > 0: equação tem 2 raízes reais\n",
        "# delta = 0: equação tem 1 raíz real\n",
        "# delta < 0: equação não tem raíz real\n",
        "\n",
        "if delta > 0:\n",
        "    print(\"A equação tem 2 raízes reais.\")\n",
        "elif delta == 0:\n",
        "    print(\"A equação tem 1 raíz real.\")\n",
        "else:\n",
        "    print(\"A equação não tem raíz real.\")"
      ],
      "metadata": {
        "colab": {
          "base_uri": "https://localhost:8080/"
        },
        "id": "rFue9LH3FUGv",
        "outputId": "93200824-c9eb-4d57-bff5-986d7e51ba08"
      },
      "execution_count": null,
      "outputs": [
        {
          "output_type": "stream",
          "name": "stdout",
          "text": [
            "Entre com o coeficiente a da equação: 5\n",
            "Entre com o coeficiente b da equação: 10\n",
            "Entre com o coeficiente c da equação: 5\n",
            "O valor do delta foi 0\n",
            "A equação tem 1 raíz real.\n"
          ]
        }
      ]
    },
    {
      "cell_type": "markdown",
      "source": [
        "### Equações simples"
      ],
      "metadata": {
        "id": "g3wFhCp205I5"
      }
    },
    {
      "cell_type": "code",
      "source": [
        "s = 0\n",
        "for i in range(5):\n",
        "  s += 3*i\n",
        "print(s)"
      ],
      "metadata": {
        "id": "ifqzC3I9_hnn"
      },
      "execution_count": null,
      "outputs": []
    },
    {
      "cell_type": "code",
      "source": [
        "s = 0\n",
        "a = 1\n",
        "while s < 5:\n",
        "  s = 3*a\n",
        "  a += 1\n",
        "  print(s)"
      ],
      "metadata": {
        "id": "l7tjVg1k_duk"
      },
      "execution_count": null,
      "outputs": []
    },
    {
      "cell_type": "code",
      "source": [
        "a = 10\n",
        "b = 20\n",
        "if(a>b):\n",
        "  maior = a\n",
        "else:\n",
        "  maior = b\n",
        "print(f'O maior númeor é: {maior}')"
      ],
      "metadata": {
        "id": "nsWUho1n_UIE"
      },
      "execution_count": null,
      "outputs": []
    },
    {
      "cell_type": "code",
      "source": [
        "a = 30\n",
        "b = 50\n",
        "maior = a\n",
        "if(b>maior):\n",
        "  maior = b\n",
        "print(f'O maior número é: {maior}')"
      ],
      "metadata": {
        "id": "F-Iy_P5F_Q2m"
      },
      "execution_count": null,
      "outputs": []
    },
    {
      "cell_type": "code",
      "source": [
        "x = 5 # int(input(\"Digite o número que quer saber se é par ou ímpar: \"))\n",
        "if(x % 2 == 0):\n",
        "  situação = \"O número é par\"\n",
        "else:\n",
        "  situação = \"O número é ímpar\"\n",
        "\n",
        "print(situação)"
      ],
      "metadata": {
        "id": "qsOZc4PV_Mwv"
      },
      "execution_count": null,
      "outputs": []
    },
    {
      "cell_type": "code",
      "source": [
        "media = 8.5 # float(input(\"Digite a nota do aluno: \"))\n",
        "\n",
        "if(media>=7.0):\n",
        "  situação = \"aprovado\"\n",
        "elif(media>=5.0):\n",
        "  situação = \"em recuperação\"\n",
        "else:\n",
        "  situação = \"reprovado\"\n",
        "print(f'O estudante está: {situação}')"
      ],
      "metadata": {
        "id": "mkX48fhz_F4t"
      },
      "execution_count": null,
      "outputs": []
    },
    {
      "cell_type": "code",
      "source": [
        "preco_unitario = 10\n",
        "desconto10 = 0.9\n",
        "desconto20 = 0.8\n",
        "quantidade = 11 # eval(input(\"Digite a quantidade que vai comprar: \"))\n",
        "if(quantidade <= 10):\n",
        "  valor_final = preco_unitario * quantidade\n",
        "elif(quantidade <= 20):\n",
        "  valor_final = preco_unitario * quantidade * (desconto10)\n",
        "else:\n",
        "  valor_final = preco_unitario * quantidade * (desconto20)\n",
        "\n",
        "print(f'O valor final de compra é: {valor_final}')"
      ],
      "metadata": {
        "id": "nBryMLhu--iW"
      },
      "execution_count": null,
      "outputs": []
    },
    {
      "cell_type": "code",
      "source": [
        "lista = [10, 2, 5, 7, 6, 3]\n",
        "n = len(lista)\n",
        "soma = 0\n",
        "for i in range(n):\n",
        "  if(lista[i] % 2 == 0):\n",
        "    soma = soma + lista[i]\n",
        "print(f'O somatório dos elementos pares da lista é: {soma}')"
      ],
      "metadata": {
        "id": "ufYBgGgU-6wv"
      },
      "execution_count": null,
      "outputs": []
    },
    {
      "cell_type": "code",
      "source": [
        "lista = [10, 2, 5, 7, 6, 3]\n",
        "soma = 0\n",
        "for num in lista:\n",
        "  if(num % 2 == 0):\n",
        "    soma = soma + num\n",
        "print(f'O somatório dos elementos pares da lista é: {soma}')"
      ],
      "metadata": {
        "id": "_GGczCxP-knS"
      },
      "execution_count": null,
      "outputs": []
    },
    {
      "cell_type": "code",
      "source": [
        "nome = input(\"Entre com seu nome: \\n\")\n",
        "for letra in nome:\n",
        "    print(letra)"
      ],
      "metadata": {
        "id": "Ek_0zf3A-eNS"
      },
      "execution_count": null,
      "outputs": []
    },
    {
      "cell_type": "code",
      "source": [
        "nomes = ['Laura', 'Lis', 'Guilherme', 'Enzo', 'Arthur']\n",
        "for nome in nomes:\n",
        "    print(nome)"
      ],
      "metadata": {
        "id": "pMEYQFWw-dwM"
      },
      "execution_count": null,
      "outputs": []
    },
    {
      "cell_type": "code",
      "source": [
        "while True:\n",
        "    palavra = input('Entre com uma palavra: \\n')\n",
        "    if palavra == 'sair':\n",
        "        break\n",
        "print('Você digitou sair e agora está fora do laço')"
      ],
      "metadata": {
        "id": "53KndSyG-RzL"
      },
      "execution_count": null,
      "outputs": []
    },
    {
      "cell_type": "code",
      "source": [
        "while True:\n",
        "    print('Você está no primeiro laço.')\n",
        "    opcao1 = input('Deseja sair dele? Digite SIM para isso. \\n')\n",
        "    if opcao1 == 'SIM':\n",
        "        break  # este break é do primeiro laço\n",
        "    else:\n",
        "        while True:\n",
        "            print('Você está no segundo laço.')\n",
        "            opcao2 = input('Deseja sair dele? Digite SIM para isso. \\n')\n",
        "            if opcao2 == 'SIM':\n",
        "                break  # este break é do segundo laço\n",
        "        print('Você saiu do segundo laço.')\n",
        "print('Você saiu do primeiro laço')"
      ],
      "metadata": {
        "id": "xqCkecvA-Q9E"
      },
      "execution_count": null,
      "outputs": []
    },
    {
      "cell_type": "code",
      "source": [
        "for num in range(1, 11):\n",
        "    if num == 5:\n",
        "        continue\n",
        "    else:\n",
        "        print(num)\n",
        "print('Laço encerrado')"
      ],
      "metadata": {
        "id": "JZqrtKL5-HNs"
      },
      "execution_count": null,
      "outputs": []
    },
    {
      "cell_type": "code",
      "source": [
        "for num in range(1, 11):\n",
        "    if num % 2 == 0:\n",
        "        pass\n",
        "    else:\n",
        "        print(num)\n",
        "print('São números ímpares')\n",
        "\n",
        "\n",
        "\n",
        "for num in range(1, 11):\n",
        "    if num % 2 == 0:\n",
        "        print(num)\n",
        "print('São números pares')"
      ],
      "metadata": {
        "id": "0sGjfeKw90cg"
      },
      "execution_count": null,
      "outputs": []
    },
    {
      "cell_type": "code",
      "source": [
        "L = [1,2,3,4,5,6,7,8]\n",
        "print(L[::-1])\n",
        "print(L[::1])"
      ],
      "metadata": {
        "id": "1L1P9Xai8xGl"
      },
      "execution_count": null,
      "outputs": []
    },
    {
      "cell_type": "markdown",
      "source": [
        "# Mundo 1 - Trabalhos"
      ],
      "metadata": {
        "id": "qsg_wHza-AhW"
      }
    },
    {
      "cell_type": "markdown",
      "source": [
        "## Mundo 1 - Trabalhos Nível 3"
      ],
      "metadata": {
        "id": "qWGD_aXbGxZU"
      }
    },
    {
      "cell_type": "markdown",
      "source": [
        "07 - Problema 1104 - Troca de Cartas"
      ],
      "metadata": {
        "id": "NAJiRrdWHQdd"
      }
    },
    {
      "cell_type": "code",
      "source": [
        "  ## Os dois códigos funcionam no Beecrowd\n",
        "# 07 - Problema 1104 - Troca de Cartas (usei esse código no Beecrowd da aula)\n",
        "\n",
        "while True:\n",
        "   na, nb = [int(x) for x in input().split()]\n",
        "   if na == 0 == nb: break\n",
        "   a = set([int(x) for x in input().split()])\n",
        "   b = set([int(x) for x in input().split()])\n",
        "   print(len(a.difference(b)) if len(a) < len(b) else len(b.difference(a)))\n",
        "\n",
        "'''\n",
        "Sample Input\n",
        "1 1\n",
        "1000\n",
        "1000\n",
        "3 4\n",
        "1 3 5\n",
        "2 4 6 8\n",
        "10 9\n",
        "1 1 2 3 5 7 8 8 9 15\n",
        "2 2 2 3 4 6 10 11 11\n",
        "0 0\n",
        "\n",
        "Sample Output\n",
        "0\n",
        "3\n",
        "4\n",
        "'''\n",
        "# Outra forma de fazer\n",
        "# Problema 1104 - Troca de Cartas (esse código tb funcionou no Beecrowd)\n",
        "\n",
        "while True:\n",
        "    a, b = input().split()\n",
        "    if a == b == '0':\n",
        "        break\n",
        "    fa = [int(x) for x in input().split()]\n",
        "    fb = [int(x) for x in input().split()]\n",
        "    a = set(fa)\n",
        "    b = set(fb)\n",
        "    c = b\n",
        "    f = 0\n",
        "    if len(a) < len(b):\n",
        "        c = a\n",
        "        a = b\n",
        "    c = [x for x in c if x not in a]\n",
        "    print(len(c))"
      ],
      "metadata": {
        "id": "-q7A4SgBHP04"
      },
      "execution_count": null,
      "outputs": []
    },
    {
      "cell_type": "markdown",
      "source": [
        "08 - Problema 1690 - Soma de Sobconjuntos"
      ],
      "metadata": {
        "id": "ebxe4gnhIBgK"
      }
    },
    {
      "cell_type": "code",
      "source": [
        "# 08 - Problema 1690 - Soma de Sobconjuntos\n",
        "\n",
        "def encontrar(conjunto):\n",
        "    conjunto.sort()\n",
        "    menorvalor = 1\n",
        "    for elemento in conjunto:\n",
        "        if elemento > menorvalor:\n",
        "            return menorvalor\n",
        "        menorvalor += elemento\n",
        "    return menorvalor\n",
        "\n",
        "t = int(input())\n",
        "\n",
        "for _ in range(t):\n",
        "    n = int(input())\n",
        "    conjunto = list(map(int, input().split()))\n",
        "    menorvalor = encontrar(conjunto)\n",
        "    print(menorvalor)"
      ],
      "metadata": {
        "id": "JnHN1K_3IGtl"
      },
      "execution_count": null,
      "outputs": []
    },
    {
      "cell_type": "markdown",
      "source": [
        "09 - Problema 2087 - Conjuntos Bons e Ruins"
      ],
      "metadata": {
        "id": "obBM4gnNIeNJ"
      }
    },
    {
      "cell_type": "code",
      "source": [
        "# 09 - Problema 2087 - Conjuntos Bons e Ruins\n",
        "\n",
        "  ## Colega me passou esse código e funcionou no Beecrowd\n",
        "\n",
        "def checar(palavra):\n",
        "    palavra.sort()\n",
        "    for i in range(len(palavra) - 1):\n",
        "        if palavra[i + 1].startswith(palavra[i]):\n",
        "            return \"Conjunto Ruim\"\n",
        "    return \"Conjunto Bom\"\n",
        "\n",
        "while True:\n",
        "    n = int(input())\n",
        "    if n == 0:\n",
        "        break\n",
        "    palavra = [input() for _ in range(n)]\n",
        "    r = checar(palavra)\n",
        "    print(r)\n",
        "\n",
        "\"\"\" Entradas\n",
        "3\n",
        "abc\n",
        "dae\n",
        "abcde\n",
        "Conjunto Ruim\n",
        "2\n",
        "abc\n",
        "def\n",
        "Conjunto Bom\n",
        "0\n",
        "\"\"\"\n",
        "  ## Reduzi o código de baixo mas ainda tá muito demorado.\n",
        "\n",
        "while True:\n",
        "    n = int(input())\n",
        "    if n == 0:\n",
        "      break\n",
        "    l = []\n",
        "    for g in range(n):\n",
        "      l.append(input())\n",
        "    c = True\n",
        "    for i in range(n-1):\n",
        "      for j in range(i+1, n):\n",
        "        if l[i] in l[j]:\n",
        "          c = False\n",
        "    print('Conjunto Bom' if c else 'Conjunto Ruim')\n",
        "\n",
        "  ## Código deu \"Time limit exceeded\" mas funciona (não é bom pro Beecrowd)\n",
        "\n",
        "while True:\n",
        "    n = int(input())\n",
        "    if n == 0: break\n",
        "    l = []\n",
        "    for g in range(n): \n",
        "      l.append(input())\n",
        "    c = True\n",
        "    l.sort()\n",
        "    for i in range(n-1):\n",
        "      for j in range(i+1, n):\n",
        "        if l[i] in l[j]:\n",
        "          c = False\n",
        "          break\n",
        "    print('Conjunto Bom' if c else 'Conjunto Ruim')\n",
        "\n",
        "  ## Código deu \"Wrong answer (5%)\" mas funciona (não é bom pro Beecrowd)\n",
        "\n",
        "while True:\n",
        "  n = int(input())\n",
        "  if n == 0:\n",
        "    break\n",
        "  conjunto = []\n",
        "  prefixo = 0\n",
        "  while n:\n",
        "    n -= 1\n",
        "    conjunto.append(input())\n",
        "    if not prefixo:\n",
        "      for palavra in range(len(conjunto) - 1):\n",
        "        if (conjunto[-1] in conjunto[palavra]) or (conjunto[palavra] in conjunto[-1]):\n",
        "          prefixo = 1\n",
        "          break\n",
        "\n",
        "  if prefixo:\n",
        "    print('Conjunto Ruim')\n",
        "  else:\n",
        "    print('Conjunto Bom')"
      ],
      "metadata": {
        "id": "g8-Hwbd7Ihq5",
        "colab": {
          "base_uri": "https://localhost:8080/"
        },
        "outputId": "fd0909ed-7a1f-4d7e-ccaf-2e3876511938"
      },
      "execution_count": null,
      "outputs": [
        {
          "name": "stdout",
          "output_type": "stream",
          "text": [
            "0\n",
            "2\n",
            "abc\n",
            "def\n",
            "Conjunto Bom\n",
            "2\n",
            "abc\n",
            "abcdef\n",
            "Conjunto Ruim\n",
            "0\n"
          ]
        }
      ]
    },
    {
      "cell_type": "markdown",
      "source": [
        "## Mundo 1 - Trabalhos Nível 2"
      ],
      "metadata": {
        "id": "WoXbhuhtjxe8"
      }
    },
    {
      "cell_type": "markdown",
      "source": [
        "04 - Problema 1019 - Conversão de Tempo"
      ],
      "metadata": {
        "id": "qe-Y8tTiUwf2"
      }
    },
    {
      "cell_type": "code",
      "source": [
        "# 04 - Problema 1019 - Conversão de Tempo\n",
        "\n",
        "segundos = int(input())\n",
        "\n",
        "horas = segundos//(60*60)\n",
        "segundos = segundos%(60*60)\n",
        "\n",
        "minutos = segundos//60\n",
        "segundos = segundos%60\n",
        "\n",
        "print(f\"{horas}:{minutos}:{segundos}\")"
      ],
      "metadata": {
        "id": "02qqZTRJU5M3"
      },
      "execution_count": null,
      "outputs": []
    },
    {
      "cell_type": "markdown",
      "source": [
        "05 - Problema 1020 - Idade em Dias"
      ],
      "metadata": {
        "id": "9WzEXuDVXijU"
      }
    },
    {
      "cell_type": "code",
      "source": [
        "# 05 - Problema 1020 - Idade em Dias\n",
        "\n",
        "dias = int(input())\n",
        "\n",
        "anos = dias//365\n",
        "dias = dias%365\n",
        "\n",
        "meses = dias//30\n",
        "dias = dias%30\n",
        "\n",
        "print(f\"{anos} ano(s)\")\n",
        "print(f\"{meses} mes(es)\")\n",
        "print(f\"{dias} dia(s)\")"
      ],
      "metadata": {
        "id": "ZkXYSlTgXmzJ"
      },
      "execution_count": null,
      "outputs": []
    },
    {
      "cell_type": "markdown",
      "source": [
        "06 - Problema 1199 - Conversão Simples de Base"
      ],
      "metadata": {
        "id": "U849Ch8daq5c"
      }
    },
    {
      "cell_type": "code",
      "source": [
        "# 06 - Problema 1199 - Conversão Simples de Base\n",
        "\n",
        "while True:\n",
        "    n = input()\n",
        "    if n[0] == '-':\n",
        "        break\n",
        "    elif('0x' in n):\n",
        "        r = int(n[2:len(n)],16)\n",
        "    else:\n",
        "        r = hex(int(n))\n",
        "    print(r)\n",
        "\n",
        "# Ou (código de um colega)\n",
        "\n",
        "while True:\n",
        "    num = str(input())\n",
        "    if num[0] == '-':\n",
        "       break \n",
        "    if 'x' in num: \n",
        "      print(int(num, 16))\n",
        "    else: \n",
        "      print(str(hex(int(num))).upper().replace('X', 'x'))\n",
        "\n",
        "  \n",
        "  \n",
        "## Explicação do código dele\n",
        "\n",
        "while True:\n",
        "    # Entradad e deados.\n",
        "    num = str(input())\n",
        "    # Quebra o laço de repetição quando qualquer numero negativo é digitado.\n",
        "    if num[0] == '-':\n",
        "       break\n",
        "    #  Converte números da base 16 para base 10.  \n",
        "    if 'x' in num: \n",
        "      print(int(num, 16))\n",
        "   # Converte números da base 10 para base 16 tornando todas as letras maiúsculas e somente o 'x' fica minúsculo \n",
        "    else: \n",
        "      print(str(hex(int(num))).upper().replace('X', 'x'))"
      ],
      "metadata": {
        "colab": {
          "base_uri": "https://localhost:8080/"
        },
        "id": "eT-Hqag4awra",
        "outputId": "dddcf9e5-1b5f-4a98-f9a5-17006440da68"
      },
      "execution_count": null,
      "outputs": [
        {
          "name": "stdout",
          "output_type": "stream",
          "text": [
            "4\n",
            "0x4\n",
            "7\n",
            "0x7\n",
            "44\n",
            "0x2c\n",
            "0x80685\n",
            "525957\n",
            "-1\n"
          ]
        }
      ]
    },
    {
      "cell_type": "markdown",
      "source": [
        "## Mundo 1 - Trabalhos Nível 1"
      ],
      "metadata": {
        "id": "28BvlnP7jw53"
      }
    },
    {
      "cell_type": "markdown",
      "source": [
        "01 - Problema 1000 - Print do Hello World!"
      ],
      "metadata": {
        "id": "lwAAuJ3YYmBK"
      }
    },
    {
      "cell_type": "code",
      "execution_count": null,
      "metadata": {
        "id": "NqMz2wlOM_iZ",
        "colab": {
          "base_uri": "https://localhost:8080/"
        },
        "outputId": "3d3f0847-dc26-4936-83bf-7c2ae1108c23"
      },
      "outputs": [
        {
          "output_type": "stream",
          "name": "stdout",
          "text": [
            "Hello World!\n"
          ]
        }
      ],
      "source": [
        "# 01- Problema 1000 - Print do Hello World!\n",
        "\n",
        "a = \"Hello World!\"\n",
        "print(a)"
      ]
    },
    {
      "cell_type": "markdown",
      "source": [
        "02 - Problema 1003 - Soma Simples"
      ],
      "metadata": {
        "id": "Il7seHEnYwEY"
      }
    },
    {
      "cell_type": "code",
      "source": [
        "# 02 - Problema 1003 - Soma Simples\n",
        "\n",
        "A = int(input())\n",
        "B = int(input())\n",
        "\n",
        "print(\"SOMA =\", A + B)\n",
        "\n",
        "# 02 - Problema 1003 - Soma Simples\n",
        "\n",
        "A = int(input())\n",
        "B = int(input())\n",
        "\n",
        "SOMA = A + B\n",
        "\n",
        "print(\"SOMA = %d\"%SOMA) # Existem estes dois tipos de print\n",
        "print(\"SOMA =\", SOMA)   # Existem estes dois tipos de print\n",
        "\n",
        "# 01 - Problema 1003 - Soma Simples - código com função def:\n",
        "\n",
        "def somar(A, B):\n",
        "  valor = A + B\n",
        "  return valor\n",
        "\n",
        "soma = somar(int(input()), int(input()))\n",
        "print(\"SOMA =\", soma)"
      ],
      "metadata": {
        "id": "c_0b-5NtZAtT"
      },
      "execution_count": null,
      "outputs": []
    },
    {
      "cell_type": "markdown",
      "source": [
        "03 - Problema 1165 - Número Primo"
      ],
      "metadata": {
        "id": "w03SHWvtb6xF"
      }
    },
    {
      "cell_type": "code",
      "source": [
        "# 03 - Problema 1165 - Número Primo - Código que montei com o cólega (usei esse no Beecrowd)\n",
        "\n",
        "testes = int(input())\n",
        "\n",
        "for teste in range(testes):\n",
        "    n = int(input())\n",
        "    cont = 0\n",
        "    \n",
        "    for i in range(1, n +1):\n",
        "        if n % i == 0:\n",
        "            cont += 1\n",
        "    if cont == 2:\n",
        "        print(f'{n} eh primo')\n",
        "    else:\n",
        "        print(f'{n} nao eh primo')\n",
        "\n",
        "## Código do Beecrowd\n",
        "\n",
        "numero_de_testes = int(input())\n",
        "\n",
        "for teste in range(numero_de_testes):\n",
        "    n = int(input())\n",
        "\n",
        "    eh_primo = True\n",
        "    for i in range(2, n):\n",
        "      if n % i == 0:\n",
        "        eh_primo = False\n",
        "        break\n",
        "\n",
        "    if eh_primo:\n",
        "        print('{} eh_primo'.format(n))\n",
        "    else:\n",
        "        print('{} nao_eh_primo'.format(n))\n",
        "\n",
        "   ## Código diferente(não serve no exercício do Beecrowd)\n",
        "\n",
        "n = int(input())\n",
        "cont = 0\n",
        "for i in range(1, n + 1):\n",
        "  if n % i == 0:\n",
        "    cont += 1\n",
        "if cont == 2:\n",
        "  print(\"eh primo\")\n",
        "else:\n",
        "  print(\"não eh primo\")"
      ],
      "metadata": {
        "id": "iizaSz3ccAHc",
        "colab": {
          "base_uri": "https://localhost:8080/"
        },
        "outputId": "48a65dda-a89e-42a4-bfa2-294e88e52ede"
      },
      "execution_count": null,
      "outputs": [
        {
          "output_type": "stream",
          "name": "stdout",
          "text": [
            "3\n",
            "8\n",
            "8 nao_eh_primo\n",
            "51\n",
            "51 nao_eh_primo\n",
            "7\n",
            "7 eh_primo\n",
            "1\n",
            "não eh primo\n"
          ]
        }
      ]
    },
    {
      "cell_type": "markdown",
      "source": [
        "# Mundo 1 - Nível 4 - Aulas e anotações Python"
      ],
      "metadata": {
        "id": "Oe7bT7ySI_4y"
      }
    },
    {
      "cell_type": "markdown",
      "source": [
        "## Nível 4 - Missão 3"
      ],
      "metadata": {
        "id": "SSpvIC4YJULS"
      }
    },
    {
      "cell_type": "markdown",
      "source": [
        "### Missão 3 - Módulo 4"
      ],
      "metadata": {
        "id": "yFtSZ_CxJoiP"
      }
    },
    {
      "cell_type": "markdown",
      "source": [
        "### Missão 3 - Módulo 3"
      ],
      "metadata": {
        "id": "tkcbymNnJm4y"
      }
    },
    {
      "cell_type": "markdown",
      "source": [
        "### Missão 3 - Módulo 2"
      ],
      "metadata": {
        "id": "gSpLR6hWJke3"
      }
    },
    {
      "cell_type": "markdown",
      "source": [
        "### Missão 3 - Módulo 1 == COMEÇAR DAQUI =="
      ],
      "metadata": {
        "id": "N6lwC65MJfjp"
      }
    },
    {
      "cell_type": "markdown",
      "source": [
        "# Mundo 1 - Nível 3 - Aulas e anotações Python"
      ],
      "metadata": {
        "id": "dKElqm5ulkWn"
      }
    },
    {
      "cell_type": "markdown",
      "source": [
        "## Nível 3 - Missão 5\n",
        "### Modularização e uso de bibliotecas do Python"
      ],
      "metadata": {
        "id": "8dz-tlvZBh6t"
      }
    },
    {
      "cell_type": "markdown",
      "source": [
        "### Missão 5 - Módulo 4 \n",
        "#### Interface Gráfica com o Usuário"
      ],
      "metadata": {
        "id": "kbj95mm0hj1x"
      }
    },
    {
      "cell_type": "code",
      "source": [],
      "metadata": {
        "id": "QaY4AqOhJ6VD"
      },
      "execution_count": null,
      "outputs": []
    },
    {
      "cell_type": "code",
      "source": [
        "# Biblioteca Tkinter\n",
        "  ## Utilização da biblioteca Tkinter\n",
        "\n",
        "'''\n",
        "Dentre vários ambientes de desenvolvimento do Python, existem interfaces \n",
        "gráficas do usuário (GUI – Graphic User Interface). Estas tornam a interação \n",
        "com o usuário muito mais fácil e dinâmica.\n",
        "\n",
        "Um dos ambientes gráficos que permitem desenvolver interfaces em Python \n",
        "é a Tkinter.\n",
        "\n",
        "A biblioteca Tkinter utiliza o conceito de orientação a objetos para \n",
        "implementar seus elementos gráficos. Como ela não faz parte do núcleo do \n",
        "Python, precisamos importá-la, assim como fizemos com o nosso módulo imc. \n",
        "No video a seguir, falaremos mais sobre as interfaces gráficas com o usuário.\n",
        "'''\n",
        "'''\n",
        "Para os exemplos que seguem, criamos um arquivo chamado interface.py para \n",
        "conter o script da nossa interface.\n",
        "\n",
        "Inicialmente, importamos o módulo tkinter na linha 1 e chamamos a \n",
        "função _teste() do módulo tkinter na linha 3. Essa função abre uma \n",
        "janela para verificar se está tudo instalado corretamente. Observe \n",
        "a imagem a seguir:\n",
        "\n",
        "import tkinter\n",
        "\n",
        "tkinter._test()\n",
        "'''\n",
        "'''\n",
        "Para criar nossa própria interface, precisamos criar a janela principal que \n",
        "conterá todos os nossos componentes, botões, texto, menu, listas etc.\n",
        "\n",
        "Para criar essa janela, utilizamos a classe Tk do módulo tkinter para \n",
        "instanciar esse objeto e atribuir a uma variável, como a seguir:\n",
        "\n",
        "principal = tkinter.Tk()\n",
        "\n",
        "A sintaxe para criar um objeto a partir de uma classe é igual à chamada de \n",
        "uma função, porém, em vez de recebermos apenas um valor como retorno, \n",
        "recebemos um objeto, que contém atributos e métodos (funções). Nesse caso, \n",
        "a variável principal é um objeto do tipo Tk.\n",
        "\n",
        "Essa variável será utilizada como referência para os outros componentes da \n",
        "interface, indicando que ela é a janela principal do programa.\n",
        "\n",
        "Como última linha do script, precisamos chamar o método mainloop() do \n",
        "objeto principal.\n",
        "\n",
        "import tkinter\n",
        "\n",
        "principal = tkinter.Tk()\n",
        "\n",
        "principal.mainloop()\n",
        "'''\n",
        "'''\n",
        "Outros exemplos de métodos do objeto do tipo Tk são: winfo_height(), que \n",
        "retorna a altura da janela, e title(), que retorna o texto apresentado no \n",
        "título da janela.\n",
        "\n",
        "No exemplo a seguir, vamos adicionar um botão à nossa interface. \n",
        "Primeiramente, precisamos importar a classe que implementa o botão \n",
        "no tkinter. Essa classe se chama Button e sua importação está na \n",
        "linha 2 do exemplo.\n",
        "\n",
        "Para criar o botão, utilizamos a sintaxe exibida na linha 6, cujo primeiro \n",
        "parâmetro é a tela onde o botão será colocado e o parâmetro text é o texto \n",
        "que aparece no botão. A classe Button retorna um objeto, que foi atribuído \n",
        "à variável botao. Na linha 7, utilizamos o método place do objeto botao \n",
        "para definir as coordenadas da posição do botão na tela, como visto a seguir:\n",
        "\n",
        "import tkinter\n",
        "from tkinter import Button\n",
        "\n",
        "principal = tkinter.Tk()\n",
        "\n",
        "botao = Button(principal, text=\"Olá\")\n",
        "botao.place(x=90, y=25)\n",
        "\n",
        "principal.mainloop()\n",
        "\n",
        "\n",
        "Observe como ficou nossa tela após a execução do script. Destacamos na \n",
        "imagem seguinte como são calculadas as coordenadas no tkinter. A tela \n",
        "padrão do tkinter tem 200x200 pixels. O canto superior esquerdo da tela \n",
        "tem coordenadas (x=0, y=0), o superior direito (x=200, y=0), o inferior \n",
        "esquerdo (x=0, y=200) e o inferior esquerdo (x=200, y=200).\n",
        "'''\n",
        "# Organização dos componentes na tela\n",
        "\n",
        "'''\n",
        "Normalmente, uma caixa de texto vem acompanhada de uma etiqueta (label) \n",
        "para indicar o que aquela caixa de texto espera como entrada: \n",
        "idade, nome, peso etc. No tkinter, a classe Label implementa as etiquetas.\n",
        "\n",
        "Para adicionarmos esses dois componentes, precisamos importar cada um deles, \n",
        "como nas linhas 3 e 4. Na linha 14, utilizamos a classe Entry para criar a \n",
        "caixa de texto e atribuímos o valor retornado à variável texto. Na linha 17, \n",
        "utilizamos a classe Label para criar uma etiqueta. O texto da etiqueta, Label, \n",
        "foi passado como argumento para o parâmetro text.\n",
        "\n",
        "Para organizar os elementos na tela, utilizamos o método grid que está \n",
        "presente nos componentes gráficos do tkinter. Esse método permite dispor \n",
        "os elementos como em uma tabela, utilizando como parâmetros coordenadas \n",
        "de linha (row) e coluna (column).\n",
        "\n",
        "Para ilustrar, observe a tabela a seguir, em que temos 2 linhas e \n",
        "3 colunas, com as respectivas coordenadas:\n",
        "\n",
        "row=0, column=0\t     row=0, column=1     row=0, column=2\n",
        "row=1, column=0\t     row=1, column=1\t row=2, column=1\n",
        "\n",
        "Tabela: Coordenadas dos elementos na tela.\n",
        "\n",
        "Como até agora só temos 3 elementos na nossa interface, eles foram dispostos \n",
        "apenas na primeira linha. Veja o código como ficou:\n",
        "\n",
        "import tkinter\n",
        "from tkinter import Button\n",
        "from tkinter import Entry\n",
        "from tkinter import Label\n",
        "\n",
        "def acao():\n",
        "    print(\"Botão pressionado!\")\n",
        "\n",
        "principal = tkinter.Tk()\n",
        "\n",
        "botao = Button(principal, text=\"Olá\", command=acao)\n",
        "botao.grid(row=0, column=2)\n",
        "\n",
        "texto = Entry(principal)\n",
        "texto.grid(row=0, column=1)\n",
        "\n",
        "etiqueta = Label(principal, text=\"Label\")\n",
        "etiqueta.grid(row=0, column=0)\n",
        "\n",
        "principal.mainloop()\n",
        "\n",
        "Pelas linhas 12, 15 e 18, temos os nossos componentes dispostos da \n",
        "seguinte forma:\n",
        "\n",
        "\t    column 0\tcolumn 1\tcolumn 2\n",
        "row 0\tetiqueta\ttexto\t    botao\n",
        "'''\n",
        "# Alertas e entrada de dados\n",
        "'''\n",
        "Outro componente que o tkinter disponibiliza é o alerta. Os alertas servem \n",
        "para mostrar alguma mensagem importante ao usuário. Normalmente, aparece \n",
        "na frente das outras janelas.\n",
        "\n",
        "No tkinter, o módulo messagebox implementa alguns tipos de alerta, como \n",
        "alerta de erro, informação, confirmação de ação, entre outros.\n",
        "\n",
        "No próximo exemplo, vamos utilizar um alerta para mostrar o texto inserido \n",
        "na caixa de texto. O alerta será exibido quando pressionado o botão Olá. \n",
        "Confira o código:\n",
        "\n",
        "import tkinter\n",
        "from tkinter import Button\n",
        "from tkinter import Entry\n",
        "from tkinter import Label\n",
        "from tkinter import messagebox\n",
        "\n",
        "def acao():\n",
        "    print(\"Botão pressionado!\")\n",
        "    msg = messagebox.showinfo(\"Alerta!!!\", texto.get())\n",
        "\n",
        "principal = tkinter.Tk()\n",
        "\n",
        "botao = Button(principal, text=\"Olá\", command=acao)\n",
        "botao.grid(row=0, column=2)\n",
        "\n",
        "texto = Entry(principal)\n",
        "texto.grid(row=0, column=1)\n",
        "\n",
        "etiqueta = Label(principal, text=\"Label\")\n",
        "etiqueta.grid(row=0, column=0)\n",
        "\n",
        "principal.mainloop()\n",
        "\n",
        "\n",
        "Na linha 5, importamos o módulo messagebox e, na linha 9, utilizamos a função \n",
        "showinfo para abrir o alerta.\n",
        "\n",
        "O primeiro parâmetro dessa função é o título da caixa do alerta e o segundo \n",
        "parâmetro é o texto que estará contido na caixa. Para obter o valor digitado \n",
        "pelo usuário na caixa de texto, utilizamos o método get() da classe Entry, \n",
        "disponível na variável texto.\n",
        "\n",
        "Para isso, também na linha 9, utilizamos a sintaxe texto.get(), em que \n",
        "texto é o nome da nossa variável definida na linha 16.\n",
        "\n",
        "Para finalizar este módulo, vamos implementar uma interface para o nosso \n",
        "programa de cálculo de IMC. A nossa interface terá uma imagem, duas caixas \n",
        "de texto, uma para altura e outra para o peso, duas etiquetas, uma para \n",
        "cada caixa, e um botão. Ao apertar o botão, chamaremos as funções disponíveis \n",
        "no nosso módulo imc e utilizaremos o resultado retornado para exibir um alerta \n",
        "com a classificação do IMC.\n",
        "\n",
        "A disposição dos nossos elementos deve ficar conforme tabela a seguir. \n",
        "Observe que a imagem se estende por duas linhas, chamamos isso de \n",
        "row span (analogamente, estender por colunas se chama column span).\n",
        "\n",
        "\n",
        "\t    column 0\t  column 1\t         column 2\n",
        "row 0\timagem\t      etiqueta_altura\t altura\n",
        "row 1                 etiqueta_peso\t     peso\n",
        "row 2\t\t\t                         botão\n",
        "\n",
        "Tabela: Disposição dos elementos.\n",
        "\n",
        "'''"
      ],
      "metadata": {
        "id": "-kZh6-DjJ6oy"
      },
      "execution_count": null,
      "outputs": []
    },
    {
      "cell_type": "markdown",
      "source": [
        "### Missão 5 - Módulo 3\n",
        "#### Módulos em Python"
      ],
      "metadata": {
        "id": "bcOdX0O7hiFA"
      }
    },
    {
      "cell_type": "code",
      "source": [
        "# Criação e importação de módulos\n",
        "  ## Criação de um módulo\n",
        "\n",
        "'''\n",
        "Quando escrevemos um programa de computador, não temos a dimensão que ele pode \n",
        "alcançar em termos de tamanho. À medida que sua dimensão aumenta, sua \n",
        "manutenção pode ser muito custosa, principalmente em relação ao tempo.\n",
        "\n",
        "Com o intuito de minimizar o custo de manutenção como, por exemplo, a inclusão \n",
        "de uma nova instrução, é uma boa prática dividir o programa em arquivos menores \n",
        "que em geral se escreveriam como sendo um único arquivo. Além disso, outras \n",
        "formas de minimizar o tempo na elaboração de um programa de computador é usar \n",
        "instruções prontas.\n",
        "\n",
        "O Python permite usar arquivos contendo definições e comandos. Tal procedimento \n",
        "é definido como módulo. O padrão do nome do arquivo é o nome do módulo \n",
        "acrescido do sufixo .py. No vídeo a seguir, apresentamos um breve introdução \n",
        "sobre o assunto.\n",
        "'''\n",
        "# Introdução a módulos em Python (fiz no PyCharm tb)\n",
        "'''\n",
        "Para ilustrar o processo de importação, criaremos o nosso próprio módulo e o \n",
        "importaremos dentro de outro script. Utilizaremos novamente o exemplo do IMC \n",
        "para ilustrar.\n",
        "\n",
        "Primeiro, vamos criar um arquivo chamado imc.py, que será o nosso módulo de \n",
        "cálculo de IMC.\n",
        "\n",
        "verified\n",
        "Recomendação\n",
        "Após a criação desse arquivo, abra-o na sua IDE favorita.\n",
        "'''\n",
        "\n"
      ],
      "metadata": {
        "id": "ydqyVMHTyZkb"
      },
      "execution_count": null,
      "outputs": []
    },
    {
      "cell_type": "markdown",
      "source": [
        "### Missão 5 - Módulo 2 \n",
        "#### Desenvolvimento e uso de funções em Python\n"
      ],
      "metadata": {
        "id": "NDUjxnKQhc_a"
      }
    },
    {
      "cell_type": "code",
      "source": [
        "# Exercícios final do módulo 2\n",
        "\n",
        "  ## Questão 1\n",
        "\n",
        "'''\n",
        "No exemplo a seguir, temos um programa onde definimos a função teste (linha 1), \n",
        "que espera dois parâmetros: entrada e saída. Nas linhas 6 e 7, chamamos essa \n",
        "função de duas formas diferentes.\n",
        "'''\n",
        "# Resposta\n",
        "'''\n",
        "Parabéns! A alternativa A está correta.\n",
        "Quando passamos os nomes do argumento durante a chamada de uma função, o Python \n",
        "obedece a essa nomenclatura e atribui corretamente o valor de cada parâmetro. \n",
        "Caso contrário, o Python obedece à ordem com que foram passados.\n",
        "'''\n",
        "\n",
        "def teste(entrada, saida):\n",
        "    print(entrada, saida)\n",
        "\n",
        "teste(\"carro\", \"moto\")\n",
        "teste(saida=\"moto\", entrada=\"carro\")\n",
        "\n",
        "print(\"---------------------------------------------------------------------\")\n",
        "\n",
        "  ## Questão 2\n",
        "\n",
        "'''Para o exemplo a seguir, qual o valor de c:'''\n",
        "# Resposta\n",
        "'''\n",
        "Parabéns! A alternativa D está correta.\n",
        "A função retorna o valor passado como parâmetro ao quadrado (52=25) e atribui \n",
        "a variável a novamente. Depois, soma as variáveis a e b (25 + 10 = 35) e \n",
        "atribui o valor à variável c.\n",
        "'''\n",
        "\n",
        "def transforma(valor):\n",
        "    return valor**2\n",
        "\n",
        "a = 5\n",
        "b = 10\n",
        "a = transforma(a) # 5*5 = 25 = a\n",
        "c = a + b\n",
        "\n",
        "print(c)"
      ],
      "metadata": {
        "colab": {
          "base_uri": "https://localhost:8080/"
        },
        "id": "7dzKpJS9vBx_",
        "outputId": "473405ec-cfd0-47fe-94f0-86adb1749b55"
      },
      "execution_count": null,
      "outputs": [
        {
          "output_type": "stream",
          "name": "stdout",
          "text": [
            "carro moto\n",
            "carro moto\n",
            "---------------------------------------------------------------------\n",
            "35\n"
          ]
        }
      ]
    },
    {
      "cell_type": "code",
      "source": [
        "# Funções em Python\n",
        "\n",
        "'''\n",
        "Conforme explicado no módulo anterior, uma das formas para facilitar o \n",
        "desenvolvimento colaborativo e aumentar a reutilização é a divisão de um \n",
        "programa em partes menores. Em Python, temos algumas formas de fazer isso. \n",
        "Uma delas é a criação de funções, que veremos neste módulo.\n",
        "\n",
        "A função é um bloco de instruções que executa uma determinada tarefa e, uma \n",
        "vez definida, pode ser reutilizada em diferentes partes do programa.\n",
        "\n",
        "As funções permitem que o código fique mais modular, possibilitando executar \n",
        "a mesma tarefa diversas vezes sem a necessidade de reescrever o código. \n",
        "A modularização facilita a manutenção e divisão das tarefas.\n",
        "\n",
        "Como exemplo de funções disponibilizadas pelo Python, \n",
        "temos o print, dir, help, entre outras.\n",
        "'''\n",
        "\n",
        "peso, altura = 82, 1.76\n",
        "imc = peso/altura**2\n",
        "\n",
        "if imc < 18.5:\n",
        "    print(\"Baixo peso\")\n",
        "elif imc < 25:\n",
        "    print(\"Peso adequado\")\n",
        "elif imc < 30:\n",
        "    print(\"Sobrepeso\")\n",
        "else:\n",
        "    print(\"Obeso\")\n",
        "\n",
        "'''\n",
        "Agora, imagine que a OMS (Organização Mundial da Saúde) resolveu alterar as \n",
        "faixas do IMC. Para corrigir o programa, precisamos procurar no nosso código, \n",
        "em dois lugares, onde está sendo realizado o cálculo e alterar cada um deles.\n",
        "\n",
        "E se precisássemos criar um ponto de entrada de dados via interface gráfica? \n",
        "Precisaríamos inserir todo esse código em mais um ponto no nosso programa.\n",
        "\n",
        "Não teria sido mais fácil se uma única função retornasse as faixas do IMC e \n",
        "depois utilizássemos essa função em diversos pontos do nosso programa? \n",
        "Toda correção relacionada ao cálculo do IMC seria realizada em um único \n",
        "trecho de código.\n",
        "\n",
        "O caso apresentado utiliza uma matemática muito simples, mas em algumas \n",
        "situações precisamos incluir nos programas cálculos mais avançados, que \n",
        "requerem uma dedicação maior para implementar.\n",
        "\n",
        "wb_incandescent\n",
        "Dica\n",
        "A separação do código em funções facilita o gerenciamento das atividades, \n",
        "pois, enquanto uma pessoa desenvolve uma parte do programa, como, por exemplo, \n",
        "a interface gráfica, a outra pode se dedicar à implementação da função complexa.\n",
        "\n",
        "Até agora voltamos nossa atenção basicamente ao motivo de se criar funções, \n",
        "mas como elas funcionam? Como executamos, ou no linguajar da computação, \n",
        "chamamos uma função dentro do nosso programa? Como é o fluxo de execução \n",
        "do código quando chamamos uma função?\n",
        "\n",
        "Em um programa de computador que não utiliza técnicas de paralelismo, o \n",
        "fluxo de execução é linear, ou seja, no caso do Python, o seu interpretador \n",
        "executa uma linha por vez do nosso código.\n",
        "\n",
        "sms_failed\n",
        "Curiosidade\n",
        "Quando, durante a execução do programa, o interpretador encontra uma \n",
        "função, o fluxo “salta” para executar os códigos das funções e depois \n",
        "retorna para continuar a execução de onde “saltou”.\n",
        "'''\n",
        "'''\n",
        "Ao iniciar o programa, apesar das funções estarem definidas no início, \n",
        "nenhum comando é executado, apenas informamos ao interpretador a existência \n",
        "delas. O interpretador começa a executar a linha 1 e ao executar linha 2 \n",
        "encontra uma chamada de função. Quando isso ocorre, o fluxo passa diretamente \n",
        "para a função, executando as linhas 3 e 4.\n",
        "\n",
        "Após executar as instruções contidas na função, o fluxo retorna para o ponto \n",
        "onde foi feita sua chamada e continua a execução do programa, linhas 5, 6 e 7. \n",
        "Na linha 7, existe outra chamada de função. O fluxo passa para essa função, \n",
        "linhas 8 e 9, e retorna novamente para o fluxo principal, continuando \n",
        "sua execução.\n",
        "'''\n",
        "# Definição de funções\n",
        "  ## Como definir uma função sem parâmetros\n",
        "'''\n",
        "Vamos agora ver como definir e utilizar uma função em Python. A forma mais \n",
        "simples de defini-la utiliza a seguinte sintaxe:\n",
        "\n",
        "def nome():\n",
        "    linha1\n",
        "    linha2\n",
        "    ...\n",
        "    linhaN\n",
        "\n",
        "Utilizamos a palavra reservada def seguida do nome que desejamos dar à nossa \n",
        "função, um par de parênteses e dois pontos.\n",
        "\n",
        "Esse nome será utilizado para chamar nossa função em um momento posterior e, \n",
        "assim como nome de variável, precisa seguir algumas regras. Os nomes podem \n",
        "ser compostos por letras, underline (_) e números de 0 a 9, exceto o \n",
        "primeiro caractere.\n",
        "\n",
        "De acordo com a PEP8, basta indentar o código em 4 espaços e todas as linhas \n",
        "indentadas farão parte do corpo da função.\n",
        "\n",
        "No exemplo a seguir, vamos definir uma função chamada hello que contém \n",
        "duas linhas. Observe que as duas linhas, que contêm o print, estão indentadas:\n",
        "\n",
        "def hello():\n",
        "    print('Olá')\n",
        "    print('Mundo')\n",
        "\n",
        "hello()\n",
        "\n",
        "Para executar, ou chamar, uma função, escrevemos o nome dela seguido por \n",
        "um par de parênteses.\n",
        "\n",
        "Veja o exemplo a seguir no qual definimos novamente a função hello na \n",
        "linha 1 e chamamos essa função.\n",
        "'''\n",
        "# Como definir uma função com parâmetros\n",
        "'''\n",
        "Frequentemente, as funções executam suas tarefas utilizando informações do \n",
        "usuário. Como nem sempre sabemos quais dados o usuário irá informar, \n",
        "precisamos de uma forma de passar essa informação para a função durante \n",
        "a execução do programa.\n",
        "\n",
        " # Na computação, os dados que uma função espera receber \n",
        "   são chamados de parâmetros.\n",
        "\n",
        "Retorne ao exemplo apresentado na introdução deste módulo, \n",
        "sobre cálculo do IMC. Quais dados o usuário precisa informar? \n",
        "Peso e altura, certo? Esses seriam os parâmetros da função.\n",
        "\n",
        "Para definir uma função com parâmetros em Python, \n",
        "fazemos como a seguir.\n",
        "\n",
        "def nome(param1, param2,...)\n",
        "    linha1\n",
        "    linha2\n",
        "    ...\n",
        "    linhaN\n",
        "\n",
        "Diferente da definição anterior que tinha parênteses vazios, agora temos uma \n",
        "lista de nomes, ou melhor, uma lista de parâmetros. Cada parâmetro fica \n",
        "disponível como uma variável dentro do corpo da função. Os valores dos \n",
        "parâmetros são preenchidos no momento em que a função é chamada. Esses \n",
        "valores passados aos parâmetros são chamados de argumentos.\n",
        "\n",
        "No exemplo a seguir, vamos definir a função calcula_imc, que contém dois \n",
        "parâmetros, peso e altura. A definição dessa função vai da linha 2 à \n",
        "linha 5, conforme vemos pela indentação. Em seguida, na linha 9, vamos \n",
        "chamar essa função com os argumentos 70 e 1.80, que serão atribuídos aos \n",
        "parâmetros peso e altura, respectivamente.\n",
        "\n",
        "def calcula_imc(peso, altura):\n",
        "    print(\"Parâmetro peso:\", peso)\n",
        "    print(\"Parâmetro altura:\", altura)\n",
        "    imc = peso/altura**2\n",
        "    print(\"IMC:\", imc)\n",
        "\n",
        "calcula_imc(70, 1.80)\n",
        "\n",
        "Quando utilizamos os nomes, podemos usar os parâmetros fora de ordem, \n",
        "pois o Python vai utilizar esses nomes para combinar corretamente \n",
        "parâmetro e argumento.\n",
        "\n",
        "Veja no exemplo a seguir, no qual, na linha 9, chamamos a função calcula_imc \n",
        "utilizando o nome dos argumentos fora de ordem, porém com os nomes dos \n",
        "argumentos explícitos. Observe pelo console que os valores foram passados \n",
        "corretamente e o IMC calculado continua o mesmo:\n",
        "\n",
        "def calcula_imc(peso, altura):\n",
        "    print(\"Parâmetro peso:\", peso)\n",
        "    print(\"Parâmetro altura:\", altura)\n",
        "    imc = peso/altura**2\n",
        "    print(\"IMC:\", imc)\n",
        "\n",
        "calcula_imc(altura=1.80, peso=70)\n",
        "'''\n",
        "# Retorno de valores em funções\n",
        "  ## Como receber os resultados de uma função\n",
        "'''\n",
        "É muito comum na programação que as funções produzam algum valor que precise \n",
        "ser utilizado no decorrer do programa. Nesses casos, dizemos que a função \n",
        "retorna um valor. O valor retornado, normalmente, é atribuído a alguma \n",
        "variável para ser armazenado e utilizado posteriormente. Para retornar um \n",
        "valor, ao final da função, precisamos utilizar a palavra reservada return \n",
        "seguida do valor ou variável que se deseja retornar (ou em branco, caso a \n",
        "função não retorne valor algum).\n",
        "\n",
        "Lembre-se de que retornar um valor é diferente de imprimir um valor na tela!\n",
        "\n",
        "Ainda no exemplo do IMC, vamos redefinir a função de forma que ela retorne \n",
        "do valor computado do IMC. Esse valor retornado será utilizado para verificar \n",
        "qual a classificação do usuário, como na imagem a seguir:\n",
        "\n",
        "def calcula_imc(peso, altura):\n",
        "    print(\"Parâmetro peso:\", peso)\n",
        "    print(\"Parâmetro altura:\", altura)\n",
        "    imc = peso/altura**2\n",
        "    return imc\n",
        "\n",
        "indice = calcula_imc(altura=1.80, peso=70)\n",
        "print(\"IMC:\", indice)\n",
        "\n",
        "if indice < 18.5:\n",
        "    print(\"Baixo peso\")\n",
        "elif indice < 25:\n",
        "    print(\"Peso adequado\")\n",
        "elif indice < 30:\n",
        "    print(\"Sobrepeso\")\n",
        "else:\n",
        "    print(\"Obeso\")\n",
        "\n",
        "Veja na linha 5 do exemplo que utilizamos a palavra chave return seguida da \n",
        "variável imc. Isso indica que a função retornará o valor contido na variável \n",
        "imc, que foi calculado na linha 4.\n",
        "\n",
        "Em um primeiro momento, a linha 9 do programa pode parecer estranha, pois \n",
        "atribuímos uma função a uma variável (indice).\n",
        "Isso é muito comum e, na prática, indica que a variável indice receberá o \n",
        "valor retornado pela função calcula_imc.\n",
        "\n",
        "A linha 10 imprime o valor retornado, que pode ser verificado no console. \n",
        "Nas demais linhas, o valor retornado é utilizado nas estruturas de decisão \n",
        "para verificar qual a classificação do IMC.\n",
        "'''\n",
        "# Funções de ordem superior (higher order definition)\n",
        "'''\n",
        "Em Python, há funções que ao invés de retornar valores, retornam uma função. \n",
        "Além disso, existem funções que recebem uma outra função por parâmetro. \n",
        "Funções com essas características são chamadas de Funções de Ordem Superior \n",
        "(Higher Order Function).\n",
        "\n",
        "No exemplo a seguir, script selecao.py, definimos a função superior \n",
        "selecionador, que possui dois argumentos, uma lista de inteiros seq e uma \n",
        "função teste (linha 2).\n",
        "\n",
        "O argumento teste recebido é uma função que testa se um número é par ou \n",
        "não (verifica_par), retornado um valor booelano, True ou False (linhas 9 a 13). \n",
        "A função selecionador retornará uma lista contendo apenas os elementos de seq \n",
        "que forem classificados como par. Na parte principal do programa, \n",
        "função main (linha 16), chamamos a função selecionador passando por parâmetro \n",
        "uma lista de inteiros e armazenamos o seu retorno na variável \n",
        "números_pares (linha 18).\n",
        "\n",
        "Por fim, percorremos a lista retornada por selecionador, imprimindo na \n",
        "tela os seus elementos em forma de string, “{num} -> par”, sendo num a \n",
        "variável usada na iteração do laço for (linhas 19 a 20).\n",
        "\n",
        "Note que se alterássemos o script seleção.py, substituindo a função \n",
        "verifica_par por uma outra função cujo retorno fosse um valor booleano, \n",
        "o programa seria executado sem nenhum problema:\n",
        "\n",
        "# script selecao.py\n",
        "\n",
        "def selecionador(seq, teste):\n",
        "   \tselecionados = []\n",
        "   \tfor elemento in seq:\n",
        "        if (teste(elemento)):\n",
        "            selecionados.append(elemento)\n",
        " \treturn selecionados\n",
        "\n",
        "def verifica_par(num):\n",
        "    if num % 2 == 0:\n",
        "        return True\n",
        "    else:\n",
        "        return False\n",
        "\n",
        "#parte principal do programa\n",
        "def main():\n",
        "    lista = [0, 1, 2, 3, 10]\n",
        "    numeros_pares = selecionador(lista, verifica_par)\n",
        "    for num in numeros_pares:\n",
        "        print(f\" {num} -> par\")\n",
        "\n",
        "if __name__ == \"__main__\":\n",
        "    main()\n",
        "\n",
        "No próximo exemplo, script potencia.py, implementamos a função superior \n",
        "calcula_potencia. Essa função recebe por parâmetro um número inteiro que \n",
        "será o expoente da potenciação (linha 2) e tem uma função interna (potencia), \n",
        "cujo argumento será a base no cálculo de potência a ser realizado por \n",
        "ela (linhas 3 a 5). Para esse exemplo, utilizaremos um emulador de códigos.\n",
        "\n",
        "Na parte principal do programa, função main (linha 8), recebemos os valores \n",
        "de base e expoente informados pelo usuário do programa, por meio da função \n",
        "nativa do Python chamada input (linha 9). A seguir, como a função input \n",
        "retorna os valores em forma de string, separamos esses valores por meio da \n",
        "função nativa split, e os convertemos para inteiros, atribuindo-os às \n",
        "variáveis base e expoente, respectivamente (linha 11). Invocamos \n",
        "calcula_potencia, passando o valor do expoente por parâmetro, que nos \n",
        "retornará uma instância da função potencia que será então atribuída à \n",
        "variável potencia_de (linha 14). Utilizando potencia_de com o argumento \n",
        "base, invocamos indiretamente a função potencia para efetuar a potenciação \n",
        "propriamente dita, sendo que o seu retorno será armazenado na variável \n",
        "res_potencia (linha 15). Finalmente, imprimimos no console o resultado \n",
        "final (linha 16).\n",
        "\n",
        "No campo Input do emulador abaixo, insira os valores do expoente e da base, \n",
        "separados por 1 espaço em branco, que serão utilizados pela função \n",
        "calcula_potencia. Depois, clique em Executar e confira o resultado do \n",
        "programa no campo Console do emulador:\n",
        "\n",
        "# script potencia.py\n",
        "def calcula_potencia(expoente):\n",
        "    def potencia(base):\n",
        "        return base**expoente\n",
        "    return potencia\n",
        "    \n",
        "#parte principal do programa\n",
        "def main():\n",
        "    base_expoente = input()\n",
        "    # separa base e expoente, convertendo-os para inteiros\n",
        "    base, expoente = (int(i) for i in base_expoente.split())\n",
        "\n",
        "    # utilizando a função calcula_potencia\n",
        "    potencia_de = calcula_potencia(expoente)\n",
        "    res_potencia = potencia_de(base)\n",
        "    print(f\"{base} elevado a {expoente} = {res_potencia}\")\n",
        "        \n",
        "if __name__ == \"__main__\":\n",
        "        main()\n",
        "\n",
        "Note que em ambos os scripts, seleção.py e potencia.py, colocamos a parte \n",
        "principal do programa dentro de uma função chamada main, que por sua vez é \n",
        "invocada dentro de uma estrutura de seleção if __name__ == “__main__”. \n",
        "Isso se configura em uma boa prática de programação, pois caso um desses \n",
        "scripts fosse importado por um outro script, a parte principal do \n",
        "programa (conteúdo da função main) não seria automaticamente executada, \n",
        "o que aconteceria se esses comandos estivessem “soltos” dentro dos scripts.\n",
        "\n",
        "A variável especial __name__ do Python pode ter dois valores: o nome do script \n",
        "ao qual ela pertence em forma de string ou a string “__main__”. Por exemplo, \n",
        "se um script script_qualquer.py é executado diretamente, o valor da sua \n",
        "variável __name__ será “__main__”. Por outro lado, caso esse script seja \n",
        "importado como um módulo por um outro script, o valor da sua \n",
        "variável __name__ será “script_qualquer”.\n",
        "\n",
        "Ao se colocar a chamada a função principal de um script (convencionalmente \n",
        "chamada de função main) dentro de um if __name__ == “__main__”, o programador \n",
        "deixa garantido que a parte principal de um script só será executada quando \n",
        "este for executado, e não importado. Isso garante que códigos indesejados \n",
        "não sejam executados ao se importar um script como módulo.\n",
        "'''\n",
        "# Funções e escopo de variáveis\n",
        "  ## Escopo de variáveis em funções\n",
        "'''\n",
        "Quando utilizamos funções, precisamos tomar cuidado ao definir e utilizar \n",
        "variáveis, pois toda variável tem um escopo de utilização. O escopo é o \n",
        "contexto de uma variável ou função durante a execução de um programa. \n",
        "Ele define a quais dados temos acesso em diferentes partes do programa.\n",
        "\n",
        "Quando definimos uma variável fora de uma função ou laço, dizemos que a \n",
        "variável está no escopo global. As variáveis do escopo global mantêm os \n",
        "mesmos dados e estão acessíveis em todas as partes do programa, seja dentro \n",
        "de funções, laços ou estruturas de decisão.\n",
        "\n",
        "Quando declaramos uma variável dentro de uma função, dizemos que ela está no \n",
        "escopo local. Mas que local? O corpo da função! Ela só está disponível para \n",
        "ser utilizada dentro da função.\n",
        "\n",
        "Veja no exemplo a seguir, no qual definimos duas variáveis: a variável global \n",
        "valor e a variável local multiplicador da função multiplicar.\n",
        "\n",
        "Observe que a variável valor definida na linha 6 está disponível no corpo \n",
        "principal do script, na linha 8, dentro da função multiplicar, na linha 3, \n",
        "dentro do laço while, na linha 11, e na condição do if, na linha 10.\n",
        "\n",
        "Ao executar o script, tudo ocorre como planejado, como podemos verificar \n",
        "na saída do console.\n",
        "\n",
        "def multiplicar():\n",
        "    multiplicador = 3 # Variável local da função multiplicar\n",
        "    print(\"Resultado da multiplicação:\" valor * multiplicador)\n",
        "\n",
        "valor = 10 # Variável global. Todo script tem acesso!\n",
        "multiplicar()\n",
        "print(\"Variável [valor]:\", valor)\n",
        "while True:\n",
        "    if valor < 1000:\n",
        "        print(\"Variável menor que 1000:\", valor)\n",
        "        break\n",
        "\n",
        "Durante o desenvolvimento, fique atento ao escopo da variável. Os parâmetros \n",
        "de uma função também são considerados variáveis locais.\n",
        "\n",
        "Existem casos em que a variável local recebe o mesmo nome da variável global. \n",
        "Como o Python resolve esse problema? O Python dá prioridade para utilização \n",
        "da variável local. Para forçar o Python a utilizar a variável global, \n",
        "precisamos utilizar a palavra reservada global seguida do nome da variável \n",
        "antes de utilizá-la. Veja no exemplo a seguir:\n",
        "'''\n",
        "\n",
        "def escopo():\n",
        "    global variavel_a\n",
        "    variavel_a = 1  # Variável global\n",
        "    variavel_b = 2  # Variável local\n",
        "    print(\"Variável A dentro da função:\", variavel_a)\n",
        "    print(\"Variável B dentro da função:\", variavel_b)\n",
        "    print(\"Variável C dentro da função:\", variavel_c)\n",
        "\n",
        "variavel_a = 10  # Variável global\n",
        "variavel_b = 20  # Variável global\n",
        "variavel_c = 30  # Variável global\n",
        "\n",
        "escopo()\n",
        "\n",
        "print(\"Variável A global:\", variavel_a)\n",
        "print(\"Variável B global:\", variavel_b)\n",
        "print(\"Variável C global:\", variavel_c)\n"
      ],
      "metadata": {
        "colab": {
          "base_uri": "https://localhost:8080/"
        },
        "id": "pUXAXy4_vB9_",
        "outputId": "29714efd-ba68-4ab8-8746-4173e39ad829"
      },
      "execution_count": null,
      "outputs": [
        {
          "output_type": "stream",
          "name": "stdout",
          "text": [
            "Sobrepeso\n",
            "Variável A dentro da função: 1\n",
            "Variável B dentro da função: 2\n",
            "Variável C dentro da função: 30\n",
            "Variável A global: 1\n",
            "Variável B global: 20\n",
            "Variável C global: 30\n"
          ]
        }
      ]
    },
    {
      "cell_type": "markdown",
      "source": [
        "### Missão 5 - Módulo 1\n",
        "#### Organização, trabalho em equipe, reuso e testes de software"
      ],
      "metadata": {
        "id": "fsbzfIP_wCOH"
      }
    },
    {
      "cell_type": "code",
      "source": [
        "# Exercícios final do módulo 1\n",
        "\n",
        "  ## Questão 2\n",
        "\n",
        "'''\n",
        "No exemplo a seguir, temos um programa em que declaramos uma lista com alguns \n",
        "números. Após a declaração, percorremos os itens da lista utilizando o laço for.\n",
        "Para cada item da lista, utilizamos uma expressão que será avaliada pelo assert. \n",
        "Essa expressão verifica se um número é par. Confira o código a seguir e responda:\n",
        "'''\n",
        "'''\n",
        "se essa condição for falsa, nós vamos ter um erro chamado AssertionError, \n",
        "que é para indicar que temos um erro exatamente no nosso assert.\n",
        "'''\n",
        "# Resposta\n",
        "\"\"\"\n",
        "Parabéns! A alternativa B está correta.\n",
        "O assert no Python gera uma exceção que, quando não é tratada, interrompe a \n",
        "execução do programa. Assim, apenas uma mensagem de erro será exibida, quando \n",
        "o programa atingir o primeiro número ímpar da lista, o 7.\n",
        "\"\"\"\n",
        "\n",
        "lista = [0, 2, 4, 6, 7, 8, 9]\n",
        "for numero in lista: \n",
        "    assert numero % 2 == 0, \"Número ímpar encontrado! -> \" + str(numero)\n"
      ],
      "metadata": {
        "colab": {
          "base_uri": "https://localhost:8080/",
          "height": 200
        },
        "id": "2sPzWigDhoQZ",
        "outputId": "a0c3e990-ceeb-4d58-bb74-dce68f843211"
      },
      "execution_count": null,
      "outputs": [
        {
          "output_type": "error",
          "ename": "AssertionError",
          "evalue": "ignored",
          "traceback": [
            "\u001b[0;31m---------------------------------------------------------------------------\u001b[0m",
            "\u001b[0;31mAssertionError\u001b[0m                            Traceback (most recent call last)",
            "\u001b[0;32m<ipython-input-8-1ef08805d000>\u001b[0m in \u001b[0;36m<module>\u001b[0;34m\u001b[0m\n\u001b[1;32m     16\u001b[0m \u001b[0mlista\u001b[0m \u001b[0;34m=\u001b[0m \u001b[0;34m[\u001b[0m\u001b[0;36m0\u001b[0m\u001b[0;34m,\u001b[0m \u001b[0;36m2\u001b[0m\u001b[0;34m,\u001b[0m \u001b[0;36m4\u001b[0m\u001b[0;34m,\u001b[0m \u001b[0;36m5\u001b[0m\u001b[0;34m,\u001b[0m \u001b[0;36m6\u001b[0m\u001b[0;34m,\u001b[0m \u001b[0;36m7\u001b[0m\u001b[0;34m,\u001b[0m \u001b[0;36m8\u001b[0m\u001b[0;34m,\u001b[0m \u001b[0;36m9\u001b[0m\u001b[0;34m]\u001b[0m\u001b[0;34m\u001b[0m\u001b[0;34m\u001b[0m\u001b[0m\n\u001b[1;32m     17\u001b[0m \u001b[0;32mfor\u001b[0m \u001b[0mnumero\u001b[0m \u001b[0;32min\u001b[0m \u001b[0mlista\u001b[0m\u001b[0;34m:\u001b[0m\u001b[0;34m\u001b[0m\u001b[0;34m\u001b[0m\u001b[0m\n\u001b[0;32m---> 18\u001b[0;31m     \u001b[0;32massert\u001b[0m \u001b[0mnumero\u001b[0m \u001b[0;34m%\u001b[0m \u001b[0;36m2\u001b[0m \u001b[0;34m==\u001b[0m \u001b[0;36m0\u001b[0m\u001b[0;34m,\u001b[0m \u001b[0;34m\"Número ímpar encontrado! -> \"\u001b[0m \u001b[0;34m+\u001b[0m \u001b[0mstr\u001b[0m\u001b[0;34m(\u001b[0m\u001b[0mnumero\u001b[0m\u001b[0;34m)\u001b[0m\u001b[0;34m\u001b[0m\u001b[0;34m\u001b[0m\u001b[0m\n\u001b[0m",
            "\u001b[0;31mAssertionError\u001b[0m: Número ímpar encontrado! -> 5"
          ]
        }
      ]
    },
    {
      "cell_type": "code",
      "source": [
        "lista = [5, 10, 20]\n",
        "soma = sum(lista)\n",
        "assert soma == 35, \"Aguardando sucesso!\"\n",
        "assert soma !=35, \"Aguardando erro!\"\n",
        "Traceback (most recent call last):\n",
        "File \"<stdin>\", line 1, in <module>\n",
        "AssertionError: Aguardando erro!"
      ],
      "metadata": {
        "colab": {
          "base_uri": "https://localhost:8080/",
          "height": 200
        },
        "id": "Qr4ZGkTtsZgI",
        "outputId": "86670fe6-145a-4e98-8b1c-9b9106fd2a38"
      },
      "execution_count": null,
      "outputs": [
        {
          "output_type": "error",
          "ename": "AssertionError",
          "evalue": "ignored",
          "traceback": [
            "\u001b[0;31m---------------------------------------------------------------------------\u001b[0m",
            "\u001b[0;31mAssertionError\u001b[0m                            Traceback (most recent call last)",
            "\u001b[0;32m<ipython-input-4-646c7b63cc9f>\u001b[0m in \u001b[0;36m<module>\u001b[0;34m\u001b[0m\n\u001b[1;32m      2\u001b[0m \u001b[0msoma\u001b[0m \u001b[0;34m=\u001b[0m \u001b[0msum\u001b[0m\u001b[0;34m(\u001b[0m\u001b[0mlista\u001b[0m\u001b[0;34m)\u001b[0m\u001b[0;34m\u001b[0m\u001b[0;34m\u001b[0m\u001b[0m\n\u001b[1;32m      3\u001b[0m \u001b[0;32massert\u001b[0m \u001b[0msoma\u001b[0m \u001b[0;34m==\u001b[0m \u001b[0;36m35\u001b[0m\u001b[0;34m,\u001b[0m \u001b[0;34m\"Aguardando sucesso!\"\u001b[0m\u001b[0;34m\u001b[0m\u001b[0;34m\u001b[0m\u001b[0m\n\u001b[0;32m----> 4\u001b[0;31m \u001b[0;32massert\u001b[0m \u001b[0msoma\u001b[0m \u001b[0;34m!=\u001b[0m\u001b[0;36m35\u001b[0m\u001b[0;34m,\u001b[0m \u001b[0;34m\"Aguardando erro!\"\u001b[0m\u001b[0;34m\u001b[0m\u001b[0;34m\u001b[0m\u001b[0m\n\u001b[0m",
            "\u001b[0;31mAssertionError\u001b[0m: Aguardando erro!"
          ]
        }
      ]
    },
    {
      "cell_type": "code",
      "source": [
        "# Self para definir objeto (nome do arquivo 'pessoa.py')\n",
        "\n",
        "class Pessoa:\n",
        "    def __init__(self, nome, idade): # Atributos da classe Pessoa (nome e idade)\n",
        "        self.nome - nome\n",
        "        self.idade = idade\n",
        "    \n",
        "    def setNome(self, nome): # Atrubir nome\n",
        "        self.nome = nome\n",
        "    \n",
        "    def setIdade(self, idade): # Atrubir idade\n",
        "        self.idade = idade\n",
        "    \n",
        "    def getNome(self): # Informar nome quando solicitado\n",
        "        return self.nome\n",
        "    \n",
        "    def getIdade(self): # Informar idade quando solicitado\n",
        "        return self.idade\n",
        "\n",
        "'''=========================================================================='''\n",
        "\n",
        "from pessoa import Pessoa # Dar nome ao arquivo, do código anterior, de pessoa.py\n",
        "\n",
        "pessoa_1 = Pessoa(\"Fulano da Silva\", 25)\n",
        "\n",
        "print(f'O nome da pessoa_1 é {pessoa_1.getNome()} e a idade é {pessoa_1.getIdade()}.')\n",
        "\n",
        "'''=========================================================================='''\n",
        "\n",
        "from pessoa import Pessoa # Novo arquivo chamado PessoaFisica.py\n",
        "\n",
        "class PessoaFisica(Pessoa) # PessoaFisica herda tudo o que a classe Pessoa já tem\n",
        "    def __init__(self, cpf, nome, idade): # adicionamos o cpf\n",
        "        super().__init__(nome, idade) # definimos o CPF ao objeto\n",
        "        self.CPF = cpf\n",
        "\n",
        "    def setCPF(self, cpf):\n",
        "        self.CPF = cpf\n",
        "\n",
        "    def getCPF(self):\n",
        "        return self.CPF"
      ],
      "metadata": {
        "id": "Qct7lQN0hoNk"
      },
      "execution_count": null,
      "outputs": []
    },
    {
      "cell_type": "markdown",
      "source": [
        "## Nível 3 - Missão 4"
      ],
      "metadata": {
        "id": "FQNtVPRTmQqw"
      }
    },
    {
      "cell_type": "markdown",
      "source": [
        "### Missão 4 - Módulo 3 (Pilhas, Filas, Tuplas e Conjuntos)\n",
        "#### (Pilhas, Filas, Tuplas e Conjuntos)"
      ],
      "metadata": {
        "id": "m0VorvVbxIwU"
      }
    },
    {
      "cell_type": "code",
      "source": [
        "# Exercícios final do módulo 1\n",
        "\n",
        "  ## Questão 2\n",
        "'''\n",
        "Observe os conjuntos 1 e 2 definidos a seguir:\n",
        "'''\n",
        "'''\n",
        "Parabéns! A alternativa B está correta.\n",
        "Essa operação se chama diferença de conjuntos. Ela busca os elementos \n",
        "que estão no conjunto1 e não estão no conjunto2.\n",
        "'''\n",
        "conjunto1 = {100, 200, 300}\n",
        "conjunto2 = {200, 400, 500}\n",
        "\n",
        " # Resposta\n",
        "conjunto1.difference(conjunto2)"
      ],
      "metadata": {
        "colab": {
          "base_uri": "https://localhost:8080/"
        },
        "id": "RTk6ezv2_4AT",
        "outputId": "b17484dc-e395-400d-e79d-5853acf456ae"
      },
      "execution_count": null,
      "outputs": [
        {
          "output_type": "execute_result",
          "data": {
            "text/plain": [
              "{100, 300}"
            ]
          },
          "metadata": {},
          "execution_count": 39
        }
      ]
    },
    {
      "cell_type": "code",
      "source": [
        "# Pilhas, Filas, Tuplas e Conjuntos\n",
        "\n",
        "'''\n",
        "Neste módulo, você será apresentado às estruturas de dados Pilha, Fila, \n",
        "Tupla e Set e entenderá como elas são implementadas em Python. Além disso, \n",
        "conhecerá cada uma delas e seus principais métodos e características.\n",
        "'''\n",
        "\n",
        "  ## Estrutura de dados Pilha\n",
        "    ### Pilhas\n",
        "\n",
        "'''\n",
        "Para entender o que é a estrutura de dados Pilha, imagine que tenhamos \n",
        "um monte de CDs empilhados.\n",
        "Para adicionarmos um novo CD à nossa pilha, precisamos colocá-lo pela parte \n",
        "de cima, ou seja, pelo topo. Para remover um CD, também precisamos fazê-lo \n",
        "pelo topo.\n",
        "\n",
        "Não temos como retirar um CD do meio da pilha sem antes tirar todos os \n",
        "outros acima. Você concorda?\n",
        "\n",
        "Computacionalmente falando, a estrutura de dados Pilha funciona exatamente \n",
        "como foi ilustrado anteriormente. Os elementos são inseridos ou removidos \n",
        "sempre a partir de um único ponto: o topo.\n",
        "\n",
        "Assim como as listas, as pilhas são não homogêneas, dinâmicas e lineares. \n",
        "O princípio de funcionamento de uma pilha é o LIFO (do inglês last in, \n",
        "first out, ou seja, último a entrar, primeiro a sair).\n",
        "\n",
        "As operações de inserção e remoção de um item na pilha são normalmente \n",
        "chamadas de push e pop. Elas fazem as seguintes inserções:\n",
        "\n",
        " - Operação push\n",
        "   Insere um item no topo da pilha.\n",
        "\n",
        " - Operação pop\n",
        "   Remove o item do topo da pilha.\n",
        "\n",
        "Para acessar determinado elemento, faça o seguinte:\n",
        "  Execute o comando pop até encontrar o elemento que se deseja acessar.\n",
        "\n",
        "O Python não contém uma classe específica para Pilha, porém a classe list \n",
        "contém dois métodos que fazem com que a lista se comporte como uma pilha. \n",
        "Observe cada um deles:\n",
        "\n",
        " - Append\n",
        "   Esse método inclui um elemento sempre ao final da lista. \n",
        "   Ele faz o papel do push.\n",
        "\n",
        " - Pop\n",
        "   Esse método retorna e remove o último elemento da lista. \n",
        "   Ele faz o papel do próprio pop.\n",
        "'''\n",
        "\n",
        " ## Manipulando os dados da pilha\n",
        "\n",
        "'''\n",
        "No exemplo adiante, vamos iniciar uma pilha vazia e utilizar os \n",
        "métodos append e pop para modificá-la:\n",
        "\n",
        "pilha = []\n",
        "pilha.append(1)\n",
        "pilha.append(2)\n",
        "pilha.append(3)\n",
        "print(pilha)\n",
        "[1, 2, 3]\n",
        "pilha.append(4)     ← último elemento inserido\n",
        "print(pilha)\n",
        "[1, 2, 3, 4]\n",
        "pilha.pop()  ← retorna e remove o último elemento\n",
        "4\n",
        "print(pilha)\n",
        "[1, 2, 3]     ← o 3 passa a ser o último elemento\n",
        "pilha.pop() ← retorna e remove o último elemento\n",
        "3\n",
        "print(pilha)\n",
        "[1, 2]     ← o 2 passa a ser o último elemento\n",
        "\n",
        "Um exemplo prático de utilização de pilhas é o histórico de navegação. \n",
        "Quando entramos em um site e clicamos em menus, abas e links, estamos \n",
        "empilhando todas essas páginas no histórico. Ao apertarmos o botão voltar \n",
        "do navegador, estamos realizando um pop, removendo a última página e \n",
        "voltando para a anterior.\n",
        "'''\n",
        "\n",
        "  ## Estrutura de dados Fila\n",
        "    ### Filas\n",
        "\n",
        "'''\n",
        "As filas estão presentes no nosso dia a dia, seja para adentrar o cinema \n",
        "ou para entrar no banco a fim de pagar uma conta. Em uma fila tradicional, \n",
        "quando uma nova pessoa entra, ela precisa ser adicionada na última posição, \n",
        "isto é, no fim da fila. Já a próxima pessoa a ser atendida, ou seja, removida \n",
        "da fila, é sempre a primeira, a que está no início da fila.\n",
        "\n",
        "Computacionalmente falando, a estrutura de dados Fila funciona exatamente \n",
        "como foi ilustrado anteriormente.\n",
        "\n",
        "Os elementos são inseridos sempre no final da fila, enquanto, para remover \n",
        "um elemento, é necessário fazê-lo pela frente da fila. O final de uma fila \n",
        "é aquele em que fica o último elemento inserido. Não temos como recuperar \n",
        "um elemento do meio da fila sem antes remover todos aqueles à sua frente.\n",
        "'''\n",
        "\n",
        "  ## Incluindo e removendo elementos da fila\n",
        "\n",
        "'''\n",
        "Assim como as listas, as filas são:\n",
        " - Não homogêneas;\n",
        " - Dinâmicas;\n",
        " - Lineares.\n",
        " - report_problem\n",
        "\n",
        " => Atenção!\n",
        "    O princípio de funcionamento de uma fila é o FIFO. As operações de \n",
        "    inserção e remoção de um item na fila são normalmente chamadas de \n",
        "    enqueue e dequeue. O enqueue insere um item no final da fila, enquanto \n",
        "    o dequeue o remove do início dela.\n",
        "\n",
        "Para acessar determinado elemento, é preciso executar o comando dequeue \n",
        "até encontrar o elemento desejado.\n",
        "\n",
        "Com esses dois métodos, é possível adicionar elementos por uma extremidade \n",
        "e removê-los por outra da lista, fazendo com que se comporte exatamente como \n",
        "uma fila. Como a nossa fila é um objeto do tipo list, para inicializá-la, \n",
        "fazemos exatamente como nas listas.\n",
        "'''\n",
        "  ## Manipulando os dados da fila\n",
        "\n",
        "'''\n",
        "No exemplo a seguir, vamos iniciar uma fila vazia e utilizar os métodos \n",
        "append e pop para modificar nossa fila.\n",
        "\n",
        "fila = []\n",
        "fila.append(1)\n",
        "fila.append(2)\n",
        "fila.append(3)\n",
        "print(fila)\n",
        "[1, 2, 3]\n",
        "fila.append(4)     ← último elemento inserido\n",
        "print(fila)\n",
        "[1, 2, 3, 4]\n",
        "fila.pop(0)\n",
        "1     ← retorna e remove o primeiro elemento\n",
        "print(fila)\n",
        "[2, 3, 4]     ← o 2 passa a ser o primeiro elemento\n",
        "fila.pop()\n",
        "2     ← retorna e remove o primeiro elemento\n",
        "print(fila)\n",
        "[3, 4]     ← o 3 passa a ser o primeiro elemento\n",
        "\n",
        "'''\n",
        "    ### Atividade discursiva\n",
        "'''\n",
        "O Python não contém uma classe específica para filas, porém a classe \n",
        "________ contém dois métodos que fazem com que a lista se comporte \n",
        "como uma fila.\n",
        "\n",
        "O primeiro método é o ________, que já vimos anteriormente. Esse método \n",
        "inclui um elemento sempre ao final da fila. Ele faz o papel do ________.\n",
        "\n",
        "O segundo método é o ________, mas com o parâmetro 0 pop(0), que retorna e \n",
        "remove o ________ elemento inserido, ou seja, o elemento do ________ da fila. \n",
        "Ele faz o papel do ________.\n",
        "\n",
        "A sequência correta é:\n",
        "\n",
        "O Python não contém uma classe específica para filas, porém a classe \n",
        "list contém dois métodos que fazem com que a lista se comporte \n",
        "como uma fila.\n",
        "\n",
        "O primeiro método é o append, que já vimos anteriormente. Esse método \n",
        "inclui um elemento sempre ao final da fila. Ele faz o papel do enqueue.\n",
        "\n",
        "O segundo método é o pop, porém com parâmetro 0 pop(0), que retorna e \n",
        "remove o primeiro elemento inserido, ou seja, o elemento do início da fila. \n",
        "Ele faz o papel do dequeue.\n",
        "'''\n",
        "  ## Estrutura de dados Tupla\n",
        "    ### Tuplas\n",
        "\n",
        "'''\n",
        "Quanto às suas características, as Tuplas são não homogêneas, pois podem \n",
        "conter elementos de diferentes tipos (inteiro, decimal, caracteres etc.); \n",
        "estáticas, porque seus tamanhos não podem variar durante a execução do \n",
        "programa; e lineares, já que têm seus dados organizados de forma sequencial.\n",
        "\n",
        "Definindo uma tupla\n",
        "\n",
        "Assim como nas listas, os elementos de uma tupla em Python podem ser de \n",
        "diferentes tipos, incluindo outra tupla, como no exemplo a seguir, em que \n",
        "temos como elementos um número inteiro, uma string, uma lista e uma outra \n",
        "tupla.\n",
        "\n",
        "tupla = (1, 'Hello', [1, 2], (3,4))\n",
        "\n",
        "Diferentemente das listas, as Tuplas são sequências imutáveis.\n",
        "\n",
        "Elas não podem ser alteradas durante a execução do programa.\n",
        "'''\n",
        "  ## Acessando os dados da Tupla\n",
        "\n",
        "'''\n",
        "A forma de acessar um elemento da Tupla é igual à das listas: precisamos \n",
        "apenas do índice do elemento.\n",
        "\n",
        "No exemplo adiante, vamos imprimir o valor do elemento na posição 2, lembrando \n",
        "que o primeiro elemento da tupla tem índice 0:\n",
        "\n",
        "tupla = ('a', 'b', 'c')\n",
        "item = tupla[2]\n",
        "print(item)\n",
        "'c'\n",
        "\n",
        "Assim como nas listas, podemos utilizar o método index para encontrar o \n",
        "índice de um elemento.\n",
        "\n",
        "tupla = ('a', 'b', 'c')\n",
        "indice_a = tupla.index('a')\n",
        "print(indice_a)\n",
        "0\n",
        "\n",
        "Como as tuplas são imutáveis, se tentarmos alterar um elemento utilizando o \n",
        "índice, o sistema retornará um erro (TypeError).\n",
        "'''\n",
        "  ## Iterando a Tupla\n",
        "'''\n",
        "As Tuplas são iteráveis (iterable), ou seja, capazes de retornar seus \n",
        "elementos um de cada vez. Para percorrermos as Tuplas, utilizaremos a mesma \n",
        "sintaxe das listas, como ocorre no exemplo a seguir:\n",
        "\n",
        "tupla = ('a', 'b', [1, 2, 3], (1, 2, 3))\n",
        "for elemento in tupla:\n",
        "    print(elemento)\n",
        "a\n",
        "b\n",
        "[1, 2, 3]\n",
        "(1, 2, 3)\n",
        "\n",
        "Alterar a Tupla\n",
        "Como as Tuplas não podem ser alteradas, nenhum dos métodos apresentados para \n",
        "as listas que implicam alguma modificação está presente nas Tuplas, \n",
        "incluindo o sort e o reverse.\n",
        "\n",
        "Outras funções da Tupla\n",
        "As funções internas do Python aplicadas às listas também se aplicam às Tuplas: \n",
        "len, min, max e sum, assim como os operadores de pertinência (in e not in), \n",
        "equivalência (==), concatenação (+) e multiplicação (*), também podem ser \n",
        "aplicados aos objetos do tipo tuple. Isso se dá porque todas essas funções \n",
        "e operadores retornam um novo valor e não alteram a tupla.\n",
        "'''\n",
        "\n",
        "'''\n",
        "Por fim, vamos comparar as Tuplas com as Listas:\n",
        "\n",
        " - As Tuplas são mais eficientes que as Listas;\n",
        " - As Tuplas podem ser utilizadas como chave para a estrutura de dados Hash \n",
        "implementada em Python, como dicionário, classe dict;\n",
        " - As Tuplas podem ser incluídas em conjuntos (sets).\n",
        "'''\n",
        "  ## Estrutura de dados Conjunto\n",
        "    ### Conjuntos (Set)\n",
        "'''\n",
        "Em Python, a classe responsável por implementar os Conjuntos se chama Set.\n",
        "\n",
        "\n",
        "Os Conjuntos podem ser utilizados para remover itens duplicados de outras \n",
        "sequências ou testes de pertinência e computar operações matemáticas, \n",
        "como união e interseção, entre outras.\n",
        "\n",
        "Quanto às suas características, os Conjuntos são:\n",
        "\n",
        " - Não homogêneos\n",
        "Pois podem conter elementos de diferentes tipos \n",
        "(inteiro, decimal, caracteres etc.).\n",
        "\n",
        " - Dinâmicos\n",
        "Já que seus tamanhos podem variar durante a execução do programa quando \n",
        "inserimos e removemos elementos.\n",
        "\n",
        " - Não lineares\n",
        "Porque seus dados não são organizados de forma sequencial.\n",
        "'''\n",
        "  ## Definindo um conjunto\n",
        "'''\n",
        "Para inicializarmos um objeto do tipo Set, podemos proceder de duas formas:\n",
        "\n",
        "Utilizar chaves com elementos separados por vírgula\n",
        "\n",
        "conjunto = {1, 2, 3}\n",
        "\n",
        "Utilizar o construtor set(), que aceita como parâmetro outras coleções\n",
        "\n",
        "conjunto = set()\n",
        "conjunto = set((1,2,3))\n",
        "conjunto = set([1,2,3])\n",
        "\n",
        "Assim como nas Listas, os elementos de um conjunto podem ser de diferentes \n",
        "tipos, desde que o próprio elemento e seus filhos sejam imutáveis, como no \n",
        "exemplo a seguir, em que temos como elementos um número inteiro, uma string \n",
        "e uma tupla:\n",
        "\n",
        "conjunto = {1, 'Hello', (3,4)}\n",
        "\n",
        "Apesar de os elementos de um conjunto serem imutáveis, os Conjuntos são \n",
        "coleções mutáveis, ou seja, eles podem ser alterados durante a execução \n",
        "do programa.\n",
        "'''\n",
        "  ## Acessando os dados do Conjunto\n",
        "\n",
        "'''\n",
        "Como os Conjuntos não são organizados sequencialmente, eles não armazenam seus \n",
        "elementos em índices; com isso, não podemos acessá-los diretamente pela sua \n",
        "posição, como fazemos nas listas. Para recuperarmos um elemento, precisamos \n",
        "iterar sobre o conjunto ou utilizar o método pop, que será apresentado a seguir.\n",
        "'''\n",
        "  ## Iterando o Conjunto\n",
        "\n",
        "'''\n",
        "Os Conjuntos, assim como as Listas, também são iteráveis (iterable), ou seja, \n",
        "capazes de retornar seus elementos um de cada vez. Para percorrermos \n",
        "os Conjuntos, utilizamos a mesma sintaxe das Listas, como se pode verificar \n",
        "no exemplo a seguir:\n",
        "\n",
        "conjunto = {'a', 1, 2020, (28, 12), 'a'}     ← itens duplicados são automaticamente removidos\n",
        "for elemento in conjunto:\n",
        "    print(elemento)\n",
        "1\n",
        "(28, 12)\n",
        "2020\n",
        "a\n",
        "\n",
        "Como os Conjuntos não armazenam seus elementos de forma sequencial, \n",
        "eles são retornados de forma aleatória.\n",
        "'''\n",
        "  ## Alterando o Conjunto\n",
        "\n",
        "'''\n",
        "Por ser dinâmico, o objeto do tipo Set contém um conjunto de métodos que \n",
        "permite alterar seus elementos. Veremos adiante seus principais métodos.\n",
        "\n",
        "Quando precisamos inserir um novo elemento no Conjunto, utilizamos o \n",
        "método add. Esse método vai inserir o elemento passado como parâmetro \n",
        "se ele ainda não existir no conjunto.\n",
        "\n",
        "Lembre-se de que os Conjuntos não contêm objetos repetidos.\n",
        "\n",
        "Confira o código a seguir para verificar como se utiliza esse método:\n",
        "\n",
        "conjunto = set()\n",
        "conjunto.add(1)\n",
        "conjunto.add(2)\n",
        "print(conjunto)\n",
        "{1, 2}\n",
        "conjunto.add(2)     ← por não conter itens duplicados, a inserção é ignorada\n",
        "print(conjunto)\n",
        "{1, 2}\n",
        "\n",
        "Além do método para adicionar, o objeto do tipo Set contém métodos para \n",
        "remover elementos do conjunto. Utilizamos o método discard e remove para \n",
        "remover elementos do Set.\n",
        "\n",
        "Nos dois métodos, o elemento é passado como parâmetro. A diferença é que, \n",
        "caso o elemento não exista, o remove lança um erro, enquanto o discard ignora o comando.\n",
        "\n",
        "Também podemos utilizar o método clear para remover todos os elementos \n",
        "do conjunto:\n",
        "\n",
        "conjunto = {1, 2, 3}\n",
        "conjunto.discard(1)\n",
        "conjunto.remove(2)\n",
        "print(conjunto)\n",
        "{3}\n",
        "conjunto.discard(5)     ← o elemento 5 não existe!\n",
        "conjunto.remove(5)\n",
        "Traceback (most recent call last):\n",
        "File \"<stdin>\", line 1, in <module>\n",
        "KeyError: 5\n",
        "conjunto.clear()\n",
        "print(conjunto)\n",
        "{ }\n",
        "\n",
        "Podemos extrair itens de forma aleatória do Conjunto utilizando o \n",
        "método pop mediante a simulação de um sorteio. Confira no exemplo a seguir:\n",
        "\n",
        "conjunto = {'a', 1, 2, 3}\n",
        "conjunto.pop()\n",
        "3\n",
        "print(conjunto)\n",
        "{1, 'a', 2}\n",
        "conjunto.pop()\n",
        "1\n",
        "print(conjunto)\n",
        "{'a', 2}\n",
        "\n",
        "Outras funções do Conjunto\n",
        "As funções internas do Python que se aplicam às Listas também se aplicam aos \n",
        "Conjuntos: len, min, max e sum. Os operadores de pertinência (in e not in) e \n",
        "equivalência (==) também podem ser aplicados aos objetos do tipo Set.\n",
        "\n",
        "Os objetos do tipo Set disponibilizam alguns métodos relacionados a operações \n",
        "matemáticas. No exemplo a seguir, mostraremos a utilização de alguns deles: \n",
        "union (união), intersection (intercessão) e difference (diferença). \n",
        "Todos esses métodos retornam um novo conjunto.\n",
        "\n",
        "conjunto_a = {1, 2, 3}\n",
        "conjunto_b = {4, 5, 6}\n",
        "conjunto_b = {3, 4, 5}\n",
        "uniao = conjunto_a.union(conjunto_b)\n",
        "print(uniao)\n",
        "{1, 2, 3, 4, 5}\n",
        "intersecao = conjunto_a.intersection(conjunto_b)\n",
        "print(intersecao)\n",
        "{3}\n",
        "diferenca = conjunto_a.difference(conjunto_b)\n",
        "print(diferenca)\n",
        "{1, 2}\n",
        "\n",
        "O Python permite utilizar operadores para realizar essas mesmas operações:\n",
        "\n",
        "operador |: união;\n",
        "operador &: interseção;\n",
        "operador -: diferença.\n",
        "'''"
      ],
      "metadata": {
        "id": "78hiiXLWxQNn"
      },
      "execution_count": null,
      "outputs": []
    },
    {
      "cell_type": "markdown",
      "source": [
        "### Missão 4 - Módulo 2 (Listas)\n",
        "#### (Listas)"
      ],
      "metadata": {
        "id": "G1PG6AstxDvu"
      }
    },
    {
      "cell_type": "code",
      "source": [
        "# Exercícios final do módulo 1\n",
        "\n",
        "  ## Questão 1\n",
        "\n",
        "## >>> minha_lista = [ 0.5*item for item in [0, 1, 2, 3] ]\n",
        "\n",
        "'''\n",
        "Parabéns! A alternativa B está correta.\n",
        "No exercício, utilizamos a compreensão de listas para criar uma lista. \n",
        "Vamos iterar a lista [0,1,2,3] e aplicar a transformação elemento*0.5. \n",
        "Com isso, obtemos [0.0, 0.5, 1.0, 1.5] como resultado.\n",
        "'''\n",
        "\n",
        "lista = [0, 1, 2, 3]\n",
        "minha_lista = [ 0.5*item for item in lista ]\n",
        "print(minha_lista)\n",
        "\n",
        "  ## Questão 2\n",
        "\n",
        "'''\n",
        "Parabéns! A alternativa A está correta.\n",
        "O método append adiciona um único elemento à lista, mesmo que seja \n",
        "outra lista. A lista final será [10, 20, 30, 40, [1, 2, 3, 4]], que é \n",
        "composta pelos elementos 10, 20, 30, 40 e [1, 2, 3, 4], ou seja, \n",
        "5 elementos. Lembre-se de que, para concatenarmos duas listas, \n",
        "utilizamos o método extends.\n",
        "'''\n",
        "\n",
        "lista = [10, 20, 30, 40]\n",
        "lista.append([1, 2, 3, 4])\n",
        "print(len(lista))\n",
        "\n"
      ],
      "metadata": {
        "colab": {
          "base_uri": "https://localhost:8080/"
        },
        "id": "gO_ph7pJ5dG1",
        "outputId": "e83cd824-f977-46c1-880d-c737e64a9062"
      },
      "execution_count": null,
      "outputs": [
        {
          "output_type": "stream",
          "name": "stdout",
          "text": [
            "[0.0, 0.5, 1.0, 1.5]\n",
            "5\n"
          ]
        }
      ]
    },
    {
      "cell_type": "code",
      "source": [
        "# Listas\n",
        "\n",
        "  ## Definindo uma lista\n",
        "\n",
        "'''\n",
        "Para declararmos um objeto do tipo list, podemos proceder de diversas formas:\n",
        "\n",
        " - Utilizar apenas os colchetes para declarar uma lista vazia:\n",
        "   lista = []\n",
        " - Utilizar os colchetes com os elementos separados por vírgula:\n",
        "   lista = [a, b, c]\n",
        " - Utilizar o construtor list(), que aceita como parâmetro outras coleções:\n",
        "   lista = list()\n",
        "   lista = list([1, 2, 3])\n",
        "\n",
        "Os elementos de uma lista em Python podem ser de diferentes tipos, \n",
        "incluindo outra lista. No exemplo adiante, definiremos uma lista \n",
        "que contém um número inteiro, uma string e outra lista.\n",
        "\n",
        "   lista = [1, 'Hello', [1, 2]]\n",
        "\n",
        "É importante considerar que as listas são sequências mutáveis.\n",
        "'''\n",
        "\n",
        "  ## Acessando os dados da lista\n",
        "'''\n",
        "A forma de acessar um elemento da lista é muito similar à das matrizes. \n",
        "Precisa-se apenas do índice do elemento.\n",
        "\n",
        "No exemplo a seguir, vamos imprimir o valor do elemento na posição 1, \n",
        "lembrando que o primeiro elemento da lista tem índice 0.\n",
        "\n",
        "  ista = ['a', 'b', 'c', 'b']\n",
        "  item = lista[1]\n",
        "  print(item)\n",
        "  'b'\n",
        "\n",
        "Durante a programação, é comum não saber o índice do elemento que se \n",
        "deseja acessar. Para esse tipo de situação, pode-se utilizar o método \n",
        "index, que retorna o índice do elemento procurado.\n",
        "\n",
        "Observe que o método index retorna o índice da primeira ocorrência do elemento.\n",
        "\n",
        "  lista = ['a', 'b', 'c', 'b']\n",
        "  indice_c = lista.index('c')\n",
        "  print(indice_c)\n",
        "  2\n",
        "  indice_b = lista.index('b')\n",
        "  print(indice_b)\n",
        "  1\n",
        "\n",
        "Assim como nas matrizes, podemos utilizar o índice de um elemento \n",
        "para alterá-lo.\n",
        "\n",
        "No exemplo a seguir, recuperaremos o índice da palavra carro e o \n",
        "alteraremos para moto:\n",
        "\n",
        "  lista = ['avião', 'helicóptero', 'carro', 'navio']\n",
        "  indice_carro = lista.index('carro')\n",
        "  print(indice_carro)\n",
        "  2\n",
        "  lista[indice_carro] = 'moto'     ← Alteração do elemento na posição de índice 2 da lista\n",
        "  print(lista)\n",
        "  ['avião', 'helicóptero', 'moto', 'navio']\n",
        "'''\n",
        "  ## Iterando a lista\n",
        "'''\n",
        "Em Python, percorrer uma lista é algo feito de forma muito rápida e direta. \n",
        "Por ser iterável (iterable), ou seja, capaz de retornar seus elementos um de \n",
        "cada vez, é possível percorrer a lista utilizando o laço for diretamente, \n",
        "sem a necessidade de criar variáveis de controle de loop.\n",
        "\n",
        "Para isso, empregaremos a seguinte sintaxe:\n",
        "\n",
        "  for elemento in lista:\n",
        "  ....(código)\n",
        "\n",
        "Nesse caso, elemento é o nome da variável que conterá o valor de cada \n",
        "elemento dentro do laço; lista, o nome da variável do tipo lista que \n",
        "desejamos percorrer; e (código), o trecho de código a ser repetido pelo laço.\n",
        "\n",
        "No exemplo adiante, vamos iterar a lista chamada minha_lista e imprimir seu valor:\n",
        "\n",
        "  minha_lista = [1, 'moto', [1, 2, 3]]\n",
        "  for elemento in minha_lista:\n",
        "    print(elemento)\n",
        "  1\n",
        "  moto\n",
        "  [1, 2, 3]\n",
        "\n",
        "Observe que listas dentro de listas ocupam apenas uma posição; \n",
        "por isso, a lista [1, 2, 3] foi retornada inteiramente.\n",
        "\n",
        "Também é possível percorrer uma lista acessando seus elementos por meio \n",
        "de seus índices:\n",
        "\n",
        "  for i in range(0, len(Lista)):\n",
        "  print(Lista[i])\n",
        "\n",
        "Nesse caso, o i é a variável que conterá o valor de cada número do intervalo \n",
        "gerado pela função nativa range, que retorna uma sequência de números inteiros, \n",
        "iniciando pelo seu primeiro argumento e terminando no número anterior ao seu \n",
        "segundo argumento. Há ainda um terceiro argumento, o incremento (“passo”), \n",
        "o qual, quando não informado, tem como valor padrão o número 0.\n",
        "\n",
        "Como a função nativa len retorna a quantidade de elementos de Lista (3), \n",
        "os valores assumidos por i durante a execução do laço for \n",
        "serão 0, 1, 2 (os índices de Lista).\n",
        "'''\n",
        "  ## Alterando a lista\n",
        "\n",
        "'''\n",
        "Por ser dinâmico (ou mutável, no linguajar Python), o objeto do tipo list \n",
        "contém um conjunto de métodos que permite alterar seus elementos. Veremos \n",
        "a seguir esses principais métodos.\n",
        "\n",
        "Quando precisamos inserir um novo elemento na lista, podemos utilizar os \n",
        "métodos append ou insert. Esses métodos executam as inserções da seguinte \n",
        "forma:\n",
        "\n",
        " - Append\n",
        "  O método append insere o elemento passado como parâmetro no final da lista\n",
        "\n",
        " - Insert\n",
        "  O método insert insere o elemento na posição indicada no parâmetro.\n",
        "\n",
        "Confira o código adiante para verificar como são utilizados tais métodos:\n",
        "\n",
        "  lista = list()\n",
        "  lista.append('carro')\n",
        "  print(lista)\n",
        "  ['carro']\n",
        "  lista.append('moto')\n",
        "  lista.append('avião')\n",
        "  print(lista)\n",
        "  ['carro', 'moto', 'avião']\n",
        "  lista.insert(1, 'bicicleta')     ← Inserimos o elemento bicicleta na posição de índice 1\n",
        "  print(lista)\n",
        "  ['carro', 'bicicleta', 'moto', 'avião']\n",
        "\n",
        "Observe que adicionamos três elementos em sequência utilizando o método \n",
        "append, carro, moto e avião; depois, utilizamos o método insert para \n",
        "inserir o elemento bicicleta na posição de índice 1, ou seja, como segundo \n",
        "elemento da lista.\n",
        "\n",
        "Em algumas ocasiões, precisamos juntar duas listas. Para isso, usamos o \n",
        "método extend, em que passamos uma lista como parâmetro. Também podemos \n",
        "empregar o método append, porém, para isso, teríamos de adicionar uma \n",
        "lista dentro da outra, que não é o desejado.\n",
        "\n",
        "Observe o próximo exemplo. Nele, mostraremos a utilização dos dois métodos:\n",
        "\n",
        "  lista_a = [1, 2, 3]\n",
        "  lista_b = [4, 5, 6]\n",
        "  lista_a.append(lista_b)\n",
        "  print(lista_a)\n",
        "  [1, 2, 3, [4, 5, 6]]     ← lista_b foi adicionada dentro da lista_a como um elemento único\n",
        "  lista_a = [1, 2, 3]\n",
        "  lista_a.extend(lista_b)\n",
        "  print(lista_a)\n",
        "  [1, 2, 3, 4, 5, 6]     ← lista_a e lista_b foram concatenadas\n",
        "\n",
        "Ao utilizar o método append, o elemento de índice 3 da lista_a passa a ser \n",
        "a lista_b inteira, [4, 5, 6]. Quando utilizamos o método extend, \n",
        "obtemos o resultado desejado.\n",
        "\n",
        "================================================================================\n",
        "\n",
        "Além dos métodos para adicionar elementos, o list contém aqueles usados para \n",
        "remover itens da lista. O método remove é utilizado para tirar o elemento \n",
        "passado como parâmetro, enquanto o clear remove todos os elementos da lista.\n",
        "\n",
        "Observe, no exemplo a seguir, que, para usarmos o método remove, não \n",
        "utilizaremos o índice, e sim o valor do elemento:\n",
        "\n",
        "lista = ['carro', 'bicicleta', 'moto', 'avião']\n",
        "lista.remove('bicicleta')\n",
        "print(lista)\n",
        "['carro', 'moto', 'avião']\n",
        "lista.clear()\n",
        "print(lista)\n",
        "[]\n",
        "'''\n",
        "  ## Outras funções da lista\n",
        "\n",
        "'''\n",
        "Além dos métodos apresentados anteriormente, o objeto list contém outros \n",
        "que são úteis. Dois exemplos são o método sort, para ordenar a lista, e o \n",
        "reverse, para inverter os elementos dela. Ambos alteram a própria lista!\n",
        "\n",
        "No próximo exemplo, mostraremos como esses métodos são utilizados:\n",
        "\n",
        "  lista = [3, 2, 1, 6, 9]\n",
        "  lista.sort()\n",
        "  print(lista)\n",
        "  [1, 2, 3, 6, 9]\n",
        "  lista.reverse()\n",
        "  print(lista)\n",
        "  [9, 6, 3, 2, 1]\n",
        "\n",
        "Algumas funções internas do Python podem ser aplicadas às listas, \n",
        "como len, min, max e sum, que retornam o tamanho, o elemento de valor \n",
        "mínimo, o elemento de valor máximo e a soma dos elementos da lista, \n",
        "respectivamente.\n",
        "\n",
        "No próximo exemplo, mostraremos como essas funções são utilizadas:\n",
        "\n",
        "  lista = [3, 7, 2, 6]\n",
        "  len(lista)\n",
        "  4\n",
        "  min(lista)\n",
        "  2\n",
        "  max(lista)\n",
        "  7\n",
        "  sum(lista)\n",
        "  18\n",
        "\n",
        "Também podemos combinar essas funções para alcançar novos objetivos. \n",
        "No exemplo adiante, vamos calcular a média dos números de uma lista sem \n",
        "percorrê-la apenas utilizando as funções sum e len:\n",
        "\n",
        "  lista = [1, 3, 5, 7, 9]\n",
        "  media = sum(lista)/len(lista)\n",
        "  print(media)\n",
        "  5.0\n",
        "'''\n",
        "  ## Operadores nas listas\n",
        "\n",
        "'''\n",
        "Alguns operadores do Python, como os de pertinência (in e not in), \n",
        "equivalência (==), concatenação (+) e multiplicação (*), também podem \n",
        "ser aplicados aos objetos do tipo list.\n",
        "\n",
        "Todos esses operadores retornam algum objeto, seja um booleano (True ou False), \n",
        "que pode ser utilizado em condicionantes if, seja uma nova lista, como \n",
        "acontece com o operador concatenação (+).\n",
        "\n",
        "No próximo exemplo, vamos mostrar o uso desses operadores:\n",
        "\n",
        "  lista1 = [1, 2, 3]\n",
        "  lista2 = [1, 2, 3]\n",
        "  lista3 = [4, 5, 6]\n",
        "  print(lista1 == lista2)\n",
        "  True\n",
        "  print(lista1 == lista3)\n",
        "  False\n",
        "  if 3 in lista1:\n",
        "    print('Achei o 3!!!')\n",
        "  Achei o 3!!!\n",
        "  nova_lista = lista1 + lista3\n",
        "  print(nova_lista)\n",
        "  [1, 2, 3, 4, 5, 6]\n",
        "  lista_repetida = lista1 * 4\n",
        "  print(lista_repetida)\n",
        "  [1, 2, 3, 1, 2, 3, 1, 2, 3, 1, 2, 3]\n",
        "\n",
        "'''\n",
        "  ## Mais sobre as listas\n",
        "'''\n",
        "Uma funcionalidade muito interessante e útil que o Python disponibiliza é a \n",
        "capacidade de criar listas e partir de outras listas de forma simplificada \n",
        "utilizando a chamada compreensão de listas (do inglês list comprehensions).\n",
        "\n",
        "A compreensão de listas permite filtrar, transformar e aplicar funções aos \n",
        "elementos de uma lista. Sua sintaxe é:\n",
        "\n",
        "  [item for item in lista]\n",
        "\n",
        "Nesse caso, item é o nome da variável que receberá o valor de cada elemento \n",
        "da lista. É sobre essa variável que aplicaremos os filtros e as transformações.\n",
        "\n",
        "No exemplo a seguir, desejamos multiplicar todos os itens de uma lista por 2:\n",
        "\n",
        "  lista = [1, 2, 3]\n",
        "  nova_lista = [item*2 for item in lista]\n",
        "  print(nova_lista)\n",
        "  [2, 4, 6]\n",
        "\n",
        "Para adicionarmos um filtro, colocaremos a condicionante if após a lista. \n",
        "Sua sintaxe será:\n",
        "\n",
        "  [item for item in lista if item cond]\n",
        "\n",
        "Nesse caso, cond é uma condicionante. Por exemplo: item > 0, item == 'a', \n",
        "item.startswith('b') etc.\n",
        "\n",
        "No exemplo adiante, vamos filtrar apenas os elementos pares de uma lista, \n",
        "ou seja, cujo resto da divisão por dois seja zero (%2 == 0):\n",
        "\n",
        "lista = [0, 1, 2, 3, 4, 5, 6]\n",
        "nova_lista = [item for item in lista if item%2 == 0]\n",
        "print(nova_lista)\n",
        "[0, 2, 4, 6]\n",
        "\n",
        "''''"
      ],
      "metadata": {
        "id": "GMwcsc2nxPt0"
      },
      "execution_count": null,
      "outputs": []
    },
    {
      "cell_type": "markdown",
      "source": [
        "### Missão 4 - Módulo 1 (Vetores e Matrizes)\n",
        "#### (Vetores, matrizes e classificação das estruturas de dados)"
      ],
      "metadata": {
        "id": "xfPP08Tswpse"
      }
    },
    {
      "cell_type": "code",
      "source": [
        "# Exercícios final do módulo 1\n",
        "\n",
        "  ## Questão 1\n",
        "'''\n",
        "Parabéns! A alternativa C está correta.\n",
        "Foram trocados os valores do vetor2 pelos valores do vetor1 \n",
        "multiplicados por 10. Portanto, os valores impressos pelo \n",
        "programa são [10, 20, 30, 40].\n",
        "'''\n",
        "\n",
        "from numpy import array\n",
        "vetor1 = array([1, 2, 3, 4], dtype=int)\n",
        "vetor2 = array([0, 0, 0, 0], dtype=int)\n",
        "aux = 0\n",
        "for elemento in vetor1:\n",
        "    vetor2[aux] = elemento*10\n",
        "    aux+=1\n",
        "\n",
        "print(vetor2)\n",
        "\n",
        "  ## Questão 2\n",
        "'''\n",
        "Parabéns! A alternativa D está correta.\n",
        "Esse é um clássico programa de imprimir a diagonal principal. O laço se \n",
        "inicia percorrendo as linhas da matriz. Para cada linha, é percorrido cada \n",
        "elemento. Mantém-se uma variável auxiliar para saber em qual linha e coluna \n",
        "se está a cada iteração do laço (aux_linha e aux_coluna). Quando o número da \n",
        "linha igual ao da coluna (aux_linha == aux_coluna) é encontrado, isso indica \n",
        "que se está na diagonal principal da matriz. Nesse momento, o valor do \n",
        "elemento da matriz é impresso.\n",
        "'''\n",
        "\n",
        "from numpy import array\n",
        "matriz = array([[1, 2, 3], [4, 5, 6], [7, 8, 9]], dtype=int)\n",
        "aux_linha = 0\n",
        "aux_coluna = 0\n",
        "for linha in matriz:\n",
        "    for elemento in linha:\n",
        "        if aux_linha == aux_coluna:\n",
        "            print(elemento)\n",
        "        aux_coluna += 1\n",
        "    aux_linha += 1\n",
        "    aux_coluna = 0"
      ],
      "metadata": {
        "colab": {
          "base_uri": "https://localhost:8080/"
        },
        "id": "QFF1ohZ-Hbxv",
        "outputId": "4a0c2dba-3e71-451f-c953-4d5b6fba5aa8"
      },
      "execution_count": null,
      "outputs": [
        {
          "output_type": "stream",
          "name": "stdout",
          "text": [
            "[10 20 30 40]\n",
            "1\n",
            "5\n",
            "9\n"
          ]
        }
      ]
    },
    {
      "cell_type": "code",
      "source": [
        "# início\n",
        "\n",
        "\"\"\"\n",
        "Para definirmos um vetor em NumPy, utilizamos a seguinte sintaxe:\n",
        "\n",
        "  ->  nome = array([ elementos ], dtype=tipo)\n",
        "\n",
        "Nesse caso, nome é o nome da variável; elementos, os itens separados por \n",
        "vírgula que vão compor o vetor; e tipo, o tipo do elemento que será armazenado \n",
        "no vetor como int, float e str. O tamanho do vetor é definido automaticamente \n",
        "pelo número de elementos.\n",
        "\n",
        "Para ilustrarmos isso, vamos declarar uma variável chamada notas_real, que é \n",
        "um vetor de inteiros contendo os seis possíveis valores de notas do Real: \n",
        "R$2,00, R$5,00, R$10,00, R$20,00, R$50,00 e R$100,00. \n",
        "Primeiramente, vamos importar a classe array do NumPy e, \n",
        "em seguida, declarar o vetor.\n",
        "\n",
        ">>> from numpy import array\n",
        ">>> notas_real = array([2, 5, 10, 20, 50, 100], dtype=int)\n",
        "\n",
        "================================================================================\n",
        "\n",
        "Este código imprime os dados armazenados nos índices 0 e 5:\n",
        "\n",
        ">>> notas_real = array([2, 5, 10, 20, 50, 100], dtype=int)\n",
        ">>> print(notas_real[0])\n",
        "2\n",
        ">>> print(notas_real[5])\n",
        "100\n",
        "\n",
        "================================================================================\n",
        "\n",
        "Para alterar um elemento do vetor, basta atribuir o novo valor ao seu índice. \n",
        "Vamos praticar isso um pouco.\n",
        "\n",
        "No campo Input do emulador de código a seguir, informe o índice do elemento \n",
        "que você deseja substituir e, na linha seguinte, o novo valor a ser inserido \n",
        "nesse elemento do vetor.\n",
        "\n",
        "Exemplo:\n",
        "\n",
        "5\n",
        "20\n",
        "\n",
        "from numpy import array\n",
        "\n",
        "def main():\n",
        "    idades = array([10, 30, 45, 62, 74], dtype=int)\n",
        "    print(f\"vetor antes da insercao: {idades}\")\n",
        "    indice = eval(input()) # recebe o índice\n",
        "    elemento = eval(input()) # recebe o novo elemento\n",
        "    # inserindo o novo elemento escolhido\n",
        "    idades[indice] = elemento\n",
        "    print(f\"vetor depois da insercao: {idades}\")\n",
        "\n",
        "if __name__ == \"__main__\":\n",
        "    main()\n",
        "\n",
        "================================================================================\n",
        "\n",
        "# Iterando o vetor\n",
        "\n",
        "Nesse caso, elemento é o nome da variável que conterá o valor de cada elemento;\n",
        "vetor, o nome da variável que desejamos percorrer; e (código), o trecho de \n",
        "código que será repetido pelo laço.\n",
        "\n",
        "Veja o exemplo a seguir. Nele, vamos imprimir todos os elementos do \n",
        "vetor notas_real.\n",
        "\n",
        "from numpy import array\n",
        "notas_real = array([2, 5, 10, 20, 50, 100], dtype=int)\n",
        "print(notas_real[0])\n",
        "print(notas_real[5])\n",
        "\n",
        "for elemento in notas_real:\n",
        "  print(elemento, end=' - ')\n",
        "\n",
        "================================================================================\n",
        "\n",
        "# Matrizes\n",
        "\n",
        "  ## Definindo uma matriz\n",
        "\n",
        "A declaração de matrizes é muito semelhante à de um vetor. \n",
        "Declaramos uma matriz de duas dimensões da seguinte forma:\n",
        "\n",
        "nome =array([ [vetor1], [vetor2], [vetor3], ... ], dtype=tipo)\n",
        "\n",
        "Nesse caso, nome é o nome da variável, vetor1, vetor2 e vetor3 representam as \n",
        "linhas da matriz e tipo é o tipo do elemento que será armazenado na matriz \n",
        "como int, float e str. O número de colunas será determinado pelo número de \n",
        "elementos dos vetores.\n",
        "\n",
        "Para ilustrarmos isso, vamos imaginar uma tabela contendo as cadeiras \n",
        "(ou matérias) para os dois semestres de um ano. Cada semestre contém três \n",
        "cadeiras. No primeiro semestre, temos as cadeiras Português, \n",
        "Matemática e Química; no segundo semestre, História, Geografia e Física.\n",
        "\n",
        "Veja a tabela adiante. Na primeira linha, há as cadeiras do primeiro semestre; \n",
        "na segunda linha, as cadeiras do segundo semestre. Observe que existem \n",
        "duas linhas e três colunas:\n",
        "\n",
        "1 semestre\tPortuguês\t Matemática\t  Química\n",
        "2 semestre\tHistória\t Geografia\t  Física\n",
        "\n",
        "Para representarmos essa tabela como uma matriz, vamos declarar uma variável \n",
        "chamada cadeiras, que é uma matriz com elementos do tipo str (caracteres). \n",
        "Teremos dois elementos na primeira dimensão (linha) e três na segunda \n",
        "dimensão (coluna).\n",
        "\n",
        "Observe a seguir:\n",
        "\n",
        "cadeiras = array([[“Português”, “Matemática”, “Química”], [“História”, “Geografia”, “Física”]], dtype=str)\n",
        "\n",
        "================================================================================\n",
        "\n",
        "  ## Acessando os dados da matriz\n",
        "\n",
        "Assim como nos vetores, os dados de uma matriz podem ser acessados \n",
        "diretamente pelos seus índices. Em uma matriz de duas dimensões, pode-se \n",
        "entender o índice como coordenadas de linha e coluna.\n",
        "\n",
        "Em NumPy, podemos acessar um dado de uma matriz da seguinte forma:\n",
        "\n",
        "nome[indice_1][indice_2]\n",
        "\n",
        "Nesse caso, indice_1 é um número inteiro que representa a posição do item na \n",
        "primeira dimensão (linha); indice_2, um número inteiro que representa a \n",
        "posição do item na segunda dimensão (coluna). Assim como os vetores, os \n",
        "índices da matriz começam em 0 (zero).\n",
        "\n",
        "Uma ilustração dos índices da matriz cadeiras está representada na imagem a \n",
        "seguir. A cadeira Português é armazenada no índice 00, de forma que ela pode \n",
        "ser acessada por cadeiras[0][0], enquanto a cadeira Matemática pode ser \n",
        "acessada por cadeiras[0][1] - e assim por diante.\n",
        "\n",
        "DADO    Português    Matemática    Química\n",
        "ÍNDICE     00            01           02\n",
        "\n",
        "DADO     História    Geografia     Física\n",
        "ÍNDICE     10            11           12\n",
        "\n",
        "Este código imprime os dados armazenados nos índices 00 e 12:\n",
        "\n",
        "from numpy import array\n",
        "cadeiras = array([[\"Português\", \"Matemática\" , \"Química\" ], [\"História\", \"Geografia\" , \"Física\"]], dtype=str)\n",
        "print(cadeiras[0][0])\n",
        "print(cadeiras[1][2])\n",
        "\n",
        "Saída:\n",
        "PortuguÊs\n",
        "Física\n",
        "\n",
        "Para alterar um elemento de uma matriz, basta atribuir o novo valor \n",
        "ao seu índice. No exemplo a seguir, vamos substituir o valor Física, \n",
        "que está no índice [1][2], por Cálculo.\n",
        "\n",
        "\n",
        ">>> cadeiras = array([[\"Português\", \"Matemática\", \"Química\"], [\"História\", \"Geografia\", \"Física\"]], dtype=str)\n",
        ">>> cadeiras[1][2] = 'Cálculo'\n",
        ">>> print(cadeiras[1][2])\n",
        "Cálculo\n",
        "\n",
        "================================================================================\n",
        "\n",
        "  ## Iterando a matriz\n",
        "\n",
        "Para percorrer os elementos de uma matriz de duas dimensões, \n",
        "utiliza-se a sintaxe:\n",
        "\n",
        "for linha in matriz:\n",
        "    for elemento in linha:\n",
        "        ....(código)\n",
        "\n",
        "Veja o exemplo a seguir. A função itera_matriz imprime todos os \n",
        "elementos da matriz recebida por parâmetro.\n",
        "\n",
        "No exemplo, vamos percorrer a matriz cadeira. \n",
        "\n",
        "from numpy import array\n",
        "\n",
        "def itera_matriz(matriz):\n",
        "    for linha in matriz:\n",
        "        print('Início de uma nova linha')\n",
        "        for elemento in linha:\n",
        "            print(elemento)\n",
        "\n",
        "def altera_matriz(matriz, elemento, i, j):\n",
        "    matriz[i][j] = elemento\n",
        "    return matriz\n",
        "\n",
        "def main():\n",
        "    matriz = array([[\"Português\", \"Matemática\", \"Química\"], [\"História\", \"Geografia\", \"Física\"]], dtype=str)   \n",
        "    # matriz = altera_matriz(matriz, None, None, None)\n",
        "    itera_matriz(matriz)\n",
        "    \n",
        "if __name__ == \"__main__\":\n",
        "    main()\n",
        "\n",
        "Note que, no script do emulador anterior, há uma função \n",
        "altera_matriz (linhas 9 a 11), que tem quatro argumentos: uma matriz, \n",
        "uma variável elemento e os índices i e j, que indicarão o elemento da \n",
        "matriz recebida por parâmetro a ser alterada.\n",
        "\n",
        "Que tal colocar a mão na massa e praticar a alteração de elemento em uma matriz?\n",
        "\n",
        "Desfaça o o comentário da linha 15 (deletando o caracter #) e informe os \n",
        "parâmetros na chamada da função altera_matriz: substitua o primeiro None \n",
        "pelo valor que você deseja inserir na matriz; o segundo None, pelo índice \n",
        "referente à linha a ser modificada; e o terceiro None, pelo índice referente \n",
        "à coluna. Não se esqueça de clicar em Executar.\n",
        "\n",
        "================================================================================\n",
        "\n",
        "  ## Multiplicação de Matrizes\n",
        "\n",
        "    ### Multiplicação de Matrizes (A = 3x3, B = 3x3, M = AxB)\n",
        "\n",
        "def mult_matrizes(A, B):\n",
        "    nLinhasA = len(A)\n",
        "    nColunasA = len(A[0])\n",
        "    nColunasB = len(B[0])\n",
        "\n",
        "    M = []\n",
        "    for linha in range(nLinhasA):\n",
        "        # começando a linha nova em M\n",
        "        M.append([])\n",
        "        for coluna in range(nColunasB):\n",
        "            M[linha].append(0)\n",
        "            for k in range(nColunasA):\n",
        "                M[linha][coluna] += A[linha][k] * B[k][coluna]\n",
        "    return M\n",
        "\n",
        "A = [[1,1,1], [2,2,2], [3,3,3]]\n",
        "B = [[1,1,1], [1,1,1], [1,1,1]]\n",
        "print(mult_matrizes(A, B))\n",
        "\n",
        "A biblioteca NumPy oferece uma gama de funcionalidades referentes a matrizes, \n",
        "desde as operações, como a multiplicação de matrizes e o cálculo de \n",
        "determinante, até a leitura de planilhas. Um bom domínio dessa biblioteca \n",
        "pode ajudar muito no desenvolvimento de sistemas científicos e de engenharia.\n",
        "\n",
        "================================================================================\n",
        "\"\"\""
      ],
      "metadata": {
        "id": "1M1hGwC1mX0G"
      },
      "execution_count": null,
      "outputs": []
    },
    {
      "cell_type": "markdown",
      "source": [
        "## Nível 3 - Missão 3 - Módulo 2"
      ],
      "metadata": {
        "id": "ZEti-t5alu11"
      }
    },
    {
      "cell_type": "code",
      "source": [
        "# Exercício de final de módulo\n",
        "\n",
        "a = int(3)\n",
        "b = int(2)\n",
        "v = [6, 7, 8, 9]\n",
        "\n",
        "a =(v[2] - v[0]) + a\n",
        "d = a * v[b]\n",
        "\n",
        "print(\"A saida é:\",d,\"\",v[1],a+2) # Assim o 77 sai separado no print\n",
        "\n",
        "# Outra forma de fazer pra concatenar o 7 7 do (v[1], a+2)\n",
        "\n",
        "a = int(3)\n",
        "b = int(2)\n",
        "v = [6, 7, 8, 9]\n",
        "\n",
        "a =(v[2] - v[0]) + a\n",
        "d = a * v[b]\n",
        "\n",
        "e = v[1]\n",
        "f = a + 2\n",
        "def concat(e, f):\n",
        "    return int(f\"{e}{f}\")\n",
        "\n",
        "print(\"A saida é:\", d,\"\", concat(e, f))\n",
        "\n",
        "# mais uma forma de concatenar o  7 7 do (v[1], a+2)\n",
        "\n",
        "a = int(3)\n",
        "b = int(2)\n",
        "v = [6, 7, 8, 9]\n",
        "\n",
        "a =(v[2] - v[0]) + a\n",
        "d = a * v[b]\n",
        "\n",
        "e = v[1]\n",
        "f = a + 2\n",
        "z = int('%d%d' % (e, f))\n",
        "\n",
        "print(\"A saida é:\", d,\"\", z)\n",
        "\n",
        "# Concatenar direto no print o  7 7 do (v[1], a+2)\n",
        "\n",
        "a = int(3)\n",
        "b = int(2)\n",
        "v = [6, 7, 8, 9]\n",
        "\n",
        "a =(v[2] - v[0]) + a\n",
        "d = a * v[b]\n",
        "\n",
        "print(\"A saida é:\", d,\"\", int('%d%d' % (v[1], a+2)))\n",
        "\n",
        "# mais uma forma de concatenar o 7 7 do (v[1], a+2)\n",
        "\n",
        "a = int(3)\n",
        "b = int(2)\n",
        "v = [6, 7, 8, 9]\n",
        "\n",
        "a =(v[2] - v[0]) + a\n",
        "d = a * v[b]\n",
        "\n",
        "e = v[1]\n",
        "f = a+2\n",
        "x = int('{}{}'.format(e, f))\n",
        "\n",
        "print(\"A saida é:\", d,\"\", x)\n",
        "\n",
        "# Outra forma de concatenar o 7 7 do (v[1], a+2)\n",
        "\n",
        "a = int(3)\n",
        "b = int(2)\n",
        "v = [6, 7, 8, 9]\n",
        "\n",
        "a =(v[2] - v[0]) + a\n",
        "d = a * v[b]\n",
        "\n",
        "print(\"A saida é:\", d,\"\", int('{}{}'.format(v[1], a+2)))\n"
      ],
      "metadata": {
        "colab": {
          "base_uri": "https://localhost:8080/"
        },
        "id": "XLgLxmAvlsE4",
        "outputId": "42279c68-bb19-426a-898b-ca9b88e3698e"
      },
      "execution_count": null,
      "outputs": [
        {
          "output_type": "stream",
          "name": "stdout",
          "text": [
            "A saida é: 40  7 7\n"
          ]
        }
      ]
    },
    {
      "cell_type": "markdown",
      "source": [
        "# Mundo 1 - Nível 2 - Aulas e anotações Python"
      ],
      "metadata": {
        "id": "GO3H55WF7i3_"
      }
    },
    {
      "cell_type": "markdown",
      "source": [
        "## Nível 2 - Missão 4 \n",
        "## (Python estruturado)"
      ],
      "metadata": {
        "id": "eWvE5nbz1P66"
      }
    },
    {
      "cell_type": "markdown",
      "source": [
        "### Missão 4 - Módulo 4\n",
        "### (Eventos em Python)"
      ],
      "metadata": {
        "id": "BJe7RsT56rUR"
      }
    },
    {
      "cell_type": "code",
      "source": [
        "# # Exercício final de módulo\n",
        "\n",
        "\"\"\"\n",
        "Suponha que, durante a execução, o usuário entre com a palavra “numero” \n",
        "quando solicitado. Assinale a opção que mostra o resultado imediato dessa ação.\n",
        "\"\"\"\n",
        "try:\n",
        "    num = eval(input(\"Entre com um número inteiro: \"))\n",
        "    print(num)\n",
        "except ValueError:\n",
        "    print(\"Mensagem 1\")\n",
        "except IndexError:\n",
        "    print(\"Mensagem 2\")\n",
        "except:\n",
        "    print(\"Mensagem 3\")\n",
        "\n",
        "# Resposta\n",
        "\n",
        "\"\"\"\n",
        "Como o usuário inseriu uma palavra, e não um número, a exceção não será do \n",
        "tipo ValueError nem do tipo IndexError. Assim, a cláusula except a ser \n",
        "executada é a da linha 8, imprimindo Mensagem 3.\n",
        "\"\"\"\n",
        "\n",
        "# exercício 2\n",
        "\n",
        "\"\"\"\n",
        "Sobre o tratamento de exceções em Python, é incorreto afirmar que:\n",
        "\"\"\"\n",
        "# B Não é possível utilizar a cláusula finally\n",
        "\"\"\"\n",
        "A cláusula finally pode ser usada, embora não seja obrigatória.\n",
        "\"\"\""
      ],
      "metadata": {
        "id": "ddbIrfiMbahn"
      },
      "execution_count": null,
      "outputs": []
    },
    {
      "cell_type": "code",
      "source": [
        "# Erros em um programa Python\n",
        "    ## Erros e exceções\n",
        "\n",
        "\"\"\"\n",
        "Até agora consideramos que nossos programas tiveram seu fluxo de execução \n",
        "normal. Neste módulo, vamos analisar o que acontece quando o fluxo de \n",
        "execução é interrompido por uma exceção, além de controlar esse fluxo \n",
        "excepcional.\n",
        "\n",
        "Dois tipos básicos de erros podem acontecer em um programa em Python. \n",
        "Os erros de sintaxe são aqueles que ocorrem devido ao formato incorreto \n",
        "de uma instrução. Esses erros são descobertos pelo componente do interpretador \n",
        "Python, que é chamado analisador ou parser.\n",
        "\"\"\"\n",
        "\"\"\"\n",
        "Além deles, existem os erros que ocorrem em tempo de execução do programa, \n",
        "que não se devem a uma instrução escrita errada, e sim ao fato de que o \n",
        "programa entrou em um estado indevido.\n",
        "\n",
        "Elencamos os seguintes exemplos:\n",
        "\n",
        "A divisão por 0.\n",
        "A tentativa de acessar um índice indevido em uma lista.\n",
        "Um nome de variável não atribuído.\n",
        "Um erro causado por tipos incorretos de operando.\n",
        "\n",
        "Em cada caso, quando o programa atinge um estado inválido, é dito que o \n",
        "interpretador Python levanta uma exceção. Isso significa que é criado um \n",
        "objeto que contém as informações relevantes sobre o erro.\n",
        "\n",
        "A tabela a seguir traz alguns tipos comuns de exceção:\n",
        "\n",
        "Exceção\tExplicação\n",
        "KeyboardInterrupt\t    Levantado quando o usuário pressiona CTRL+C, a combinação de interrupção.\n",
        "OverflowError\t        Levantado quando uma expressão de ponto flutuante é avaliada como um valor muito grande.\n",
        "ZeroDivisionError\t    Levantado quando se tenta dividir por 0.\n",
        "IOError\t                Levantado quando uma operação de entrada/saída falha por um motivo relacionado a isso.\n",
        "IndexError\t            Levantado quando um índice sequencial está fora do intervalo de índices válidos.\n",
        "NameError\t            Levantado quando se tenta avaliar um identificador (nome) não atribuído.\n",
        "TypeError\t            Levantado quando uma operação da função é aplicada a um objeto do tipo errado.\n",
        "ValueError\t            Levantado quando a operação ou função tem um argumento com o tipo correto, mas valor incorreto.\n",
        "\n",
        "Em Python, as exceções são objetos. A classe Exception é derivada de \n",
        "BaseException, classe base de todas as classes de exceção. \n",
        "BaseException fornece alguns serviços úteis para todas as classes \n",
        "de exceção, mas normalmente não se torna uma subclasse diretamente.\n",
        "\"\"\"\n",
        "\n",
        "# Tratamento de exceções e eventos\n",
        "    ## Captura e manipulação de exceções\n",
        "\n",
        "\"\"\"\n",
        "Para evitar que os programas sejam interrompidos quando uma exceção é \n",
        "levantada, é possível planejar um comportamento alternativo. Assim, o \n",
        "programa não será interrompido e a exceção poderá ser tratada. Chamamos \n",
        "esse processo de captura da exceção.\n",
        "\n",
        "Vamos considerar um exemplo de programa que solicita ao usuário, com a \n",
        "função input(), um número inteiro. Embora essa função trate a entrada \n",
        "do usuário como string, é possível utilizá-la em conjunto com a função \n",
        "eval() para que os dados inseridos sejam avaliados como números.\n",
        "\n",
        "O próximo emulador mostra uma implementação simples desse exemplo:\n",
        "\n",
        "num = eval(input(\"Entre com um número inteiro: \"))\n",
        "print(num)\n",
        "\n",
        "Mas o que aconteceria se o usuário digitasse uma palavra em vez de números? \n",
        "Faça essa experiência e digite uma palavra, como, por exemplo, dois, no \n",
        "emulador anterior e clique em Executar.\n",
        "\n",
        "Veja que o programa foi encerrado com uma exceção sendo levantada. Uma forma \n",
        "de fazer a captura e a manipulação de exceções é usar o par de instruções \n",
        "try/except.\n",
        "\n",
        "Bloco try\n",
        "O bloco try é executado primeiramente. Devem ser inseridas nele as instruções \n",
        "do fluxo normal do programa.\n",
        "\n",
        "Bloco except\n",
        "O bloco except só será executado se houver o levantamento de alguma exceção.\n",
        "\n",
        "Isso permite que o fluxo de execução continue de maneira alternativa. \n",
        "O emulador seguinte mostra uma implementação possível desse exemplo \n",
        "(código 25 no arquivo disponibilizado):\n",
        "\n",
        "try:\n",
        "    num = eval(input(\"Entre com um número inteiro: \\n\"))\n",
        "    print(num)\n",
        "except:\n",
        "    print(\"Entre com o valor numérico e não letras\")\n",
        "\"\"\"\n",
        "\n",
        "    ## Captura de exceções de determinado tipo\n",
        "\"\"\"\n",
        "Python permite que o bloco relativo ao except só seja executado caso a exceção \n",
        "levantada seja de determinado tipo. Para isso, o except precisa trazer o tipo \n",
        "de exceção que se deseja capturar.\n",
        "\n",
        "O emulador a seguir traz uma possível variação do exemplo anterior com a \n",
        "captura apenas das exceções do tipo NameError \n",
        "(código 26 do arquivo disponibilizado):\n",
        "\n",
        "try:\n",
        "    num = eval(input(\"Entre com um número inteiro: \\n\"))\n",
        "    print(num)\n",
        "except NameError:\n",
        "    print(\"Entre com o valor numérico e não letras\")\n",
        "\"\"\"\n",
        "\n",
        "    ## Captura de exceções de múltiplos tipos\n",
        "\"\"\"\n",
        "Python permite que haja diversos tratamentos para diferentes tipos possíveis \n",
        "de exceção. Isso pode ser feito com mais de uma cláusula except vinculada à \n",
        "mesma cláusula try.\n",
        "\n",
        "O emulador seguinte mostra um exemplo de implementação da captura de exceções \n",
        "de múltiplos tipos (no arquivo disponibilizado, trata-se do código 27).\n",
        "\n",
        "try:\n",
        "    num = eval(input(\"Entre com um número inteiro: \\n\"))\n",
        "    print(num)\n",
        "except ValueError:\n",
        "    print(\"Mensagem 1\")\n",
        "except IndexError:\n",
        "    print(\"Mensagem 2\")\n",
        "except:\n",
        "    print(\"Mensagem 3\")\n",
        "\"\"\"\n",
        "\n",
        "    ## O tratamento completo das exceções\n",
        "\"\"\"\n",
        "A forma geral completa para lidar com as exceções em Python é:\n",
        "\n",
        "try:\n",
        "  Bloco 1\n",
        "except Exception1:\n",
        "  Bloco tratador para Exception1\n",
        "except Exception2:\n",
        "  Bloco tratador para Exception1\n",
        "...\n",
        "else:\n",
        "  Bloco 2 – executado caso nenhuma exceção seja levantada\n",
        "finally:\n",
        "  Bloco 3 – executado independente do que ocorrer\n",
        "Instrução fora do try/except\n",
        "\n",
        "\n",
        "As cláusulas else e finally são opcionais, como foi possível \n",
        "perceber nos exemplos iniciais.\n",
        "\"\"\"\n",
        "\n",
        "    ## Tratamento de eventos\n",
        "\"\"\"\n",
        "O tratamento de eventos é similar ao de exceções. Assim como no caso das \n",
        "exceções ocorridas em tempo de execução, podemos tratar os eventos criados \n",
        "por ações externas, como as interações de usuário realizadas por meio de uma \n",
        "interface gráfica de usuário (GUI).\n",
        "\n",
        "Um evento é a notificação de que alguma coisa aconteceu, como um clique de \n",
        "mouse sobre um elemento botão. O tratador do evento é o segmento de código \n",
        "que será executado em resposta à ocorrência do evento.\n",
        "\"\"\""
      ],
      "metadata": {
        "id": "VIPc38huvBBf"
      },
      "execution_count": null,
      "outputs": []
    },
    {
      "cell_type": "markdown",
      "source": [
        "#### (Vídeo inicial do módulo 4 missão 4 nível 2)\n",
        "##### 1. Verificar se é número\n",
        "##### 2. Verificar se é número e insistir\n",
        "##### 3. Exceção de divisão por zero"
      ],
      "metadata": {
        "id": "TPCtSy_J63cv"
      }
    },
    {
      "cell_type": "code",
      "source": [
        "# Vídeo inicial\n",
        "  ## Tratamento de exceções na linguagem Python\n",
        "\n",
        "# Exemplo do vídeo\n",
        "\"\"\"\n",
        "Fazer o tratamento de exceções para verificar se a entrada é, de fato, um número.\n",
        "\"\"\"\n",
        "try:\n",
        "    x = int(input(\"Digite um número: \"))\n",
        "except ValueError:\n",
        "    print(\"Entre com um número válido:\")\n"
      ],
      "metadata": {
        "id": "eW1qPmEY6xjw",
        "colab": {
          "base_uri": "https://localhost:8080/"
        },
        "outputId": "b03d1d74-0891-41e5-de97-a8d9230f8738"
      },
      "execution_count": null,
      "outputs": [
        {
          "output_type": "stream",
          "name": "stdout",
          "text": [
            "Digite um número: y\n",
            "Entre com um número válido:\n"
          ]
        }
      ]
    },
    {
      "cell_type": "code",
      "source": [
        "# Exercício 1\n",
        "\"\"\"\n",
        "Faça o tratamento de exceção para verificar se uma entrada é númerica e que, \n",
        "além disso, insista que o usuário digite um número válido.\n",
        "\"\"\"\n",
        "while True:\n",
        "    try:\n",
        "        x = int(input(\"Digite um número: \"))\n",
        "        break\n",
        "    except ValueError:\n",
        "        print(\"Entre com um número válido:\")"
      ],
      "metadata": {
        "colab": {
          "base_uri": "https://localhost:8080/"
        },
        "id": "qJ79h6yetDmd",
        "outputId": "f739d958-4846-4255-e449-b44081de4e3c"
      },
      "execution_count": null,
      "outputs": [
        {
          "name": "stdout",
          "output_type": "stream",
          "text": [
            "Digite um número: d\n",
            "Entre com um número válido:\n",
            "Digite um número: f\n",
            "Entre com um número válido:\n",
            "Digite um número: 5\n"
          ]
        }
      ]
    },
    {
      "cell_type": "code",
      "source": [
        "# Exercício 2\n",
        "\"\"\"\n",
        "Faça o tratamento de exceção de divisão por zero.\n",
        "\"\"\"\n",
        "def dividir(x, y):\n",
        "    try:\n",
        "        resultado = x / y\n",
        "        print(\"A resposta é :\", resultado)\n",
        "    except ZeroDivisionError:\n",
        "        print(\"Divisão por zero \")\n",
        "\n",
        "dividir(3, 0)\n",
        "dividir(3, 2)\n"
      ],
      "metadata": {
        "colab": {
          "base_uri": "https://localhost:8080/"
        },
        "id": "KNGzAAkCtDsO",
        "outputId": "bf4df6cc-b53d-4872-ddf6-725dc596e9b0"
      },
      "execution_count": null,
      "outputs": [
        {
          "output_type": "stream",
          "name": "stdout",
          "text": [
            "Divisão por zero \n",
            "A resposta é : 1.5\n"
          ]
        }
      ]
    },
    {
      "cell_type": "markdown",
      "source": [
        "### Missão 4 - Módulo 3\n",
        "### (Bibliotecas em Python)"
      ],
      "metadata": {
        "id": "zQN4_3rXAMvS"
      }
    },
    {
      "cell_type": "code",
      "source": [
        "# # Exercício final de módulo\n",
        "\n",
        "\"\"\"\n",
        "Sabemos que é possível importar módulos e chamar funções desses módulos em \n",
        "Python. Considere o módulo math, que oferece diversas funções matemáticas. \n",
        "Uma dessas funções é a ceil(x), que retorna o menor inteiro maior ou \n",
        "igual a x. Suponha que um estudante queira usar uma variável n, que recebe o \n",
        "valor 5.9, e, em seguida, imprimir na tela o menor inteiro maior ou \n",
        "igual a ela. O código correto é:\n",
        "\"\"\"\n",
        "import math\n",
        "n = 5.9\n",
        "print(math.ceil(n))\n",
        "\n",
        "# Resposta\n",
        "\n",
        "\"\"\"\n",
        "A maneira correta de usar uma função de um módulo importado é: (i) importar o \n",
        "módulo e (ii) chamar a função com a sintaxe nomeModulo.nomeFuncao().\n",
        "\"\"\"\n",
        "\n",
        "# exercício 2\n",
        "\n",
        "\"\"\"\n",
        "Sobre a linguagem Python e sua biblioteca padrão, é correto afirmar que Python:\n",
        "\"\"\"\n",
        "# Resposta\n",
        "\n",
        "\"\"\"\n",
        "Alternativa: \n",
        "Tem módulo de operações matemáticas math, que não permite operações \n",
        "com números complexos.\n",
        "\n",
        "O módulo math não permite operações com números complexos.\n",
        "\"\"\"\n"
      ],
      "metadata": {
        "id": "ZMlzeq3_444p"
      },
      "execution_count": null,
      "outputs": []
    },
    {
      "cell_type": "code",
      "source": [
        "# Importação de funções e módulos\n",
        "  ## Biblioteca padrão Python\n",
        "\n",
        "\"\"\"\n",
        "Python oferece, em seu núcleo, algumas funções que já utilizamos, como print() \n",
        "e input(), além de classes, como int, float e str. Logicamente, o núcleo da \n",
        "linguagem Python disponibiliza muitas outras funções (ou métodos) e classes \n",
        "além das citadas. Mas, ainda assim, ele é pequeno, tendo o objetivo de \n",
        "simplificar o uso e ganhar eficiência.\n",
        "\n",
        "Para aumentar a disponibilidade de funções, métodos e classes, o desenvolvedor \n",
        "pode usar a biblioteca padrão Python. Neste módulo, apresentaremos alguns dos \n",
        "principais recursos dessa biblioteca e a forma de utilizá-los.\n",
        "\n",
        "A biblioteca padrão Python (Python standard library) consiste em milhares de \n",
        "funções, métodos e classes relacionados a determinada finalidade e organizados \n",
        "em componentes chamados de módulos. Há mais de 200 módulos que dão suporte, \n",
        "entre outras coisas, a:\n",
        "\n",
        "Operações matemáticas.\n",
        "Interface gráfica com o usuário (GUI).\n",
        "Funções matemáticas e geração de números pseudoaleatórios.\n",
        "É importante lembrar os conceitos de classes e objetos, pois eles são os \n",
        "principais conceitos do paradigma de programação orientada a objeto. As classes \n",
        "são fábricas, que podem gerar instâncias chamadas objetos.\n",
        "\n",
        "           ###\n",
        "Uma classe Pessoa, por exemplo, pode ter como atributos nome e CPF. \n",
        "Ao gerar uma instância de Pessoa com nome João da Silva e CPF 000.000.000-00, \n",
        "há um objeto.\n",
        "           ###\n",
        "\n",
        "      Dica\n",
        "Para compreender mais os conceitos de classe e objeto, pesquise sobre o \n",
        "paradigma orientado a objeto.\n",
        "\"\"\"\n",
        "\n",
        "  ## Como usar uma função de módulo importado\n",
        "\n",
        "\"\"\"\n",
        "Para usar as funções e os métodos de um módulo, são necessários dois passos:\n",
        "\n",
        "Fazer a importação do módulo desejado com a instrução: \n",
        "  ## import nome_modulo\n",
        "\n",
        "Chamar a função desejada, precedida do nome do módulo, com a instrução:\n",
        "  ## nome_modulo.nome_funcao(paramêtros)\n",
        "\n",
        "Como exemplo, vamos importar o módulo math (dedicado a operações matemáticas) \n",
        "e calcular a raiz quadrada de 5 por meio da função sqrt(). \n",
        "\"\"\"\n",
        "import math\n",
        "\n",
        "x = math.sqrt(5)\n",
        "print(x)\n",
        "\n",
        "y = 5 ** 0.5\n",
        "print(y)\n",
        "\n",
        "print(\"-------------------------------------------------------------\")\n",
        "\n",
        "\"\"\"\n",
        "A partir desse ponto, serão apresentados os principais \n",
        "aspectos dos seguintes módulos:\n",
        "\n",
        "math\n",
        "Usado para operações matemáticas.\n",
        "\n",
        "random\n",
        "Usado para gerar números pseudoaleatórios.\n",
        "\n",
        "smtplib\n",
        "Usado para permitir envio de e-mails.\n",
        "\n",
        "time\n",
        "Usado para implementar contadores temporais.\n",
        "\n",
        "tkinter\n",
        "Usado para desenvolver interfaces gráficas.\n",
        "\"\"\"\n",
        "\n",
        "# Módulos nativos do Python\n",
        "  ## Módulo math\n",
        "\n",
        "\"\"\"\n",
        "Esse módulo provê acesso a funções matemáticas de argumentos reais. \n",
        "As funções não podem ser usadas com números complexos.\n",
        "\n",
        "Listaremos agora algumas das funções do módulo math:\n",
        "\n",
        "## Função\t    ## Retorno\n",
        "sqrt(x)\t        Raiz quadrada de x\n",
        "ceil(x)\t        Menor inteiro maior ou igual a x\n",
        "floor(x)        Maior inteiro menor ou igual a x\n",
        "cos(x)\t        Cosseno de x\n",
        "sin(x)      \tSeno de x\n",
        "log(x, b)\t    Logaritmo de x na base b\n",
        "pi\t            Valor de Pi (3.141592...)\n",
        "e\t            Valor de e (2.718281...)\n",
        "\"\"\"\n",
        "\n",
        "# Módulo random\n",
        "\n",
        "\"\"\"\n",
        "Esse módulo implementa geradores de números pseudoaleatórios \n",
        "para várias distribuições.\n",
        "\n",
        "## Números inteiros\n",
        "Para inteiros, existe:\n",
        "- Uma seleção uniforme a partir de um intervalo.\n",
        "\n",
        "## Sequências\n",
        "Para sequências, existem:\n",
        "- Uma seleção uniforme de um elemento aleatório; \n",
        "- Uma função para gerar uma permutação aleatória das posições na lista; \n",
        "- Uma função para escolher aleatoriamente sem substituição.\n",
        " -------------------------------------------------------------------------\n",
        "\n",
        "# Distribuições de valores reais\n",
        "\n",
        "A tabela a seguir mostra algumas das principais funções disponíveis \n",
        "para distribuições de valores reais no módulo random.\n",
        "\n",
        "## Função\t                    ## Retorno\n",
        "random()\t                    Número de ponto flutuante no intervalo (00,0, 1,0)\n",
        "uniform(a, b)\t                Número de ponto flutuante N tal que a ≤ N ≤ b\n",
        "gauss(mu, sigma)\t            Distribuição gaussiana. \n",
        "                                mu é a média e sigma é o desvio padrão.\n",
        "normalvariate(mu, sigma)\t    Distribuição gaussiana. \n",
        "                                mu é a média e sigma é o desvio padrão.\n",
        " -------------------------------------------------------------------------\n",
        "\n",
        "# Funções para números inteiros\n",
        "Veja algumas das principais funções disponíveis para inteiros no módulo random.\n",
        "\n",
        "## Função\t                        ## Retorno\n",
        "randrange(stop)\t                    Um elemento selecionado aleatório de \n",
        "                                    range(start, stop, step), mas sem \n",
        "                                    construir um objeto range.\n",
        "randrange(start, stop, [step])\t\n",
        "\n",
        "randint(a, b)\t                    Número inteiro N tal que a ≤ N ≤ b\n",
        " -------------------------------------------------------------------------\n",
        "\n",
        "# Funções para sequências\n",
        "\n",
        "Esta tabela mostra algumas das principais funções disponíveis \n",
        "para sequências no módulo random:\n",
        "\n",
        "## Função           \t## Retorno\n",
        "choice(seq)\t            Elemento aleatório de uma sequência não vazia seq.\n",
        "shuffle(x[, random])\tEmbaralha a sequência x no lugar.\n",
        "sample(pop, k)      \tUma sequência de tamanho k de elementos escolhidos da \n",
        "                        população pop, sem repetição. \n",
        "                        Usada para amostragem sem substituição.\n",
        "\"\"\"\n",
        "\n",
        "# Módulo SMTPLIB\n",
        "\n",
        "\"\"\"\n",
        "Esse módulo define um objeto de sessão do cliente SMTP que pode ser usado a \n",
        "fim de enviar e-mail para qualquer máquina da internet com um serviço de \n",
        "processamento SMTP ou ESMTP. O exemplo a seguir vai permitir que você envie \n",
        "um e-mail a partir do servidor SMTP do Gmail.\n",
        "\n",
        "Como a Google não permite, por padrão, realizar o login com a utilização \n",
        "do smtplib por considerar esse tipo de conexão mais arriscada, será necessário \n",
        "alterar uma configuração de segurança. Para resolver isso, \n",
        "siga estas instruções:\n",
        "\n",
        "- Acesse sua conta no Google.\n",
        "- Depois acesse Segurança.\n",
        "- Acesso a app menos seguro.\n",
        "Atenção! Em algumas contas, os nomes estarão escritos no \n",
        "idioma inglês (Allow less secure apps).\n",
        "- Mude para \"ativada\" a opção de \"Permitir aplicativos menos seguros\".\n",
        "\n",
        "Para fazer seu primeiro envio, crie um programa no seu projeto. \n",
        "O codigo a seguir mostra as importações necessárias para o envio:\n",
        "\"\"\"\n",
        "\"\"\"\n",
        "#import dos pacotes necessários\n",
        "from email.mime.multipart import MIMEMultipart\n",
        "from email.mime.text import MIMEText\n",
        "import smtplib\n",
        "\n",
        "#criação de um objeto de mensagem\n",
        "msg = MIMEMultipart()\n",
        "texto = \"Estou enviando um email com Python\"\n",
        "\n",
        "#parâmetros\n",
        "senha = \"SUA SENHA\"\n",
        "msg['From'] = \"SEU E-MAIL\"\n",
        "msg['To'] = \"E-MAIL DESTINO\"\n",
        "msg['Subject'] = \"ASSUNTO\"\n",
        "\n",
        "#criação do corpo da mensagem\n",
        "msg.attach(MIMEText(texto, 'plain'))\n",
        "\n",
        "#criação do servidor\n",
        "server = smtplib.SMTP('smtp.gmail.com: 587')\n",
        "server.starttls()\n",
        "\n",
        "#Login na conta para envio\n",
        "server.login(msg['From'], senha)\n",
        "\n",
        "#envio da mensagem\n",
        "server.sendmail(msg['From'], msg['To'], msg.as_string())\n",
        "\n",
        "#encerramento do servidor\n",
        "server.quit()\n",
        "\n",
        "print('Mensagem enviada com sucesso')\n",
        "\"\"\"\n",
        "\n",
        "# Módulo time\n",
        "\n",
        "\"\"\"\n",
        "Esse módulo provê diversas funções relacionadas a tempo. \n",
        "Também pode ser útil conhecer os módulos datetime e calendar.\n",
        "\n",
        "Esta tabela aponta algumas das principais funções disponíveis no módulo time:\n",
        "\n",
        "\n",
        "## Função\t              ## Retorno\n",
        "time()\t                  Número de segundos passados desde o início da \n",
        "                          contagem (epoch). Por padrão, o início é 00:00:00 do \n",
        "                          dia 1 de janeiro de 1970.\n",
        "ctime(segundos)\t          Uma string representando o horário local, calculado a \n",
        "                          partir do número de segundos passado como parâmetro.\n",
        "gmtime(segundos)\t      Converte o número de segundos em um objeto struct_time \n",
        "                          descrito a seguir.\n",
        "localtime(segundos)\t      Semelhante à gmtime(), mas converte para o horário \n",
        "                          local.\n",
        "sleep(segundos)\t          A função suspende a execução por determinado número \n",
        "                          de segundos.\n",
        "\n",
        "O código a seguir (código 23 no arquivo disponibilizado) \n",
        "mostra um exemplo de chamada das funções time() e ctime().\n",
        "\"\"\"\n",
        "import time\n",
        "\n",
        "x = time.time()\n",
        "print(f'Local time: {time.ctime(x)}')\n",
        "\n",
        "print(\"-------------------------------------------------------------\")\n",
        "\"\"\"\n",
        "A variável x recebe o número de segundos desde 00:00:00 de 01/01/1970 pela \n",
        "função time(). Ao executar ctime(x), o número de segundos armazenado em x \n",
        "é convertido em uma string com o horário local.\n",
        "\n",
        "A classe time.struct_time gera objetos sequenciais com valor de tempo retornado \n",
        "pelas funções gmtime() e localtime(). São objetos com interface de tupla \n",
        "nomeada: os valores podem ser acessados pelo índice e pelo nome do atributo.\n",
        "\n",
        "Aparecem os seguintes valores :\n",
        "\n",
        "## Atributo\t        ## Valores\n",
        "0\ttm_year\t        Por exemplo, 2020\n",
        "1\ttm_mon\t        range [1, 12]\n",
        "2\ttm_mday\t        range [1, 31]\n",
        "3\ttm_hour\t        range [0, 23]\n",
        "4\ttm_min\t        range [0, 59]\n",
        "5\ttm_sec\t        range [0, 61]\n",
        "6\ttm_wday\t        range [0, 6] Domingo é 0\n",
        "7\ttm_yday\t        range [1, 366]\n",
        "8\ttm_isdst\t    0,1 ou -1\n",
        "N/A\ttm_zone\t        Abreviação do nome da timezone\n",
        "\"\"\"\n",
        "\n",
        "# Módulo tkinter\n",
        "\n",
        "\"\"\"\n",
        "O pacote tkinter é a interface Python padrão para o Tk GUI (interface gráfica \n",
        "com o usuário) toolkit. Na maioria dos casos, basta importar o próprio tkinter,\n",
        "mas diversos outros módulos estão disponíveis no pacote. A biblioteca tkinter \n",
        "permite a criação de janelas com elementos gráficos, como a entrada de dados e \n",
        "botões, por exemplo.\n",
        "\n",
        "O exemplo a seguir vai permitir que você crie a primeira janela com alguns \n",
        "elementos. Para isso, crie um programa novo no seu projeto. O código adiante \n",
        "mostra a criação da sua primeira janela, ainda sem qualquer elemento gráfico.\n",
        "\n",
        "\"\n",
        "from tkinter import *\n",
        "\n",
        "janelaPrincipal = Tk()\n",
        "janelaPrincipal.mainloop()\n",
        "\"\n",
        "\n",
        "A linha 1 mostra a importação de todos os elementos disponíveis em tkinter. \n",
        "O objeto janelaPrincipal é do tipo Tk. Um objeto Tk é um elemento que \n",
        "representa a janela GUI. Para que essa janela apareça, é necessário chamar o \n",
        "método mainloop();\n",
        "\n",
        "Para exibir textos, vamos usar o elemento Label. O próximo código mostra as \n",
        "linhas 4 e 5, com a criação do elemento e o seu posicionamento. O tamanho \n",
        "padrão da janela é 200 X 200 pixels, com o canto superior esquerdo de \n",
        "coordenadas (0,0) e o inferior direito de coordenadas (200,200).\n",
        "\n",
        "\"\n",
        "from tkinter import *\n",
        "\n",
        "janelaPrincipal = Tk()\n",
        "texto = Label(master = janelaPrincipal, text = \"Minha janela exibida\")\n",
        "texto.place(x = 50 y = 100)\n",
        "janelaPrincipal.mainloop()\n",
        "\"\n",
        "\n",
        "Vamos agora incrementar um pouco essa janela. Para isso, acrescentaremos uma \n",
        "imagem e um botão. A imagem precisa estar na mesma pasta do seu arquivo .py.\n",
        "\n",
        "\"\n",
        "from tkinter import *\n",
        "\n",
        "def funcClicar():\n",
        "    print(\"Botão pressionado\")\n",
        "\n",
        "janelaPrincipal = Tk()\n",
        "texto = Label(master = janelaPrincipal, text = \"Minha janela exibida\")\n",
        "texto.pack()\n",
        "\n",
        "pic = PhotoImage(file=\"logoEstacio.gif\")\n",
        "logo = Label(master = janelaPrincipal, image = pic)\n",
        "logo.pack()\n",
        "\n",
        "botao = Button(master = janelaPrincipal, text = 'Clique', command = funcClicar)\n",
        "botao.pack()\n",
        "\n",
        "janelaPrincipal.mainloop()\n",
        "\"\n",
        "\n",
        "No código anterior, há a inserção do elemento de imagem e o botão. \n",
        "Nas linhas 10, 11 e 12, é feita a criação do objeto Label para conter a \n",
        "imagem e seu posicionamento. Observe que passamos a utilizar o método pack(), \n",
        "que coloca o elemento centralizado e posicionado o mais perto possível do topo, \n",
        "depois dos elementos posicionados anteriormente.\n",
        "O elemento botão é criado na linha 14 com os atributos text e command, os quais \n",
        "são respectivamente o texto exibido no corpo do botão e a função a ser \n",
        "executada quando o botão é clicado.\n",
        "Para o funcionamento correto do botão, é preciso definir a função funcClicar(), \n",
        "nas linhas 3 e 4. Essa função serve apenas para imprimir na tela a string \n",
        "“Botão pressionado”.\n",
        "\n",
        "\"\"\"\n",
        "\n",
        "# Pacotes externos\n",
        "  ## Usando pacotes externos\n",
        "\n",
        "\"\"\"\n",
        "Além dos módulos fornecidos de forma integrada pela biblioteca padrão do \n",
        "Python, a linguagem possui uma grande vantagem: sua característica open-source \n",
        "permite que qualquer desenvolvedor, com o conhecimento adequado, desenvolva a \n",
        "própria biblioteca e os próprios módulos, os quais chamaremos, a partir de \n",
        "agora, de pacotes.\n",
        "\n",
        "Veremos como criar módulos mais adiante neste conteúdo.\n",
        "\n",
        "Com um pacote pronto, o desenvolvedor pode disponibilizar esse material na \n",
        "internet de forma que qualquer pessoa possa aproveitar o código implementado. \n",
        "Isso foi um dos fatores que fez com que o Python se tornasse uma das linguagens \n",
        "mais utilizadas no mundo atualmente.\n",
        "\n",
        "Como forma de facilitar a distribuição dos pacotes entre os usuários, existe um \n",
        "grupo dentro da comunidade Python que mantém o chamado Python package index, \n",
        "ou PyPI, um grande servidor no qual os desenvolvedores podem hospedar os seus \n",
        "pacotes, contendo bibliotecas e/ou módulos, para que sejam baixados e \n",
        "instalados por outras pessoas.\n",
        "\n",
        "É possível acessar o PyPI por meio do pip, um programa que pode ser instalado \n",
        "com a distribuição do Python. Para isso, certifique-se de que a caixa “pip” \n",
        "está marcada durante a instalação\n",
        "\"\"\"\n",
        "\"\"\"\n",
        "Atenção!\n",
        "Para verificar se a sua instalação Python incluiu o pip, procure pela pasta \n",
        "Scripts dentro do diretório de instalação que você escolheu para o Python. \n",
        "Dentro dessa pasta, localize o arquivo pip.exe. Caso não o encontre, pesquise \n",
        "sobre como instalar o pip. O mais recomendado é tentar reinstalar o Python sem \n",
        "esquecer de marcar a opção de incluir o pip durante o processo de instalação.\n",
        "\"\"\"\n",
        "\"\"\"\n",
        "Além do pip, é necessário ter em mãos o endereço para acessar o pip dentro da \n",
        "variável de ambiente PATH. O processo de instalação do Python também permite \n",
        "incluir automaticamente o Python no seu PATH, porém, caso não tenha feito isso, \n",
        "siga os passos abaixo:\n",
        "\n",
        "- Clique na tecla do Windows e escreva “Editar as variáveis de ambiente para a \n",
        "sua conta”.\n",
        "\n",
        "- Na janela que abrir, procure pela variável Path, selecione-a e clique no \n",
        "botão “Editar”.\n",
        "\n",
        "- Clique no botão “Novo” e digite o endereço da sua instalação do Python \n",
        "(por exemplo, D:\\Python).\n",
        "\n",
        "- Clique no botão “Novo” uma segunda vez e digite o endereço da pasta Scripts \n",
        "dentro da sua instalação do Python (por exemplo, D:\\Python\\Scripts).\n",
        "\n",
        "- Aperte Ok até fechar todas as janelas.\n",
        "\n",
        "\n",
        "É importante que você se certifique de que a opção Add Python to PATH está \n",
        "marcada durante a instalação, como apontado na imagem a seguir.\n",
        "\n",
        "Com essas etapas concluídas, já conseguimos instalar nossos pacotes externos!\n",
        "\n",
        "Atenção!\n",
        "Quando estiver trabalhando com pacotes externos, é extremamente recomendado o \n",
        "uso de ambientes virtuais (em inglês, virtual environments ou simplesmente \n",
        "virtualenvs ). Esses ambientes isolam o projeto em que você está trabalhando.\n",
        "\n",
        "Uma das vantagens disso é que você consegue saber exatamente quais pacotes \n",
        "externos estão sendo usados no projeto. É possível usar esses pacotes sem o \n",
        "uso de ambientes virtuais, porém isso pode causar uma confusão caso você tenha \n",
        "vários projetos Python no seu computador.\n",
        "\n",
        "Pesquise mais sobre ambientes virtuais e configure um em cada projeto. \n",
        "Não é muito difícil - e vai ajudá-lo a deixar o seu código mais profissional!\n",
        "\n",
        "\n",
        "Para instalar um pacote externo disponível no PyPI, basta abrir o seu terminal \n",
        "(clique no botão do Windows e digite “cmd” ou “prompt de comando”), ativar o \n",
        "seu ambiente virtual (se você estiver usando um) e digitar o seguinte \n",
        "comando: \\Projects\\exemplo_pacotes>pip install <nome_do_pacote>.\n",
        "\n",
        "Substitua <nome_do_pacote> pelo pacote que você deseja usar. Temos inúmeros \n",
        "pacotes prontos à nossa disposição. Cada pacote normalmente possui um site que \n",
        "apresenta a sua documentação de forma similar à da documentação \n",
        "oficial do Python.\n",
        "\n",
        "Abaixo você encontra uma lista com alguns dos pacotes externos mais comuns e \n",
        "utilizados no mercado:\n",
        "\n",
        "## Nome do módulo\t    ## Pra que serve?\n",
        "numpy\t                Cálculos, operações matemáticas e simulações\n",
        "pandas              \tManipulaçao de dados\n",
        "scikit-learn        \tModelos de aprendizado de máquina\n",
        "matplotlib          \tVisualização de dados\n",
        "requests\t            Biblioteca de comandos de comunicação pelo protocolo HTTP\n",
        "flask\t                Construção de aplicações web\n",
        "\n",
        "\n",
        "Dica\n",
        "Antes de começar o próprio módulo, é sempre recomendado pesquisar se o que \n",
        "você quer fazer já existe em algum pacote popular. Se existir, procure pela \n",
        "documentação e instale esse pacote.\n",
        "\n",
        "O uso de módulos oriundos de pacotes externos é idêntico à utilização daqueles \n",
        "da biblioteca padrão. Basta, para isso, utilizar o import nome_do_modulo no \n",
        "seu código.\n",
        "\"\"\"\n",
        "\n",
        "# Criação do próprio módulo\n",
        "\n",
        "\"\"\"\n",
        "Os desenvolvedores podem criar os próprios módulos de forma a reutilizar as \n",
        "funções que já escreveram e organizar melhor seu trabalho. Para isso, basta \n",
        "criar um arquivo .py e escrever nele suas funções. O arquivo do módulo precisa \n",
        "estar na mesma pasta do arquivo para onde ele será importado.\n",
        "\"\"\"\n",
        "print(\"fim\")\n"
      ],
      "metadata": {
        "colab": {
          "base_uri": "https://localhost:8080/"
        },
        "id": "UNhrLJ6pjZgE",
        "outputId": "92da8c86-8eb0-4bec-ae91-3428949cf71c"
      },
      "execution_count": null,
      "outputs": [
        {
          "output_type": "stream",
          "name": "stdout",
          "text": [
            "2.23606797749979\n",
            "2.23606797749979\n",
            "-------------------------------------------------------------\n",
            "Local time: Tue Dec  6 22:24:38 2022\n",
            "-------------------------------------------------------------\n",
            "fim\n"
          ]
        }
      ]
    },
    {
      "cell_type": "markdown",
      "source": [
        "#### (Vídeo inicial do módulo 3 missão 4 nível 2)\n",
        "##### 1. Equação do segundo grau\n",
        "##### 2. Gráfico em barras\n",
        "##### 3. Exibir um histograma"
      ],
      "metadata": {
        "id": "Za-EJt9TevOA"
      }
    },
    {
      "cell_type": "code",
      "source": [
        "# Bibliotecas em Python\n",
        "\n",
        "# Aplicando as bibliotecas Python para a resolução de problemas reais (vídeo)\n",
        "\n",
        "# Exercício exemplo do vídeo inicial\n",
        "  ## Equações do segundo grau\n",
        "\n",
        "\"\"\"\n",
        "Calcular raízes de uma equação do segundo grau.\n",
        "Ex: 1x² + 5x + 6 = 0, as raízes são{-3,-2}.\n",
        "Δ = b² - 4ac\n",
        "x = (-b +- √ Δ)/2a\n",
        "\"\"\"\n",
        "def entrada_dados():\n",
        "    coeficiente = quantidade = eval(input(\"Digite o valor do coeficiente: \"))\n",
        "    return coeficiente\n",
        "\n",
        "def calc_delta(a,b,c):\n",
        "    delta = b*b-4*a*c\n",
        "    return delta\n",
        "\n",
        "import numpy as np\n",
        "def calcular_raizes(a,b,c,delta):\n",
        "    if(delta<0):\n",
        "        resultado='a equação não possui raízes nos números reais'\n",
        "    elif(delta==0):\n",
        "        x=-b/(2*a)\n",
        "        resultado=f'a equação possui apenas a raíz: {x}'\n",
        "    else:\n",
        "        x1=(-b-np.sqrt(delta))/(2*a)\n",
        "        x2=(-b+np.sqrt(delta))/(2*a)\n",
        "        resultado=f'a equação possui as raizes: {x1}, {x2}'\n",
        "    return resultado\n",
        "\n",
        "# f(x)=ax²+bx+c\n",
        "a = entrada_dados()\n",
        "b = entrada_dados()\n",
        "c = entrada_dados()\n",
        "\n",
        "delta = calc_delta(a,b,c)\n",
        "\n",
        "resultado = calcular_raizes(a,b,c,delta)\n",
        "print(resultado)\n",
        "\n",
        "\n",
        "print('------------------------------------------------------')"
      ],
      "metadata": {
        "id": "aagTAtaZAVGO",
        "colab": {
          "base_uri": "https://localhost:8080/"
        },
        "outputId": "4b6ece0f-30e0-4ba6-ab41-793c12019d4d"
      },
      "execution_count": null,
      "outputs": [
        {
          "output_type": "stream",
          "name": "stdout",
          "text": [
            "Digite o valor do coeficiente: 4\n",
            "Digite o valor do coeficiente: 5\n",
            "Digite o valor do coeficiente: 8\n",
            "a equação não possui raízes nos números reais\n",
            "------------------------------------------------------\n"
          ]
        }
      ]
    },
    {
      "cell_type": "code",
      "source": [
        "# Exercício 1 do vídeo inicial\n",
        "  ## Dados de vendas em gráfico de barras\n",
        "\n",
        "\"\"\"\n",
        "Visualizar dados de vendas de produtos em um gráfico de barras.\n",
        "Ex: x = [\"A\",\"B\",\"C\",\"D\"]\n",
        "    y = [3,8,1,10]\n",
        "\"\"\"\n",
        "import matplotlib.pyplot as plt\n",
        "import numpy as np\n",
        "\n",
        "x = np.array([\"A\", \"B\", \"C\", \"D\"])\n",
        "y = np.array([3, 8, 1, 10])\n",
        "\n",
        "plt.bar(x,y)\n",
        "plt.show()\n",
        "\n"
      ],
      "metadata": {
        "colab": {
          "base_uri": "https://localhost:8080/",
          "height": 265
        },
        "id": "YoF4kJAleEKz",
        "outputId": "2ed6d6eb-bc3f-4c05-b2f7-bcc0eab0174c"
      },
      "execution_count": null,
      "outputs": [
        {
          "output_type": "display_data",
          "data": {
            "text/plain": [
              "<Figure size 432x288 with 1 Axes>"
            ],
            "image/png": "[encoded data removed]"
          },
          "metadata": {
            "needs_background": "light"
          }
        }
      ]
    },
    {
      "cell_type": "code",
      "source": [
        "# Exercício 2 do vídeo inicial\n",
        "  ## Exibir um histograma\n",
        "\n",
        "\"\"\"\n",
        "Gerar 1000 pontos seguindo a distribuição Normal com média 20 e desvio-padrão 2.\n",
        "Além disso, exiba os dados em um histograma.\n",
        "\"\"\"\n",
        "import matplotlib.pyplot as plt\n",
        "import numpy as np\n",
        "np.random.seed(1)\n",
        "dados = np.random.normal(loc=20, scale=2, size=1000)\n",
        "plt.hist(dados, color = \"lightblue\", ec = \"red\")\n",
        "\n",
        "\n"
      ],
      "metadata": {
        "colab": {
          "base_uri": "https://localhost:8080/",
          "height": 356
        },
        "id": "9ljFuwHOgi5C",
        "outputId": "7899952f-da15-4397-9f1a-5bdd412dd0bf"
      },
      "execution_count": null,
      "outputs": [
        {
          "output_type": "execute_result",
          "data": {
            "text/plain": [
              "(array([ 10.,  37., 103., 223., 286., 224.,  90.,  24.,   1.,   2.]),\n",
              " array([13.89247124, 15.29494466, 16.69741807, 18.09989149, 19.50236491,\n",
              "        20.90483832, 22.30731174, 23.70978516, 25.11225857, 26.51473199,\n",
              "        27.91720541]),\n",
              " <a list of 10 Patch objects>)"
            ]
          },
          "metadata": {},
          "execution_count": 4
        },
        {
          "output_type": "display_data",
          "data": {
            "text/plain": [
              "<Figure size 432x288 with 1 Axes>"
            ],
            "image/png": "[encoded data removed]"
          },
          "metadata": {
            "needs_background": "light"
          }
        }
      ]
    },
    {
      "cell_type": "markdown",
      "source": [
        "### Missão 4 - Módulo 2 \n",
        "### (Conceitos de subprogramas e a sua utilização em Python)"
      ],
      "metadata": {
        "id": "nSAUO_CgJRri"
      }
    },
    {
      "cell_type": "code",
      "source": [
        "# # Exercício final de módulo\n",
        "\n",
        "def func1(x):\n",
        "     x = 10\n",
        "     print(x)\n",
        "\n",
        "\n",
        "x = 0\n",
        "print(x)\n",
        "func1(x)\n",
        "print(x)\n",
        "\n",
        "# Resposta\n",
        "\n",
        "\"\"\"\n",
        "A variável x da linha 6 é global. Mas, como existe outra variável com o \n",
        "mesmo nome dentro da função func1() – na linha 2, apenas dentro da função \n",
        "func1(), x vale 10 –, chamamos essa variável de local. Assim, o print da \n",
        "linha 7 recebe o valor da variável global (0). A execução da linha 8 chama \n",
        "a função func1(), que imprime o valor de x válido dentro dela (10). \n",
        "Em seguida, a execução do programa sai da função func1() e o print da \n",
        "linha 9 volta a enxergar a variável global x, cujo valor é 0.\n",
        "\"\"\"\n",
        "print('------------------------------------------------------')\n",
        "\n",
        "def rec(n):\n",
        "  if n < 2:\n",
        "    return rec(n - 1)\n",
        "\n",
        "print(rec(1))\n",
        "\n",
        "# Resposta\n",
        "\n",
        "\"\"\"\n",
        "A função é recursiva, mas não apresenta parada. Ao ser chamada com o \n",
        "parâmetro 1, o if da linha 2 tem condição verdadeira. Então ocorre a chamada \n",
        "a rec(0). Mas rec(0) não é definido; assim, ocorrerá a chamada a \n",
        "rec(-1) - e assim sucessivamente.\n",
        "\"\"\"\n",
        "print(\"fim\")"
      ],
      "metadata": {
        "id": "YAzqh6qe_PM1"
      },
      "execution_count": null,
      "outputs": []
    },
    {
      "cell_type": "code",
      "source": [
        "# Emprego de procedimentos e funções (vídeo)\n",
        "\n",
        "# Exercício exemplo do vídeo inicial\n",
        "  ## Menor elemento de uma lista \n",
        "\n",
        "def encontrar_minimo(lista):\n",
        "  minimo = lista[0]\n",
        "  for elem in lista:\n",
        "    if(elem < minimo):\n",
        "      minimo = elem\n",
        "  return minimo\n",
        "\n",
        "lista_teste = [2,10,3,1,4,5]\n",
        "menor = encontrar_minimo(lista_teste)\n",
        "print(\"O menor elemento da lista é: [{}]\".format(menor))\n",
        "\n",
        "print('------------------------------------------------------')\n",
        "\n",
        "# Exercício 1 do vídeo inicial\n",
        "  ## Soma de todos elementos pares de uma lista\n",
        "\n",
        "def ehPar(n):\n",
        "  r = (n % 2 == 0)\n",
        "  return r\n",
        "\n",
        "def somar_par(lst):\n",
        "  soma = 0\n",
        "  for num in lst:\n",
        "    if(ehPar(num)):\n",
        "      soma = soma + num\n",
        "  return soma\n",
        "\n",
        "lista = [10, 2, 5, 7, 6, 3]\n",
        "soma = somar_par(lista)\n",
        "print(f'O somatório dos elementos pares da lista é: {soma}')\n",
        "\n",
        "print('------------------------------------------------------')\n",
        "\n",
        "# Exercício 2 do vídeo inicial\n",
        "  ## Calcular o fatorial de um número onde n!=n(n-1)! e, 0!=1 e 1!=1\n",
        "\n",
        "    ### Estratégia 1\n",
        "\n",
        "def fatorial_iterativo(n):\n",
        "  f = 1\n",
        "  for i in range(1, n+1):\n",
        "    f = f*i\n",
        "  return f\n",
        "\n",
        "numero1 = 4\n",
        "print(f'O fatorial de {numero1} é: {fatorial_iterativo(numero1)}')\n",
        "\n",
        "    ### Estratégia 2\n",
        "\n",
        "def fatorial_recursivo(n):\n",
        "  if((n == 0) or (n == 1)):\n",
        "    return 1\n",
        "  return n*fatorial_recursivo(n-1)\n",
        "\n",
        "numero2 = 5\n",
        "print(f'O fatorial de {numero2} é: {fatorial_recursivo(numero2)}')\n",
        "\n",
        "print('------------------------------------------------------')\n",
        "\n",
        "# Exercício 2 do vídeo inicial\n",
        "  ## determinar se é primo ou não\n",
        "\n",
        "def eh_primo(n):\n",
        "  if(n < 2):\n",
        "    return False\n",
        "  i = n // 2\n",
        "  while(i > 1):\n",
        "    if(n % i == 0):\n",
        "      return False\n",
        "    i = i - 1\n",
        "  return True\n",
        "\n",
        "def imprimir_resultado(numero, resultado):\n",
        "  mensagem = f'O número {numero3} NÃO é primo'\n",
        "  if(resultado):\n",
        "    mensagem = f'O número {numero3} é primo'\n",
        "  return mensagem\n",
        "\n",
        "numero3 = 7\n",
        "resultado = eh_primo(numero3)\n",
        "msg = imprimir_resultado(numero3, resultado)\n",
        "print(msg)  "
      ],
      "metadata": {
        "id": "DbMeZ0JaJNMq",
        "colab": {
          "base_uri": "https://localhost:8080/"
        },
        "outputId": "aa58ba77-4807-47f1-9eaa-c8ecb763cdc1"
      },
      "execution_count": null,
      "outputs": [
        {
          "output_type": "stream",
          "name": "stdout",
          "text": [
            "O menor elemento da lista é: [1]\n",
            "------------------------------------------------------\n",
            "O somatório dos elementos pares da lista é: 18\n",
            "------------------------------------------------------\n",
            "O fatorial de 4 é: 24\n",
            "O fatorial de 5 é: 120\n",
            "------------------------------------------------------\n",
            "O número 7 é primo\n"
          ]
        }
      ]
    },
    {
      "cell_type": "code",
      "source": [
        "print('------------------------------------------------------')\n",
        "\n",
        "# Visão geral\n",
        "  ## Características gerais dos subprogramas\n",
        "\n",
        "\"\"\"\n",
        "Em Python, as funções definidas pelo desenvolvedor devem ser precedidas pela \n",
        "palavra reservada def. Não são especificados o tipo de retorno e os \n",
        "tipos dos parâmetros, como no exemplo a seguir:\n",
        "\n",
        "def calculaIMC (peso, altura)\n",
        "\n",
        "Em Python, as sentenças de função def são executáveis. \n",
        "Isso implica que a função só pode ser chamada após a execução da sentença def.\n",
        "\"\"\"\n",
        "escolha = 1   # input(\"Escolha uma opção de função: 1 ou 2\\n\")\n",
        "if escolha == \"1\":\n",
        "    def func1(x):\n",
        "        return x + 1\n",
        "    s = func1(10)\n",
        "\n",
        "else:\n",
        "    def func2(x):\n",
        "        return x + 2\n",
        "    s = func2(10)\n",
        "\n",
        "print(s)\n",
        "\n",
        "\"\"\"\n",
        "A função func1() só pode ser chamada caso a variável escolha seja igual a 1. \n",
        "Ou seja, o usuário deverá inserir 1 quando for solicitado (na linha 1) para \n",
        "que a linha 9 possa ser executada sem que um erro seja gerado .\n",
        "\"\"\"\n",
        "\n",
        "print('------------------------------------------------------')\n",
        "\n",
        "\n",
        "# Parâmetros, procedimentos e funções\n",
        "  ## Parâmetros\n",
        "\n",
        "\"\"\"\n",
        "Usualmente, um subprograma executa cálculos e operações a partir de dados que \n",
        "ele deve processar. Há duas maneiras de o subprograma obter esses dados: \n",
        "acessar variáveis não locais, mas visíveis para o subprograma, \n",
        "ou pela passagem de parâmetros.\n",
        "\n",
        "Quando o subprograma recebe os parâmetros adequados, ele pode ser executado \n",
        "com quaisquer valores recebidos. Porém, quando ele manipula variáveis não \n",
        "locais, uma forma de evitar alterações indevidas nessas variáveis é fazer \n",
        "cópias locais delas.\n",
        "\n",
        "De acordo com Sebesta (2018), o acesso sistemático a variáveis não locais \n",
        "pode diminuir a confiabilidade do programa. São denominados parâmetros formais \n",
        "aqueles do cabeçalho do subprograma.\n",
        "\n",
        "Quando o subprograma é chamado, é necessário escrever o nome dele e a lista \n",
        "de parâmetros a serem vinculados a seus parâmetros formais, que são denominados \n",
        "parâmetros reais ou argumentos.\n",
        "\n",
        "No exemplo anterior, em que usamos o emulador, há o cabeçalho da função func1 \n",
        "na linha 3 com o parâmetro formal x. Na linha 9, a função func1 é chamada \n",
        "com o parâmetro real 10.\n",
        "\n",
        "Em Python, é possível estabelecer valores padrão para os parâmetros formais. \n",
        "O valor padrão é usado quando a chamada da função ocorre \n",
        "sem nenhum parâmetro real.\n",
        "\n",
        "Veja o exemplo de definição e chamada da função taxímetro no próximo código\n",
        "\"\"\"\n",
        "\n",
        "def taximetro(distancia, multiplicador=1):\n",
        "  largada = 3\n",
        "  km_rodado = 2\n",
        "  valor = (largada + distancia * \n",
        "  km_rodado) * multiplicador\n",
        "  return valor\n",
        "\n",
        "pagamento = taximetro(3)\n",
        "print(pagamento)\n",
        "\n",
        "\"\"\"\n",
        "Observe que, mesmo com a definição da linha 1 de dois parâmetros formais, \n",
        "a chamada da função na linha 9 ocorre apenas com um parâmetro real.\n",
        "A palavra reservada return indica que a função retorna algum valor. \n",
        "Isso implica que o valor retornado seja armazenado em uma variável do \n",
        "programa chamador (como ocorre na linha 8) ou utilizado como \n",
        "parâmetro para outra função.\n",
        "\"\"\"\n",
        "print('------------------------------------------------------')\n",
        "\n",
        "  ## Procedimentos e funções\n",
        "\n",
        "def taximetro(distancia):\n",
        "    def calculaMult():\n",
        "        if distancia < 5:\n",
        "            return 1.2\n",
        "        else:\n",
        "            return 1\n",
        "\n",
        "    multiplicador = calculaMult()\n",
        "    largada = 3\n",
        "    km_rodado = 2\n",
        "    valor = (largada + distancia * km_rodado) * multiplicador\n",
        "    return valor\n",
        "\n",
        "\n",
        "dist = eval(input(\"Entre com a distancia a ser percorrida em km: \\n\"))\n",
        "pagamento = taximetro(dist)\n",
        "print(f'O valor a pagar é R$ {pagamento}')\n",
        "\n",
        "\"\"\"\n",
        "A função taximetro() tem, dentro de sua definição, a definição de \n",
        "outra função denominada calculaMult(). Na linha 8, a função calculaMult() é \n",
        "chamada, e o seu retorno é armazenado na variável multiplicador.\n",
        "\"\"\"\n",
        "print('------------------------------------------------------')\n",
        "\n",
        "  ## Métodos de passagens de parâmetros\n",
        "\n",
        "\"\"\"\n",
        "Os métodos de passagem de parâmetros são as maneiras existentes para \n",
        "transmiti-los ou recebê-los dos subprogramas chamados. Os parâmetros \n",
        "podem ser passados principalmente por:\n",
        "\n",
        "Valor\n",
        "O parâmetro formal funciona como uma variável local do subprograma, \n",
        "sendo inicializado com o valor do parâmetro real. Dessa maneira, não \n",
        "ocorre uma alteração na variável externa ao subprograma caso ela seja \n",
        "passada como parâmetro.\n",
        "\n",
        "Referência\n",
        "Em vez de passar o valor do parâmetro real, é transmitido um caminho de \n",
        "acesso (normalmente, um endereço) para o subprograma chamado. Isso fornece \n",
        "o caminho de acesso para a célula que armazena o parâmetro real. Assim, o \n",
        "subprograma chamado pode acessar esse parâmetro na unidade de \n",
        "programa chamadora.\n",
        "\n",
        "O método de passagem de parâmetros de Python é chamado de passagem por \n",
        "atribuição. Como todos os valores de dados são objetos, toda variável \n",
        "é uma referência para um objeto.\n",
        "\n",
        "Ao se estudar a orientação a objetos, fica mais clara a diferença entre \n",
        "a passagem por atribuição e a passagem por referência. Por enquanto, \n",
        "podemos entender que a passagem por atribuição é uma passagem por \n",
        "referência, pois os valores de todos os parâmetros reais são referências.\n",
        "\"\"\"\n",
        "print('------------------------------------------------------')\n",
        "\n",
        "# Funções recursivas\n",
        "  ## Recursividade\n",
        "\n",
        "\"\"\"Uma função recursiva é aquela que chama a si mesma. \"\"\"\n",
        "\n",
        "\"\"\"\n",
        "Em Python, o interpretador pode interromper a execução indefinida, \n",
        "mas essa não é uma boa prática. Uma forma de contornar esse problema é \n",
        "definir adequadamente uma condição de parada como a do exemplo a seguir\n",
        "\"\"\"\n",
        "\n",
        "def regressiva(x):\n",
        "  if x <= 0:\n",
        "    print(\"Acabou\")\n",
        "  else:\n",
        "    print(x)\n",
        "    regressiva(x-1)\n",
        "\n",
        "print('------------------------------------------------------')\n",
        "\n",
        "# A função recursiva fatorial\n",
        "\n",
        "\"\"\"\n",
        "Alguns exemplos clássicos de funções que podem ser implementadas de \n",
        "forma recursiva são o cálculo do fatorial de um inteiro não negativo \n",
        "e a sequência de Fibonacci, que serão explorados a seguir.\n",
        "\"\"\"\n",
        "\n",
        "def fatorial(n):\n",
        "  if n == 0 or n == 1:\n",
        "    return 1\n",
        "  else:\n",
        "    return n*fatorial(n-1)\n",
        "\n",
        "\"\"\"\n",
        "Vale ressaltar que a função fatorial também poderia ter sido \n",
        "implementada de forma não recursiva, como é mostrado a seguir\n",
        "\"\"\"\n",
        "\n",
        "def fatorial(n):\n",
        "  fat = 1\n",
        "  if n == 0 or n == 1:\n",
        "    return fat\n",
        "  else:\n",
        "    for x in range(2, n + 1):\n",
        "      fat = fat*x\n",
        "  return fat\n",
        "\n",
        "print('------------------------------------------------------')\n",
        " \n",
        "    ## A sequência de Fibonacci\n",
        "\n",
        "\"\"\"\n",
        "A sequência de Fibonacci é: 1, 1, 2, 3, 5, 8, 13, 21... Os dois primeiros \n",
        "termos são 1; a partir do 3º termo, cada termo é a soma dos dois anteriores.\n",
        "\n",
        "Veja uma possível implementação recursiva de função que determina o n-ésimo \n",
        "termo da sequência de Fibonacci (no arquivo disponibilizado, \n",
        "trata-se do código 20):\n",
        "\"\"\"\n",
        "\n",
        "def fibo(n):\n",
        "    if n == 1 or n == 2:\n",
        "        return 1\n",
        "    else:\n",
        "        return fibo(n - 1) + fibo(n - 2)\n",
        "\n",
        "\"\"\"\n",
        "A linha 2 traz as condições de parada.\n",
        "\n",
        "A linha 5 traz as chamadas recursivas para calcular os dois \n",
        "termos anteriores da sequência.\n",
        "\"\"\"\n",
        "print(\"fim\")\n"
      ],
      "metadata": {
        "id": "3-68QTk-sFRN",
        "colab": {
          "base_uri": "https://localhost:8080/"
        },
        "outputId": "6e15af3c-cdfd-4879-af84-4588ac41eb1e"
      },
      "execution_count": null,
      "outputs": [
        {
          "output_type": "stream",
          "name": "stdout",
          "text": [
            "------------------------------------------------------\n",
            "12\n",
            "------------------------------------------------------\n",
            "9\n",
            "------------------------------------------------------\n",
            "Entre com a distancia a ser percorrida em km: \n",
            "5\n",
            "O valor a pagar é R$ 13\n",
            "------------------------------------------------------\n",
            "------------------------------------------------------\n",
            "------------------------------------------------------\n",
            "------------------------------------------------------\n",
            "fim\n"
          ]
        }
      ]
    },
    {
      "cell_type": "markdown",
      "source": [
        "### Missão 4 - Módulo 1\n",
        "### (Estruturas de decisão e repetição em Python)"
      ],
      "metadata": {
        "id": "pbY3J0Zd0FYx"
      }
    },
    {
      "cell_type": "code",
      "source": [
        "# # Exercício final de módulo\n",
        "\n",
        "s = 0\n",
        "for i in range(5):\n",
        "  s += 3*i\n",
        "print(s)\n",
        "\n",
        "# Resposta\n",
        "\"\"\"\n",
        "O laço for vai ser repetido cinco vezes, já que range(5) retorna a \n",
        "sequência (0, 1, 2, 3, 4). Vale observar que a instrução print(s) está \n",
        "fora do laço for, o que a levará a ser executada apenas uma vez quando o laço \n",
        "se encerrar. Isso elimina as opções A e B. A variável s começa com valor zero \n",
        "e é acrescida, a cada iteração, do valor 3*i, sendo que i pertence à \n",
        "sequência (0, 1, 2, 3, 4). Ou seja, s recebe estes \n",
        "acréscimos: 0 + 3 + 6 + 9 + 12. Assim, ela termina o laço com o valor 30, \n",
        "que será impresso pela instrução print(s).\n",
        "\"\"\"\n",
        "print('------------------------------------------------------')\n",
        "\n",
        "s = 0\n",
        "a = 1\n",
        "while s < 5:\n",
        "  s = 3*a\n",
        "  a += 1\n",
        "  print(s)\n",
        "\n",
        "# Resposta\n",
        "\"\"\"\n",
        "Ao ser testada pela primeira vez, a condição do while é verdadeira, \n",
        "já que s vale zero. Assim, a variável s recebe o valor 3 (3x1), enquanto \n",
        "a variável a é acrescida de uma unidade, ficando com o valor 2. Em seguida, \n",
        "é impresso o valor de s (3). A condição do while é então testada novamente, \n",
        "sendo mais uma vez verdadeira, porque s tem o valor 3 (menor que 5). \n",
        "Nessa iteração, a variável s recebe o valor 6 (3x2), e a variável a é \n",
        "acrescida de uma unidade, ficando com o valor 3. Em seguida, é impresso o \n",
        "valor de s (6). A condição do while é testada novamente e se revela falsa, \n",
        "pois s tem o valor 6 (maior que 5). Com isso, o laço while é encerrado e \n",
        "nada mais é impresso. Por isso, foram impressos os valores 3 e 6.\n",
        "\"\"\""
      ],
      "metadata": {
        "id": "bC594rLDISJy"
      },
      "execution_count": null,
      "outputs": []
    },
    {
      "cell_type": "code",
      "source": [
        "# As estruturas de decisão if, if-else e elif\n",
        "\n",
        " # Exercício exemplo do vídeo inicial\n",
        "\n",
        "\"\"\" Implementar uma solução em Python que receba \n",
        "dois números e identifique qual o maior deles.\"\"\"\n",
        "\n",
        "   ## Estratégia 1\n",
        "\n",
        "a = 10\n",
        "b = 20\n",
        "if(a>b):\n",
        "  maior = a\n",
        "else:\n",
        "  maior = b\n",
        "print(f'O maior númeor é: {maior}')\n",
        "\n",
        "   ## Estratégia 2\n",
        "\n",
        "a = 30\n",
        "b = 50\n",
        "maior = a\n",
        "if(b>maior):\n",
        "  maior = b\n",
        "print(f'O maior número é: {maior}')\n",
        "\n",
        "print('------------------------------------------------------')\n",
        "\n",
        "# Exercício 1 do vídeo inicial\n",
        "\n",
        "\"\"\" Implementar uma solução em Python que \n",
        "verifique se um número é par ou ímpar\"\"\"\n",
        "\n",
        "x = 5 # int(input(\"Digite o número que quer saber se é par ou ímpar: \"))\n",
        "if(x % 2 == 0):\n",
        "  situação = \"O número é par\"\n",
        "else:\n",
        "  situação = \"O número é ímpar\"\n",
        "\n",
        "print(situação)\n",
        "\n",
        "print('------------------------------------------------------')\n",
        "\n",
        "# Exercício 2 do vídeo inicial\n",
        "\n",
        "\"\"\" Implementar uma solução em Python que resolva a seguinte questão:\n",
        "- Se a nota for maior ou igual a 7, aprovado.\n",
        "- Se a nota for menor que 7 e maior ou igual a 5, recuperação.\n",
        "- Se a nota for menor que 5 reprovado.\"\"\"\n",
        "\n",
        "media = 8.5 # float(input(\"Digite a nota do aluno: \"))\n",
        "\n",
        "if(media>=7.0):\n",
        "  situação = \"aprovado\"\n",
        "elif(media>=5.0):\n",
        "  situação = \"em recuperação\"\n",
        "else:\n",
        "  situação = \"reprovado\"\n",
        "print(f'O estudante está: {situação}')\n",
        "\n",
        "print('------------------------------------------------------')\n",
        "\n",
        "# Exercício 3 do vídeo inicial\n",
        "\n",
        "\"\"\" Calcular o valor de uma compra, sendo que o preço unitário é R$ 10,00.\n",
        "- Se for comprar até 10 unidades, não há desconto.\n",
        "- Compras entre 11 e 20 unidades, desconto de 10%.\n",
        "- Acima de 20 unidades, desconto de 20%. \"\"\"\n",
        "\n",
        "preco_unitario = 10\n",
        "desconto10 = 0.9\n",
        "desconto20 = 0.8\n",
        "quantidade = 11 # eval(input(\"Digite a quantidade que vai comprar: \"))\n",
        "if(quantidade <= 10):\n",
        "  valor_final = preco_unitario * quantidade\n",
        "elif(quantidade <= 20):\n",
        "  valor_final = preco_unitario * quantidade * (desconto10)\n",
        "else:\n",
        "  valor_final = preco_unitario * quantidade * (desconto20)\n",
        "\n",
        "print(f'O valor final de compra é: {valor_final}')\n",
        "\n",
        "print('------------------------------------------------------')\n",
        "\n",
        "# Exercício 4 do vídeo inicial\n",
        "\n",
        "\"\"\" Somar todos os números pares de uma lista.\n",
        "Exemplo, se a lista for [10,2,5,7,6,3], o resultado deve ser igual a 18.\"\"\"\n",
        "\n",
        "   ## Estratégia 1\n",
        "\n",
        "lista = [10, 2, 5, 7, 6, 3]\n",
        "n = len(lista)\n",
        "soma = 0\n",
        "for i in range(n):\n",
        "  if(lista[i] % 2 == 0):\n",
        "    soma = soma + lista[i]\n",
        "print(f'O somatório dos elementos pares da lista é: {soma}')\n",
        "\n",
        "   ## Estratégia 1\n",
        "\n",
        "lista = [10, 2, 5, 7, 6, 3]\n",
        "soma = 0\n",
        "for num in lista:\n",
        "  if(num % 2 == 0):\n",
        "    soma = soma + num\n",
        "print(f'O somatório dos elementos pares da lista é: {soma}')\n",
        "\n",
        "print('------------------------------------------------------')\n",
        "\n",
        "# Estruturas de repetição\n",
        "\n",
        "\"\"\"\n",
        "Antes de detalharmos o for, vamos conhecer uma função de Python que gera uma \n",
        "lista de valores numéricos. Essa lista nos ajudará a verificar a repetição e \n",
        "deixará mais claro o entendimento do laço.\n",
        "\n",
        "  # As listas do tipo range()\n",
        "\n",
        "Ao chamar o método range(), Python cria uma sequência de números inteiros, \n",
        "desde uma maneira simples até a mais complexa.\n",
        "\n",
        "   => Simples\n",
        "\n",
        "Ela pode ser chamada de maneira simples, tendo apenas com um argumento. \n",
        "Nesse caso, a sequência começará em 0 e será incrementada de uma unidade até o \n",
        "limite do parâmetro passado (exclusive). \n",
        "Exemplo: range(3) cria a sequência (0, 1, 2).\n",
        "\n",
        "   => Não iniciadas em 0\n",
        "\n",
        "Para que a sequência não comece em 0, pode-se informar o início e o fim \n",
        "como parâmetros. Lembre-se de que o parâmetro fim não entra na lista \n",
        "(exclusive o fim). O padrão é incrementar cada termo em uma unidade. \n",
        "Ou seja, a chamada range(2, 7) cria a sequência (2, 3, 4, 5, 6).\n",
        "\n",
        "   => Indicando início, fim e passo\n",
        "\n",
        "Também é possível criar sequências mais complexas indicando, na ordem, \n",
        "os parâmetros de início, fim e passo. O passo é o valor que será incrementado \n",
        "de um termo para o próximo. Exemplo: range(2, 9, 3) cria a sequência (2, 5, 8).\n",
        "\"\"\"\n",
        "\n",
        "# Estruturas de repetição for\n",
        "\n",
        "\"\"\"\n",
        "For <variável> in <sequência>:\n",
        "    Bloco que será repetido para todos os itens da sequência\n",
        "Instrução fora do for\n",
        "\"\"\"\n",
        "\n",
        "for item in range(2, 9, 3):\n",
        "    print(item)\n",
        "\n",
        "\"\"\"\n",
        "A linha 1 mostra a criação do laço com a variável item percorrendo a \n",
        "sequência (2, 5, 8), que é criada pela chamada range(2, 9, 3);\n",
        "\n",
        "A linha 2 indica a instrução que será executada para cada repetição desse laço. \n",
        "O laço for executa a instrução da linha 2 três vezes, uma para cada elemento \n",
        "da sequência (2, 5, 8). O resultado está exemplificado na tabela seguinte.\n",
        "\"\"\"\n",
        "  ## O laço for com uma string\n",
        "\n",
        "nome = JULIANO # input(\"Entre com seu nome: \\n\")\n",
        "for letra in nome:\n",
        "    print(letra)\n",
        "\n",
        "\"\"\"\n",
        "  Python também permite que a repetição aconteça ao longo de uma string. \n",
        "Para isso, basta lembrar que a string é uma sequência de caracteres individuais.\n",
        "\"\"\"\n",
        "\n",
        "  ## Uso do laço for com qualquer sequência\n",
        "\n",
        "\"\"\"\n",
        "  Podemos utilizar o laço for com iterações sobre qualquer sequência, \n",
        "e não somente as numéricas e as strings.\n",
        "\"\"\"\n",
        "\n",
        "nomes = ['Laura', 'Lis', 'Guilherme', 'Enzo', 'Arthur']\n",
        "for nome in nomes:\n",
        "    print(nome)\n",
        "\n",
        "print('------------------------------------------------------')\n",
        "\n",
        "# Estrutura de repetição while\n",
        "\n",
        "palavra = input('Entre com uma palavra: \\n ')\n",
        "while palavra != 'sair':\n",
        "    palavra = input('Digite sair para encerrar o laço: \\n')\n",
        "print('Você digitou sair e agora está fora do laço')\n",
        "\n",
        "\"\"\"\n",
        "  A linha 1 representa a solicitação ao usuário para que ele insira uma \n",
        "palavra a ser armazenada na variável palavra;\n",
        "\n",
        "  A linha 2 cria o laço while, que depende da condição \n",
        "<valor da variável palavra ser diferente de ‘sair’>;\n",
        "\n",
        "  A linha 3 será repetida enquanto a condição for verdadeira, ou seja, \n",
        "enquanto o valor da variável palavra for diferente de ‘sair’. \n",
        "Quando esses valores forem iguais, a condição do laço \n",
        "while será falsa e o laço, encerrado;\n",
        "\n",
        "  A linha 4 representa a impressão da mensagem fora do laço while.\n",
        "\"\"\"\n",
        "print('------------------------------------------------------')\n",
        "\n",
        "# As instruções auxiliares break, continue e pass\n",
        "\n",
        "  ## A instrução break\n",
        "\n",
        "\"\"\"\n",
        "Ela interrompe as repetições dos laços for e while. Quando a execução do \n",
        "programa chega a uma instrução break, a repetição é encerrada e o fluxo \n",
        "do programa segue a partir da primeira instrução seguinte ao laço.\n",
        "\"\"\"\n",
        "\n",
        "while True:\n",
        "    palavra = input('Entre com uma palavra: \\n')\n",
        "    if palavra == 'sair':\n",
        "        break\n",
        "print('Você digitou sair e agora está fora do laço')\n",
        "\n",
        "\"\"\"Caso haja vários laços aninhados, o break será relativo \n",
        "ao laço em que estiver inserido.\"\"\"\n",
        "\n",
        "while True:\n",
        "    print('Você está no primeiro laço.')\n",
        "    opcao1 = input('Deseja sair dele? Digite SIM para isso. \\n')\n",
        "    if opcao1 == 'SIM':\n",
        "        break  # este break é do primeiro laço\n",
        "    else:\n",
        "        while True:\n",
        "            print('Você está no segundo laço.')\n",
        "            opcao2 = input('Deseja sair dele? Digite SIM para isso. \\n')\n",
        "            if opcao2 == 'SIM':\n",
        "                break  # este break é do segundo laço\n",
        "        print('Você saiu do segundo laço.')\n",
        "print('Você saiu do primeiro laço')\n",
        "\n",
        "\"\"\"\n",
        "Ela atua sobre as repetições dos laços for e while, como a instrução break, \n",
        "mas não interrompe todas as repetições do laço. Essa instrução interrompe \n",
        "apenas a iteração corrente, fazendo com que o laço passe para a \n",
        "próxima iteração.\n",
        "\n",
        "O exemplo a seguir imprime todos os números inteiros de 1 até 10, \n",
        "pulando apenas o 5. Veja sua implementação\n",
        "\"\"\"\n",
        "for num in range(1, 11):\n",
        "    if num == 5:\n",
        "        continue\n",
        "    else:\n",
        "        print(num)\n",
        "print('Laço encerrado')\n",
        "\n",
        "\"\"\"\n",
        "Para ressaltar a diferença entre as instruções break e continue, \n",
        "vamos alterar a linha 3 do código anterior, trocando a instrução continue \n",
        "pela instrução break. Clique em Executar no emulador e veja a nova execução.\n",
        "\"\"\"\n",
        "print('------------------------------------------------------')\n",
        "\n",
        "# A instrução pass\n",
        "\n",
        "\"\"\"\n",
        "A instrução pass atua sobre a estrutura if, permitindo que ela seja escrita \n",
        "sem outras instruções a serem executadas caso a condição seja verdadeira. \n",
        "Assim, podemos concentrar as instruções no caso em que a condição é falsa.\n",
        "\n",
        "Suponha que queiramos imprimir somente os números ímpares entre 1 e 10.\n",
        "\"\"\"\n",
        "\n",
        "for num in range(1, 11):\n",
        "    if num % 2 == 0:\n",
        "        pass\n",
        "    else:\n",
        "        print(num)\n",
        "print('São números ímpares')\n",
        "\n",
        "\n",
        "\n",
        "for num in range(1, 11):\n",
        "    if num % 2 == 0:\n",
        "        print(num)\n",
        "print('São números pares')\n",
        "\n",
        "\n",
        "\n",
        "\n",
        "\n"
      ],
      "metadata": {
        "id": "DQ_a3rY60MWc",
        "colab": {
          "base_uri": "https://localhost:8080/",
          "height": 495
        },
        "outputId": "0e896ac2-c0f7-4f4b-e406-85ff8a2ed20c"
      },
      "execution_count": null,
      "outputs": [
        {
          "output_type": "stream",
          "name": "stdout",
          "text": [
            "O maior númeor é: 20\n",
            "O maior número é: 50\n",
            "------------------------------------------------------\n",
            "O número é ímpar\n",
            "------------------------------------------------------\n",
            "O estudante está: aprovado\n",
            "------------------------------------------------------\n",
            "O valor final de compra é: 99.0\n",
            "------------------------------------------------------\n",
            "O somatório dos elementos pares da lista é: 18\n",
            "O somatório dos elementos pares da lista é: 18\n",
            "------------------------------------------------------\n",
            "2\n",
            "5\n",
            "8\n"
          ]
        },
        {
          "output_type": "error",
          "ename": "NameError",
          "evalue": "ignored",
          "traceback": [
            "\u001b[0;31m---------------------------------------------------------------------------\u001b[0m",
            "\u001b[0;31mNameError\u001b[0m                                 Traceback (most recent call last)",
            "\u001b[0;32m<ipython-input-26-7f0e9a844436>\u001b[0m in \u001b[0;36m<module>\u001b[0;34m\u001b[0m\n\u001b[1;32m    163\u001b[0m   \u001b[0;31m## O laço for com uma string\u001b[0m\u001b[0;34m\u001b[0m\u001b[0;34m\u001b[0m\u001b[0;34m\u001b[0m\u001b[0m\n\u001b[1;32m    164\u001b[0m \u001b[0;34m\u001b[0m\u001b[0m\n\u001b[0;32m--> 165\u001b[0;31m \u001b[0mnome\u001b[0m \u001b[0;34m=\u001b[0m \u001b[0mJULIANO\u001b[0m \u001b[0;31m# input(\"Entre com seu nome: \\n\")\u001b[0m\u001b[0;34m\u001b[0m\u001b[0;34m\u001b[0m\u001b[0m\n\u001b[0m\u001b[1;32m    166\u001b[0m \u001b[0;32mfor\u001b[0m \u001b[0mletra\u001b[0m \u001b[0;32min\u001b[0m \u001b[0mnome\u001b[0m\u001b[0;34m:\u001b[0m\u001b[0;34m\u001b[0m\u001b[0;34m\u001b[0m\u001b[0m\n\u001b[1;32m    167\u001b[0m     \u001b[0mprint\u001b[0m\u001b[0;34m(\u001b[0m\u001b[0mletra\u001b[0m\u001b[0;34m)\u001b[0m\u001b[0;34m\u001b[0m\u001b[0;34m\u001b[0m\u001b[0m\n",
            "\u001b[0;31mNameError\u001b[0m: name 'JULIANO' is not defined"
          ]
        }
      ]
    },
    {
      "cell_type": "markdown",
      "source": [
        "## Nível 2 - Missão 3\n",
        "## (Python Básico)"
      ],
      "metadata": {
        "id": "jZjPGZlH0uu4"
      }
    },
    {
      "cell_type": "markdown",
      "source": [
        "### Missão 3 - Módulo 4"
      ],
      "metadata": {
        "id": "KaSFBxFrRKib"
      }
    },
    {
      "cell_type": "code",
      "source": [
        "# # Exercício final de módulo\n",
        "\n",
        "L = [1,2,3,4,5,6,7,8]\n",
        "print(L[::-1])\n",
        "\n",
        "# Resposta \n",
        "\"\"\"\n",
        "[8, 7, 6, 5, 4, 3, 2, 1]\n",
        "\n",
        "A impressão da sequência L com a chamada L[::-1] é \n",
        "feita percorrendo toda a sequência L, em sentido inverso.\"\"\"\n",
        "\n",
        "a=input(\"XXX\")\n",
        "\n",
        "# Resposta \n",
        "\"\"\"Um prompt no dispositivo de saída e a leitura \n",
        "de um valor que é armazenado na variável 'a'.\n",
        "\n",
        "A função input() tanto exibe na tela a string “XXX”, como permite \n",
        "que o valor informado pelo usuário seja armazenado na variável a.\"\"\"\n",
        "\n",
        "exit()"
      ],
      "metadata": {
        "colab": {
          "base_uri": "https://localhost:8080/"
        },
        "id": "XdaWcrinyb08",
        "outputId": "7a0c6c68-f92f-4553-c33b-d734cacb8697"
      },
      "execution_count": null,
      "outputs": [
        {
          "name": "stdout",
          "output_type": "stream",
          "text": [
            "[8, 7, 6, 5, 4, 3, 2, 1]\n",
            "XXX4\n"
          ]
        }
      ]
    },
    {
      "cell_type": "code",
      "source": [
        "# Exercício 1 do vídeo inicial\n",
        "\n",
        "a = ['10']\n",
        "b = ['20']\n",
        "c = ['30']\n",
        "x = a + b + c\n",
        "print(f'x={x}')\n",
        "print(x)\n",
        "\n",
        "print('------------------------------------------------------')\n",
        "\n",
        "# Exercício 2 do vídeo inicial\n",
        "\n",
        "a = ['10']\n",
        "b = ['20']\n",
        "c = ['30']\n",
        "x = a*2+b*3+c*4\n",
        "print(f'x={x}')\n",
        "print(x)\n",
        "\n",
        "print('------------------------------------------------------')\n",
        "\n",
        "# Exercício 3 do vídeo inicial\n",
        "    # f(x) = ax+b\n",
        "    # ax = -b\n",
        "    # x = -b/a  com a diferente de zero\n",
        "\n",
        "a = 10\n",
        "b = 5\n",
        "x = -b/a\n",
        "print('A raiz da equaçãodo do primeiro grau é: x={}'.format(x))\n",
        "\n",
        "print('------------------------------------------------------')\n",
        "\n",
        "# Atribuição múltipla\n",
        "\n",
        "x, y = 2, 5\n",
        "print(x)\n",
        "print(y)\n",
        "print(x, y)\n",
        "\n",
        "print('------------------------------------------------------')\n",
        "\n",
        "# Operadores de atribuição compostos\n",
        "\n",
        "x = 10\n",
        "x = x + 1\n",
        "print(x)\n",
        "\n",
        "\"\"\"A variável x, inicialmente, recebeu o valor 10. Em seguida, \n",
        "a instrução x = x + 1, que causa estranheza quando lembramos da matemática \n",
        "aprendida ao longo da vida, é muito comum quando estamos programando. \n",
        "Essa instrução significa “acrescente uma unidade ao valor de x e guarde \n",
        "este resultado na própria variável x”. Como x valia 10, o resultado \n",
        "do lado direito do operador (=) é 11. \n",
        "Esse resultado é, então, armazenado na própria variável x.\n",
        "Essa operação de acrescentar determinado valor a uma variável e \n",
        "armazenar o resultado na própria variável poderia ser \n",
        "feita com o operador += (mais igual). \n",
        "Altere a 2ª linha no código do emulador anterior para x += 1, \n",
        "clique em Executar e veja o resultado.\n",
        "Na tabela a seguir, estão os operadores compostos disponíveis em Python. \n",
        "Considere a variável x, com o valor inicial 10, para verificar os resultados:\"\"\"\n",
        "\n",
        "x = 10\n",
        "x += 2\n",
        "print(f'x += 2 , o x passa a valer {x}')\n",
        "x = 10\n",
        "x -= 2\n",
        "print(f'x -= 2 , o x passa a valer {x}')\n",
        "x = 10\n",
        "x *= 2\n",
        "print(f'x *= 2 , o x passa a valer {x}')\n",
        "x = 10\n",
        "x /= 2\n",
        "print(f'x /= 2 , o x passa a valer {x}')\n",
        "x = 10\n",
        "x %= 3\n",
        "print(f'x %= 2 , o x passa a valer {x}')\n",
        "x = 10\n",
        "x //= 3\n",
        "print(f'x //= 2 , o x passa a valer {x}')\n",
        "\n",
        "print('------------------------------------------------------')\n",
        "\n",
        "# Troca de variáveis\n",
        "\n",
        "a = 1\n",
        "b = 2\n",
        "# troca de variáveis usando variável auxiliar ‘temp’\n",
        "temp = a\n",
        "a = b\n",
        "b = temp\n",
        "print(f\"O valor da variável a é: {a}\")\n",
        "print(f\"O valor da variável b é: {b}\")\n",
        "\n",
        "# troca de variáveis através de atribuição múltipla\n",
        "a, b = b, a\n",
        "print(f\"O valor da variável a é: {a}\")\n",
        "print(f\"O valor da variável b é: {b}\")\n",
        "\n",
        "print('------------------------------------------------------')\n",
        "\n",
        "# A função eval()\n",
        "\n",
        "\"\"\"A função eval() recebe uma string, mas trata como um valor numérico. \n",
        "Veja o exemplo:\"\"\"\n",
        "\n",
        "s = '1 + 2'\n",
        "print(s)\n",
        "print(type(s))\n",
        "print(eval(s))\n",
        "\n",
        "print('------------------------------------------------------')\n",
        "\n",
        "# Atividad discursiva IMC = peso/altura**2\n",
        "\n",
        "p = 85\n",
        "a = 175\n",
        "imc = (((p/(a**2))*100)*100)\n",
        "print(f'o seu IMC é: {imc:.2f}')\n",
        "\n",
        "# ou \n",
        "\n",
        "#peso = float(input('Digite seu peso: '))\n",
        "#altura = float(input('Digite sua altura: '))\n",
        "#imc = (peso / (altura**2))*100\n",
        "#if imc == (18.5 and 25):\n",
        "#  print(f'{imc:.2f} Você está no peso ideal')\n",
        "#if imc > 25.1:\n",
        "#  print(f'{imc:.2f} Você está acima do peso')\n",
        "\n",
        "print('------------------------------------------------------')\n",
        "\n",
        "# Formatação de dados de saída\n",
        "\n",
        "\"\"\" Quando desejamos que a saída siga determinado padrão – por exemplo, \n",
        "de hora ou de data – existem algumas possibilidades para usar a função print(). \n",
        "É sempre possível utilizar a concatenação de strings, com o operador +, \n",
        "para montar a frase como quisermos. Suponha que tenhamos as seguintes variáveis:\n",
        "\n",
        "hora = 10\n",
        "minutos = 26\n",
        "segundos = 18\n",
        "\n",
        "Poderíamos chamar a função print() com o separador: da seguinte forma: \"\"\"\n",
        "\n",
        "hora = 10\n",
        "minutos = 26\n",
        "segundos = 18\n",
        "\n",
        "print(str(hora) + ' : ' + str(minutos) + ' : ' + str(segundos))\n",
        "\n",
        "\"\"\" Porém, existe outra possibilidade, usando o método format(). \n",
        "Ele permite que a chamada à função print() fique muito parecida \n",
        "com as chamadas à função printf() em C, com passagem de parâmetros \n",
        "a serem colocados em ordem na string. Com o método format(), podemos \n",
        "montar a string com as chaves {} indicando onde entrarão valores, passados \n",
        "como parâmetros separados por vírgulas, como mostrado na imagem abaixo:\"\"\"\n",
        "\n",
        "print('{} : {} : {}'.format(hora, minutos, segundos))\n",
        "\n",
        "\"\"\"É importante observar que a quantidade de chaves precisa ser igual à \n",
        "quantidade de variáveis passadas como parâmetros no método format(). \n",
        "Seria muito bom se não precisássemos nos preocupar com essa correspondência \n",
        "para evitar erros bobos. E isso é possível! Para tornar a saída formatada \n",
        "ainda mais intuitiva, basta utilizar a letra ‘f’ no início dos parâmetros da \n",
        "função print() e colocar cada variável dentro das chaves na posição em que \n",
        "deve ser impressa. Veja como fica ainda mais fácil entender:\"\"\"\n",
        "\n",
        "print(f'{hora} : {minutos} : {segundos}')\n",
        "\n",
        "print('------------------------------------------------------')\n",
        "\n",
        "# ainda em Formatação de dados de saída\n",
        "\n",
        "\"\"\"Também é possível especificar a largura de campo para exibir um inteiro. \n",
        "Se a largura não for especificada, ela será determinada pela quantidade de \n",
        "dígitos do valor a ser impresso. (Também é válido perceber que o padrão é \n",
        "alinhar os valores à direita do espaço reservado para a impressão da variável.)\"\"\"\n",
        "\n",
        "print('{:4},{:5}'.format(10,100))\n",
        "\n",
        "\"\"\"Observe que os valores 10 e 100 foram impressos com espaços em branco à \n",
        "esquerda. Isso ocorreu porque definimos que a primeira variável deveria ser \n",
        "impressa com 4 espaços com {:4} (2 foram ocupados e 2 ficaram em branco), e \n",
        "que a segunda variável deveria ser impressa com 5 espaços com {:5} (3 foram \n",
        "ocupados e 2 ficaram em branco).\"\"\"\n",
        "\n",
        "\"\"\"O método format() também pode ser usado para imprimir valores de ponto \n",
        "flutuante com a precisão definida. Vamos a mais um exemplo:\"\"\"\n",
        "\n",
        "print('{:.4f}'.format(10/3)) # :.4f diz para imprimir com 4 casas decimais\n"
      ],
      "metadata": {
        "colab": {
          "base_uri": "https://localhost:8080/"
        },
        "id": "dFDfdQY0A5jZ",
        "outputId": "be6ec3c1-2627-4126-a482-cb67ddade71e"
      },
      "execution_count": null,
      "outputs": [
        {
          "output_type": "stream",
          "name": "stdout",
          "text": [
            "x=['10', '20', '30']\n",
            "['10', '20', '30']\n",
            "------------------------------------------------------\n",
            "x=['10', '10', '20', '20', '20', '30', '30', '30', '30']\n",
            "['10', '10', '20', '20', '20', '30', '30', '30', '30']\n",
            "------------------------------------------------------\n",
            "A raiz da equaçãodo do primeiro grau é: x=-0.5\n",
            "------------------------------------------------------\n",
            "2\n",
            "5\n",
            "2 5\n",
            "------------------------------------------------------\n",
            "11\n",
            "x += 2 , o x passa a valer 12\n",
            "x -= 2 , o x passa a valer 8\n",
            "x *= 2 , o x passa a valer 20\n",
            "x /= 2 , o x passa a valer 5.0\n",
            "x %= 2 , o x passa a valer 1\n",
            "x //= 2 , o x passa a valer 3\n",
            "------------------------------------------------------\n",
            "O valor da variável a é: 2\n",
            "O valor da variável b é: 1\n",
            "O valor da variável a é: 1\n",
            "O valor da variável b é: 2\n",
            "------------------------------------------------------\n",
            "1 + 2\n",
            "<class 'str'>\n",
            "3\n",
            "------------------------------------------------------\n",
            "o seu IMC é: 27.76\n",
            "------------------------------------------------------\n",
            "10 : 26 : 18\n",
            "10 : 26 : 18\n",
            "10 : 26 : 18\n",
            "------------------------------------------------------\n",
            "  10,  100\n",
            "3.3333\n"
          ]
        }
      ]
    },
    {
      "cell_type": "markdown",
      "source": [
        "### Missão 3 - Módulo 3"
      ],
      "metadata": {
        "id": "-tEdwF07Q-mb"
      }
    },
    {
      "cell_type": "code",
      "source": [
        "# Exercício final de módulo\n",
        "\n",
        "x = 2 + 3 - (4 ** 2) + (5 / 2) - (5 // 2)\n",
        "print(x)\n",
        "\n",
        "print('------------------------------------------------------')\n",
        "\n",
        "a = ['U'] + ['RN']\n",
        "print(len(a))\n",
        "b = ['4'] * 4\n",
        "print(len(b))"
      ],
      "metadata": {
        "colab": {
          "base_uri": "https://localhost:8080/"
        },
        "id": "CoKr5CYXR_Za",
        "outputId": "ad3a3dd9-2031-48ef-f835-6aa43400a492"
      },
      "execution_count": null,
      "outputs": [
        {
          "output_type": "stream",
          "name": "stdout",
          "text": [
            "-10.5\n",
            "------------------------------------------------------\n",
            "2\n",
            "4\n"
          ]
        }
      ]
    },
    {
      "cell_type": "code",
      "source": [
        "\n",
        "# Exemplo de lista\n",
        "\n",
        "lista = [101,202,303,404,505]\n",
        "print(f'lista[0] = {lista[0]}')\n",
        "print(f'Segundo da lista = {lista[1]}')\n",
        "print(f'Lista completa = {lista}')\n",
        "\n",
        "print('------------------------------------------------------')\n",
        "\n",
        "# Exemplo de Dicionário\n",
        "\n",
        "pessoas = {1:'João',2:'Maria',3:['Ana','Valéria'],4:['Larissa']}\n",
        "print(f'A primeira pessoa é = {pessoas[1]}')\n",
        "print(f'As terceiras pessoas foram = {pessoas[3]}')\n",
        "print(f'A quarta pessoa é = {pessoas[4]}')\n",
        "\n",
        "print('------------------------------------------------------')\n",
        "\n",
        "# Exemplo divisores int e float\n",
        "\n",
        "a = 21/2   # divisão completa (resulta em float)\n",
        "b = 21//2  # divisão inteira  (resulta em int)\n",
        "c = 21%2   # resto da divisão inteira (resulta em int)\n",
        "\n",
        "print(a, b, c)\n",
        "print(a)\n",
        "print(b)\n",
        "print(c)\n",
        "\n",
        "print('------------------------------------------------------')\n",
        "\n",
        "# Números complexos (x + yj, sendo x real e y imaginário complexo)\n",
        "\n",
        "r = complex(2,5)\n",
        "print(r)\n",
        "\n",
        "w = 2 + 5j\n",
        "print(type(w))\n",
        "\n",
        "print('------------------------------------------------------')\n",
        "\n",
        "# Tipo bool (Booleana)\n",
        "\n",
        "print(2<3)\n",
        "print(2>3)\n",
        "print(not(2<3))\n",
        "print(not(2>3))\n",
        "\n",
        "\"\"\"As expressões que você viu nos dois exemplos \n",
        "são chamadas de expressões booleanas. \n",
        "Trata-se de expressões que podem ser avaliadas \n",
        "com um dos dois valores booleanos: True ou False. \n",
        "Assim, em Python, existe o tipo bool, utilizado para \n",
        "permitir o tratamento de expressões como essas.\"\"\"\n",
        "\n",
        "print('------------------------------------------------------')\n",
        "\n",
        "# Operadores matemáticos\n",
        "\n",
        "print('1. Resultado =', 2+2)  # Soma\n",
        "print('2. Resultado =', 2-1)  # Subtração\n",
        "print('3. Resultado =', 2*4)  # Multiplicação\n",
        "print('4. Resultado =', 2/4)  # Divisão\n",
        "print('5. Resultado =', 5//2) # Divisão inteira\n",
        "print('6. Resultado =', 5%2)  # Resto da divisão inteira\n",
        "print('7. Resultado =', 2**3) # Exponenciação\n",
        "print('8. Resultado =', abs(-2.5)) # Valor absoluto (módulo)\n",
        "\n",
        "print('------------------------------------------------------')\n",
        "\n",
        "# Operadores de comparação\n",
        "\n",
        "\"\"\"Além das operações algébricas, é possível realizar operações \n",
        "de comparação. Os operadores de comparação têm como resultado \n",
        "um valor booleano (True ou False). Observe a tabela abaixo:\"\"\"\n",
        "\n",
        "print('<   Menor que')\n",
        "print('<=  Menor ou igual a')\n",
        "print('>   Maior que')\n",
        "print('>=  Maior ou igual a')\n",
        "print('==  Igual a')\n",
        "print('!=  Diferente ou Não igual')\n",
        "\n",
        "\"\"\"Atenção!\n",
        "O operador utilizado para comparar se dois valores são iguais \n",
        "é o ==, ou seja, duplo sinal de igual. Tome cuidado para não \n",
        "confundir com o operador de atribuição, que é representado \n",
        "pelo sinal de igual apenas uma vez (=).\"\"\"\n",
        "\n",
        "print('------------------------------------------------------')\n",
        "\n",
        "# UPPER, lower e Split\n",
        "\n",
        "curso = 'Ensino a Distância'\n",
        "print(curso)         # Ensino a Distância\n",
        "print(curso.upper()) # ENSINO A DISTÂNCIA\n",
        "print(curso.lower()) # ensino a distância\n",
        "print(curso.split()) # ['Ensino', 'a', 'Distância']\n",
        "\n",
        "print('------------------------------------------------------')\n",
        "\n",
        "# Range\n",
        "\n",
        "\"\"\"\n",
        "O tipo range representa uma sequência imutável de números e frequentemente \n",
        "é usado em loops de um número específico de vezes, como o for.\n",
        "Ele pode ser chamado de maneira simples, apenas com um argumento. \n",
        "Nesse caso, a sequência começará em 0 e será incrementada de uma unidade \n",
        "até o limite do parâmetro passado (exclusive). \n",
        "Por exemplo, range(3) cria a sequência (0, 1, 2).\n",
        "Para que a sequência não comece em 0, podemos informar o início e o fim como \n",
        "parâmetros, lembrando que o parâmetro fim não entra na lista (exclusive o fim).\n",
        "O padrão é incrementar cada termo em uma unidade. \n",
        "Ou seja, a chamada range(2, 7) cria a sequência (2, 3, 4, 5, 6).\"\"\"\n",
        "\n",
        "print('------------------------------------------------------')\n",
        "\n",
        "# manipulação de sequências\n",
        "\n",
        "\"\"\"A tabela a seguir traz um pequeno conjunto dos operadores disponíveis \n",
        "em Python para manipulação de sequências. Lembre-se de que você pode \n",
        "utilizar o utilitário help no Python Console para verificar a lista completa. \n",
        "Para isso, basta digitar help(str) e pressionar [ENTER] no teclado.\"\"\"\n",
        "\n",
        "print('x in s , True se x for um subconjunto de s')\n",
        "print('x not in s , False se x for um subconjunto de s')\n",
        "print('s + t , Concatenação de s e t')\n",
        "print('n*s , Concatenação de n cópias de s')\n",
        "print('s[i] , Caractere de índice i em s')\n",
        "print('len(s) , Comprimento de s')\n",
        "print('min(s) , Menor item de s')\n",
        "print('max(s) , Maior item de s')\n",
        "\n"
      ],
      "metadata": {
        "colab": {
          "base_uri": "https://localhost:8080/"
        },
        "id": "OHHkwQLj7uRz",
        "outputId": "adf6ecec-368f-496a-9bcc-388e3bbd3744"
      },
      "execution_count": null,
      "outputs": [
        {
          "output_type": "stream",
          "name": "stdout",
          "text": [
            "lista[0] = 101\n",
            "Segundo da lista = 202\n",
            "Lista completa = [101, 202, 303, 404, 505]\n",
            "------------------------------------------------------\n",
            "A primeira pessoa é = João\n",
            "As terceiras pessoas foram = ['Ana', 'Valéria']\n",
            "A quarta pessoa é = ['Larissa']\n",
            "------------------------------------------------------\n",
            "10.5 10 1\n",
            "10.5\n",
            "10\n",
            "1\n",
            "------------------------------------------------------\n",
            "(2+5j)\n",
            "<class 'complex'>\n",
            "------------------------------------------------------\n",
            "True\n",
            "False\n",
            "False\n",
            "True\n",
            "------------------------------------------------------\n",
            "1. Resultado = 4\n",
            "2. Resultado = 1\n",
            "3. Resultado = 8\n",
            "4. Resultado = 0.5\n",
            "5. Resultado = 2\n",
            "6. Resultado = 1\n",
            "7. Resultado = 8\n",
            "8. Resultado = 2.5\n",
            "------------------------------------------------------\n",
            "<   Menor que\n",
            "<=  Menor ou igual a\n",
            ">   Maior que\n",
            ">=  Maior ou igual a\n",
            "==  Igual a\n",
            "!=  Diferente ou Não igual\n",
            "------------------------------------------------------\n",
            "Ensino a Distância\n",
            "ENSINO A DISTÂNCIA\n",
            "ensino a distância\n",
            "['Ensino', 'a', 'Distância']\n",
            "------------------------------------------------------\n",
            "------------------------------------------------------\n",
            "x in s , True se x for um subconjunto de s\n",
            "x not in s , False se x for um subconjunto de s\n",
            "s + t , Concatenação de s e t\n",
            "n*s , Concatenação de n cópias de s\n",
            "s[i] , Caractere de índice i em s\n",
            "len(s) , Comprimento de s\n",
            "min(s) , Menor item de s\n",
            "max(s) , Maior item de s\n"
          ]
        }
      ]
    },
    {
      "cell_type": "markdown",
      "source": [
        "### Missão 3 - Módulo 2"
      ],
      "metadata": {
        "id": "tAbiFgfKRlob"
      }
    },
    {
      "cell_type": "code",
      "source": [
        "# Exercício final de módulo\n",
        "\n",
        "def func():\n",
        "    x = 1\n",
        "    print(x)\n",
        "x = 10\n",
        "func()\n",
        "print(x)"
      ],
      "metadata": {
        "colab": {
          "base_uri": "https://localhost:8080/"
        },
        "id": "W_UaFdqjRv9b",
        "outputId": "3ae62e73-3756-43b4-d31a-b8f83924a542"
      },
      "execution_count": null,
      "outputs": [
        {
          "output_type": "stream",
          "name": "stdout",
          "text": [
            "1\n",
            "10\n"
          ]
        }
      ]
    }
  ]
}